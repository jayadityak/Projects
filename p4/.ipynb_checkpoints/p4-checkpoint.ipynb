{
 "cells": [
  {
   "cell_type": "code",
   "execution_count": 161,
   "id": "bb8cba63",
   "metadata": {
    "cell_type": "code",
    "deletable": false,
    "editable": false
   },
   "outputs": [],
   "source": [
    "# import and initialize otter\n",
    "import otter\n",
    "grader = otter.Notebook(\"p4.ipynb\")"
   ]
  },
  {
   "cell_type": "code",
   "execution_count": 162,
   "id": "df3e4b8e",
   "metadata": {
    "deletable": false,
    "editable": false
   },
   "outputs": [],
   "source": [
    "import p4_test"
   ]
  },
  {
   "cell_type": "code",
   "execution_count": 163,
   "id": "02c2a706",
   "metadata": {},
   "outputs": [],
   "source": [
    "# PLEASE FILL IN THE DETAILS\n",
    "# enter none if you don't have a project partner\n",
    "\n",
    "# project: p4\n",
    "# submitter: khamesra\n",
    "# partner: None\n",
    "# hours: 4"
   ]
  },
  {
   "cell_type": "markdown",
   "id": "ead68acf",
   "metadata": {
    "deletable": false,
    "editable": false
   },
   "source": [
    "## Project 4: Pokémon Battle Simulation"
   ]
  },
  {
   "cell_type": "markdown",
   "id": "04606b3f",
   "metadata": {
    "deletable": false,
    "editable": false
   },
   "source": [
    "### Learning Objectives:\n",
    "\n",
    "In this project, you will demonstrate how to\n",
    "\n",
    "* Use conditional statements to implement decisions,\n",
    "* Write functions using parameters, return values, and conditional logic,\n",
    "* Use good coding practices as outlined in Lab-P4.\n",
    "\n",
    "**Please go through [Lab-P4](https://git.doit.wisc.edu/cdis/cs/courses/cs220/cs220-s23-projects/-/tree/main/lab-p4) before working on this project.** The lab introduces some useful techniques related to this project."
   ]
  },
  {
   "cell_type": "markdown",
   "id": "d628ca36",
   "metadata": {
    "deletable": false,
    "editable": false
   },
   "source": [
    "## Testing your code:\n",
    "\n",
    "Along with this notebook, you must have downloaded the file `p4_test.py`. If you are curious about how we test your code, you can explore this file, and specifically the value of the variable `expected_json`, to understand the expected answers to the questions."
   ]
  },
  {
   "cell_type": "markdown",
   "id": "f40e773e",
   "metadata": {
    "deletable": false,
    "editable": false
   },
   "source": [
    "## Project Description:\n",
    "\n",
    "For this project, you'll be using the data from `pokemon_stats.csv` and `type_effectiveness_stats.csv` to simulate Pokémon battles and to check the compatibility for friendships between different Pokémon. This data was gathered by the Python program `gen_csv.ipynb` from the website https://www.pokemondb.net/.\n",
    "\n",
    "* To start, download `project.py`, `p4_test.py`, `type_effectiveness_stats.csv`, and `pokemon_stats.csv`.\n",
    "* You'll do all your work on this notebook, and turn it into Gradescope just as you did for the previous projects.\n",
    "\n",
    "We won't explain how to use the project module here (the code in the `project.py` file), or the dataset that you will be working with. The lab this week is designed to teach you how it works. So, before starting P4, take a look at Lab-P4."
   ]
  },
  {
   "cell_type": "markdown",
   "id": "8e325aab",
   "metadata": {
    "deletable": false,
    "editable": false
   },
   "source": [
    "## Project Requirements:\n",
    "\n",
    "\n",
    "You **may not** hardcode any answers in your code. We'll **manually deduct** points from your autograder score on Gradescope during code review.\n",
    "\n",
    "**Store** your final answer for each question in the **variable specified for each question**. This step is important because Otter grades your work by comparing the value of this variable against the correct answer.\n",
    "\n",
    "For some of the questions, we'll ask you to write (then use) a function to compute the answer. If you compute the answer **without** creating the function we ask you to write, we'll **manually deduct** points from your autograder score on Gradescope, even if the way you did it produced the correct answer.\n",
    "\n",
    "Required Functions:\n",
    "- `damage`\n",
    "- `type_bonus`\n",
    "- `get_num_types`\n",
    "- `effective_damage`\n",
    "- `num_hits`\n",
    "- `battle`\n",
    "- `friendship_score`\n",
    "\n",
    "\n",
    "In this project, you will have to write several functions and keep adding more details to them according to the instructions. When you are adding more things to your functions, you **must** follow the **Good Coding Style for Functions** described in [Lab-P4](https://git.doit.wisc.edu/cdis/cs/courses/cs220/cs220-s23-projects/-/tree/main/lab-p4). Therefore, you **must only** keep the latest version of your functions in your notebook file. You can do this by **replacing** your old function definition with the new one after you have confirmed that the new one works."
   ]
  },
  {
   "cell_type": "markdown",
   "id": "4a4beec4",
   "metadata": {
    "deletable": false,
    "editable": false
   },
   "source": [
    "## Questions and Functions:\n",
    "\n",
    "Let us start by importing all the modules we will need for this project."
   ]
  },
  {
   "cell_type": "code",
   "execution_count": 164,
   "id": "d9f07975",
   "metadata": {
    "tags": []
   },
   "outputs": [
    {
     "name": "stdout",
     "output_type": "stream",
     "text": [
      "Help on module project:\n",
      "\n",
      "NAME\n",
      "    project\n",
      "\n",
      "FUNCTIONS\n",
      "    __init__()\n",
      "        This function loads the data from 'pokemon_stats.csv' and 'type_effectiveness_stats.csv'. This function runs automatically, when the module is imported\n",
      "    \n",
      "    get_attack(pkmn)\n",
      "        get_attack(pkmn) returns the Attack of the Pokémon with the name 'pkmn'\n",
      "    \n",
      "    get_defense(pkmn)\n",
      "        get_defense(pkmn) returns the Defense of the Pokémon with the name 'pkmn'\n",
      "    \n",
      "    get_hp(pkmn)\n",
      "        get_hp(pkmn) returns the HP of the Pokémon with the name 'pkmn'\n",
      "    \n",
      "    get_region(pkmn)\n",
      "        get_region(pkmn) returns the region of the Pokémon with the name 'pkmn'\n",
      "    \n",
      "    get_sp_atk(pkmn)\n",
      "        get_sp_atk(pkmn) returns the Special Attack of the Pokémon with the name 'pkmn'\n",
      "    \n",
      "    get_sp_def(pkmn)\n",
      "        get_sp_def(pkmn) returns the Special Defense of the Pokémon with the name 'pkmn'\n",
      "    \n",
      "    get_speed(pkmn)\n",
      "        get_speed(pkmn) returns the Speed of the Pokémon with the name 'pkmn'\n",
      "    \n",
      "    get_type1(pkmn)\n",
      "        get_type1(pkmn) returns Type 1 of the Pokémon with the name 'pkmn'\n",
      "    \n",
      "    get_type2(pkmn)\n",
      "        get_type2(pkmn) returns Type 2 of the Pokémon with the name 'pkmn'\n",
      "    \n",
      "    get_type_effectiveness(attacker_type, defender_type)\n",
      "        get_type_effectiveness(attacker_type, defender_type) returns the effectiveness of attacker's type against defender's type\n",
      "    \n",
      "    print_stats(pkmn)\n",
      "        print_stats(pkmn) prints all the statistics of the Pokémon with the name 'pkmn'\n",
      "\n",
      "DATA\n",
      "    __effectiveness__ = {'Bug': {'Bug': 1.0, 'Dark': 2.0, 'Dragon': 1.0, '...\n",
      "    __pokemon__ = {'Abomasnow': {'Attack': 92, 'Defense': 75, 'HP': 90, 'N...\n",
      "\n",
      "FILE\n",
      "    c:\\users\\18128\\desktop\\cs 220\\project\\p4\\project.py\n",
      "\n",
      "\n",
      "Help on built-in function ceil in module math:\n",
      "\n",
      "ceil(x, /)\n",
      "    Return the ceiling of x as an Integral.\n",
      "    \n",
      "    This is the smallest integer >= x.\n",
      "\n"
     ]
    }
   ],
   "source": [
    "# it is considered a good coding practice to place all import statements at the top of the notebook\n",
    "import project\n",
    "import math\n",
    "# please place all your import statements in this cell if you need to import \n",
    "# any more modules for this project\n",
    "help(project)\n",
    "help(math.ceil)\n"
   ]
  },
  {
   "attachments": {
    "pokemon.jpg": {
     "image/jpeg": "[encoded data removed]"
    }
   },
   "cell_type": "markdown",
   "id": "b4db4953",
   "metadata": {},
   "source": [
    "In the first stage of this project, we will be simulating Pokémon battles. Before we proceed any further, let us take a look at the Pokémon we will be dealing with in this project (let us know what your favorite Pokémon is in a comment):\n",
    "\n",
    "![pokemon.jpg](attachment:pokemon.jpg)"
   ]
  },
  {
   "cell_type": "code",
   "execution_count": 165,
   "id": "e976c9d7",
   "metadata": {},
   "outputs": [],
   "source": [
    "# Who's your favorite Pokémon? (OPTIONAL)\n"
   ]
  },
  {
   "cell_type": "markdown",
   "id": "17cc1529",
   "metadata": {
    "deletable": false,
    "editable": false
   },
   "source": [
    "## Rules for Pokémon battles:\n",
    "\n",
    "Now, here are the *rules* governing Pokémon battles:\n",
    "\n",
    "1. A Pokémon battle takes place between two Pokémon\n",
    "2. The two Pokémon take turns attacking each other.\n",
    "3. The Pokémon with the higher **Speed** stat attacks first.\n",
    "4. On each turn, the attacking Pokémon can choose between two modes of attack - **Physical** or **Special**.\n",
    "5. In addition to the attack mode, each Pokémon can choose the **type** of its attack.\n",
    "6. Based on the move chosen by the attacking Pokémon, the defending Pokémon receives damage to its **HP**.\n",
    "7. If a Pokémon's **HP** drops to (or below) 0, it faints and therefore loses the battle.\n",
    "8. However, if one Pokémon is much stronger than the other, then the weaker Pokémon will **run away** instead of fighting."
   ]
  },
  {
   "cell_type": "markdown",
   "id": "a56a978f",
   "metadata": {
    "deletable": false,
    "editable": false
   },
   "source": [
    "Throughout this project, we will break this down into smaller parts and slowly build up to the `battle` function. Eventually the `battle` function will determine the outcome of a battle between any two Pokémon.\n",
    "\n",
    "The first thing we need to do is calculate the damage caused by one Pokémon's attack on another Pokémon. To accomplish this, we need to create the function `damage`."
   ]
  },
  {
   "cell_type": "markdown",
   "id": "e6002436",
   "metadata": {
    "deletable": false,
    "editable": false
   },
   "source": [
    "### Function 1: `damage(attack, defender)`\n",
    "\n",
    "The `attacker` can choose between two attack modes - **Physical** or **Special**. The damage caused by the attacker's **Physical** move is `10 * Attack stat of Attacker / Defense stat of Defender`, and the damage caused by the attacker's **Special** move is `10 * Sp. Atk. stat of Attacker / Sp. Def. stat of Defender`.\n",
    "\n",
    "**If the attacker wants to win, it should always choose the move which will do more damage.** So, that is what we want our function `damage` to do. We want this function to find out which mode of attack the attacker would choose, and return the damage that the attacker would do to the defender.\n",
    "\n",
    "Use the following code snippet and fill in the details to complete the `damage` function."
   ]
  },
  {
   "cell_type": "code",
   "execution_count": 166,
   "id": "467574bc",
   "metadata": {
    "tags": []
   },
   "outputs": [],
   "source": [
    "def damage(attacker, defender):\n",
    "    # TODO: replace the ... with your code\n",
    "    physical_damage = 10 * project.get_attack(attacker) / project.get_defense(defender)\n",
    "    special_damage = 10 * project.get_sp_atk(attacker) / project.get_sp_def(defender)\n",
    "    if physical_damage > special_damage:\n",
    "        return physical_damage\n",
    "    else:\n",
    "        return special_damage"
   ]
  },
  {
   "cell_type": "markdown",
   "id": "51ca5b59",
   "metadata": {
    "deletable": false,
    "editable": false
   },
   "source": [
    "Now, let's find out if this function works. Use `damage` to answer the next two questions."
   ]
  },
  {
   "cell_type": "markdown",
   "id": "25e3c9de",
   "metadata": {
    "deletable": false,
    "editable": false
   },
   "source": [
    "**Question 1:** How much damage does `Feraligatr` do to `Aipom`?"
   ]
  },
  {
   "cell_type": "code",
   "execution_count": 167,
   "id": "35157c2e",
   "metadata": {
    "scrolled": true,
    "tags": []
   },
   "outputs": [
    {
     "data": {
      "text/plain": [
       "19.09090909090909"
      ]
     },
     "execution_count": 167,
     "metadata": {},
     "output_type": "execute_result"
    }
   ],
   "source": [
    "# replace the ... with your code\n",
    "damage_feraligatr_aipom = damage(\"Feraligatr\",\"Aipom\")\n",
    "\n",
    "damage_feraligatr_aipom"
   ]
  },
  {
   "cell_type": "code",
   "execution_count": 168,
   "id": "2c77f214",
   "metadata": {
    "deletable": false,
    "editable": false
   },
   "outputs": [
    {
     "data": {
      "text/html": [
       "<p><strong><pre style='display: inline;'>q1</pre></strong> passed! ✨</p>"
      ],
      "text/plain": [
       "q1 results: All test cases passed!"
      ]
     },
     "execution_count": 168,
     "metadata": {},
     "output_type": "execute_result"
    }
   ],
   "source": [
    "grader.check(\"q1\")"
   ]
  },
  {
   "cell_type": "markdown",
   "id": "c3719cd4",
   "metadata": {
    "deletable": false,
    "editable": false
   },
   "source": [
    "**Question 2:** How much damage does `Lucario` do to `Klawf`?"
   ]
  },
  {
   "cell_type": "code",
   "execution_count": 169,
   "id": "d1f0aefd",
   "metadata": {
    "tags": []
   },
   "outputs": [
    {
     "data": {
      "text/plain": [
       "20.90909090909091"
      ]
     },
     "execution_count": 169,
     "metadata": {},
     "output_type": "execute_result"
    }
   ],
   "source": [
    "# replace the ... with your code\n",
    "damage_lucario_klawf = damage(\"Lucario\",\"Klawf\")\n",
    "\n",
    "damage_lucario_klawf"
   ]
  },
  {
   "cell_type": "code",
   "execution_count": 170,
   "id": "091d0b55",
   "metadata": {
    "deletable": false,
    "editable": false
   },
   "outputs": [
    {
     "data": {
      "text/html": [
       "<p><strong><pre style='display: inline;'>q2</pre></strong> passed! 🌈</p>"
      ],
      "text/plain": [
       "q2 results: All test cases passed!"
      ]
     },
     "execution_count": 170,
     "metadata": {},
     "output_type": "execute_result"
    }
   ],
   "source": [
    "grader.check(\"q2\")"
   ]
  },
  {
   "cell_type": "markdown",
   "id": "cf7d5ff7",
   "metadata": {
    "deletable": false,
    "editable": false
   },
   "source": [
    "In addition to choosing the attack **mode** (i.e. **Physical** or **Special**), the attacker can also (sometimes) choose the **type** of attack. Before we figure out what type the attacker should choose, we first need to find out the *effect* of the attack on the defender. Each attack type offers a **type bonus** to the attack damage that we calculated with the `damage` function.\n",
    "\n",
    "If the attacker chooses an attack of type `attack_type` against a defender with only one type, `type1` (i.e. its `type2` is `DNE`), then the **type bonus** of this attack is `get_type_effectiveness(attack_type, type1)`. If the defender has two types `type1` and `type2`, then the **type bonus** of this attack is `get_type_effectiveness(attack_type, type1) * get_type_effectiveness(attack_type, type2)`.\n",
    "\n",
    "For example, let the `attack_type` be `Bug` and the defender be the Pokémon `Charmander`. `Charmander` has only one type, `Fire` (with its `type2` being `DNE`). In this case, we see that"
   ]
  },
  {
   "cell_type": "code",
   "execution_count": 171,
   "id": "1eef5547",
   "metadata": {},
   "outputs": [
    {
     "data": {
      "text/plain": [
       "0.5"
      ]
     },
     "execution_count": 171,
     "metadata": {},
     "output_type": "execute_result"
    }
   ],
   "source": [
    "# the effectiveness of Bug against Fire is...\n",
    "project.get_type_effectiveness(\"Bug\", \"Fire\")"
   ]
  },
  {
   "cell_type": "markdown",
   "id": "275c2cd1",
   "metadata": {
    "deletable": false,
    "editable": false
   },
   "source": [
    "Therefore, the type bonus of a `Fire` type attack on `Charmander` is `0.5`. On the other hand, consider a `Fire` type attack on the Pokémon `Bulbasaur`. `Bulbasaur` has 2 types, `Grass` and `Poison`. In this case, we see that"
   ]
  },
  {
   "cell_type": "code",
   "execution_count": 172,
   "id": "cc938f00",
   "metadata": {},
   "outputs": [
    {
     "data": {
      "text/plain": [
       "2.0"
      ]
     },
     "execution_count": 172,
     "metadata": {},
     "output_type": "execute_result"
    }
   ],
   "source": [
    "# the effectiveness of Fire against Grass is...\n",
    "project.get_type_effectiveness(\"Fire\", \"Grass\")"
   ]
  },
  {
   "cell_type": "code",
   "execution_count": 173,
   "id": "2029c9c2",
   "metadata": {},
   "outputs": [
    {
     "data": {
      "text/plain": [
       "1.0"
      ]
     },
     "execution_count": 173,
     "metadata": {},
     "output_type": "execute_result"
    }
   ],
   "source": [
    "# the effectiveness of Fire against Poison is...\n",
    "project.get_type_effectiveness(\"Fire\", \"Poison\")"
   ]
  },
  {
   "cell_type": "markdown",
   "id": "3bb03fd9",
   "metadata": {
    "deletable": false,
    "editable": false
   },
   "source": [
    "Therefore, the type bonus of a `Fire` type attack on `Bulbasaur` is the product of these two numbers `2.0 * 1.0 = 2.0`."
   ]
  },
  {
   "cell_type": "markdown",
   "id": "800edc48",
   "metadata": {
    "deletable": false,
    "editable": false
   },
   "source": [
    "### Function 2: `type_bonus(attack_type, defender)`\n",
    "We are now ready to write the definition of the `type_bonus` function, which will calculate the type bonus of an `attack_type` against a `defender`. We have provided a code snippet for you to work with. You may rewrite the entire function from scratch if you want to."
   ]
  },
  {
   "cell_type": "code",
   "execution_count": 174,
   "id": "0a9c69a4",
   "metadata": {
    "tags": []
   },
   "outputs": [],
   "source": [
    "def type_bonus(attack_type, defender):\n",
    "    # TODO: store the `type1` and `type2` of the `defender` in variables \n",
    "    #       `defender_type1` and `defender_type2`\n",
    "    # TODO: replace the ... with your code\n",
    "    defender_type1 = project.get_type1(defender)\n",
    "    defender_type2 = project.get_type2(defender)\n",
    "    if defender_type2 == 'DNE':\n",
    "        bonus = project.get_type_effectiveness(attack_type, defender_type1)\n",
    "        return bonus\n",
    "    else:\n",
    "        bonus = project.get_type_effectiveness(attack_type, defender_type1) * project.get_type_effectiveness(attack_type, defender_type2)\n",
    "        return bonus"
   ]
  },
  {
   "cell_type": "markdown",
   "id": "bb6f7e8d",
   "metadata": {
    "deletable": false,
    "editable": false
   },
   "source": [
    "**Question 3:** How effective is `Poison` type against `Rayquaza`?"
   ]
  },
  {
   "cell_type": "code",
   "execution_count": 175,
   "id": "1dbb287c",
   "metadata": {
    "tags": []
   },
   "outputs": [
    {
     "data": {
      "text/plain": [
       "1.0"
      ]
     },
     "execution_count": 175,
     "metadata": {},
     "output_type": "execute_result"
    }
   ],
   "source": [
    "# replace the ... with your code\n",
    "bonus_poison_rayquaza = type_bonus(\"Poison\", \"Rayquaza\")\n",
    "bonus_poison_rayquaza"
   ]
  },
  {
   "cell_type": "code",
   "execution_count": 176,
   "id": "cb7c6cb0",
   "metadata": {
    "deletable": false,
    "editable": false
   },
   "outputs": [
    {
     "data": {
      "text/html": [
       "<p><strong><pre style='display: inline;'>q3</pre></strong> passed! 🎉</p>"
      ],
      "text/plain": [
       "q3 results: All test cases passed!"
      ]
     },
     "execution_count": 176,
     "metadata": {},
     "output_type": "execute_result"
    }
   ],
   "source": [
    "grader.check(\"q3\")"
   ]
  },
  {
   "cell_type": "markdown",
   "id": "3639caf9",
   "metadata": {
    "deletable": false,
    "editable": false
   },
   "source": [
    "**Question 4:** How effective is `Bug` type against `Mew`?"
   ]
  },
  {
   "cell_type": "code",
   "execution_count": 177,
   "id": "5fc80c91",
   "metadata": {
    "tags": []
   },
   "outputs": [
    {
     "data": {
      "text/plain": [
       "2.0"
      ]
     },
     "execution_count": 177,
     "metadata": {},
     "output_type": "execute_result"
    }
   ],
   "source": [
    "# replace the ... with your code\n",
    "bonus_bug_mew = type_bonus(\"Bug\", \"Mew\")\n",
    "\n",
    "bonus_bug_mew"
   ]
  },
  {
   "cell_type": "code",
   "execution_count": 178,
   "id": "3f081412",
   "metadata": {
    "deletable": false,
    "editable": false
   },
   "outputs": [
    {
     "data": {
      "text/html": [
       "<p><strong><pre style='display: inline;'>q4</pre></strong> passed! 💯</p>"
      ],
      "text/plain": [
       "q4 results: All test cases passed!"
      ]
     },
     "execution_count": 178,
     "metadata": {},
     "output_type": "execute_result"
    }
   ],
   "source": [
    "grader.check(\"q4\")"
   ]
  },
  {
   "cell_type": "markdown",
   "id": "1e8a439c",
   "metadata": {
    "deletable": false,
    "editable": false
   },
   "source": [
    "When an `attacker` chooses an attack of type `attack_type` against a `defender`, the damage done is `type_bonus(attack_type, defender) * damage(attacker, defender)`.\n",
    "\n",
    "An attacker can choose between any of its types for its attack type. So, if an attacker has two types, it can choose either type 1 or type 2 as its attack type. However, if it has only one type (i.e. its `type2` is `DNE`), it has no choice but to choose type 1 as its attack type. For example, a Pokémon like `Weedle` which has two types (`Bug` and `Poison`) can choose to make its attack either `Bug` type or `Poison` type. On the other hand, a Pokémon like `Magikarp` which has only one type (`Water`) can only make its attack a `Water` type attack.\n",
    "\n",
    "While a Pokémon with only one type doesn't have a choice, **a Pokémon with two types can choose its attack between its two types**. If the attacker wants to win, it should always choose the type which will do more damage.\n",
    "\n",
    "Let us consider the case when an **attacker has only one type**. (i.e. `type2` is `DNE`). To illustrate this, we take `Magikarp` as the attacker and `Charizard` as the defender. Let us first ensure that `Magikarp` has only 1 type."
   ]
  },
  {
   "cell_type": "code",
   "execution_count": 179,
   "id": "c0c84df7",
   "metadata": {
    "scrolled": true
   },
   "outputs": [
    {
     "data": {
      "text/plain": [
       "'Water'"
      ]
     },
     "execution_count": 179,
     "metadata": {},
     "output_type": "execute_result"
    }
   ],
   "source": [
    "# type1 of Magikarp is...\n",
    "project.get_type1(\"Magikarp\")"
   ]
  },
  {
   "cell_type": "code",
   "execution_count": 180,
   "id": "7d125be6",
   "metadata": {},
   "outputs": [
    {
     "data": {
      "text/plain": [
       "'DNE'"
      ]
     },
     "execution_count": 180,
     "metadata": {},
     "output_type": "execute_result"
    }
   ],
   "source": [
    "# and type2 of Magikarp is...\n",
    "project.get_type2(\"Magikarp\")"
   ]
  },
  {
   "cell_type": "markdown",
   "id": "197120a7",
   "metadata": {
    "deletable": false,
    "editable": false
   },
   "source": [
    "In this case, we simply take the `type_bonus` of the first type against `Charizard` (the defender)."
   ]
  },
  {
   "cell_type": "code",
   "execution_count": 181,
   "id": "dcce3b23",
   "metadata": {},
   "outputs": [
    {
     "data": {
      "text/plain": [
       "2.0"
      ]
     },
     "execution_count": 181,
     "metadata": {},
     "output_type": "execute_result"
    }
   ],
   "source": [
    "# so the bonus that Magikarp gets against Charizard is...\n",
    "bonus = type_bonus(project.get_type1(\"Magikarp\"), \"Charizard\")\n",
    "\n",
    "bonus"
   ]
  },
  {
   "cell_type": "markdown",
   "id": "21425782",
   "metadata": {
    "deletable": false,
    "editable": false
   },
   "source": [
    "`bonus` should contain the value `2.0`. To calculate the effective damage that Magikarp does to Charizard, we take `damage(\"Magikarp\", \"Charizard\") * bonus`"
   ]
  },
  {
   "cell_type": "markdown",
   "id": "b4994deb",
   "metadata": {
    "deletable": false,
    "editable": false
   },
   "source": [
    "We will now consider the case where an **attacker has two types**.\n",
    "\n",
    "To illustrate this, we take `Weedle` as the `attacker` and `Charizard` as the `defender`. If your `type_bonus` function works correctly the values obtained by measuring the type bonus of `Weedle` against `Charizard` are as follows:"
   ]
  },
  {
   "cell_type": "code",
   "execution_count": 182,
   "id": "6fca50c6",
   "metadata": {
    "scrolled": false
   },
   "outputs": [
    {
     "data": {
      "text/plain": [
       "0.25"
      ]
     },
     "execution_count": 182,
     "metadata": {},
     "output_type": "execute_result"
    }
   ],
   "source": [
    "# the type bonus of type1 (Bug) of Weedle against Charizard is...\n",
    "type_bonus(project.get_type1(\"Weedle\"), \"Charizard\")"
   ]
  },
  {
   "cell_type": "code",
   "execution_count": 183,
   "id": "0833e89f",
   "metadata": {},
   "outputs": [
    {
     "data": {
      "text/plain": [
       "1.0"
      ]
     },
     "execution_count": 183,
     "metadata": {},
     "output_type": "execute_result"
    }
   ],
   "source": [
    "# and the type bonus of type2 (Poison) of Weedle against Charizard is...\n",
    "type_bonus(project.get_type2(\"Weedle\"), \"Charizard\")"
   ]
  },
  {
   "cell_type": "markdown",
   "id": "ab22e4e6",
   "metadata": {
    "deletable": false,
    "editable": false
   },
   "source": [
    "Clearly, `Weedle`'s second type (`Poison`) causes more damage to `Charizard` than its first type (`Bug`). So, **`Weedle` would choose its `Poison` type attack instead of its `Bug` type attack against `Charizard`.**\n",
    "\n",
    "Therefore, the effective `bonus` is `max(0.25, 1.0) = 1.0`. So, the effective damage that `Weedle` does to `Charizard` is `damage(\"Weedle\", \"Charizard\") * 1.0`."
   ]
  },
  {
   "cell_type": "markdown",
   "id": "c81702a9",
   "metadata": {
    "deletable": false,
    "editable": false
   },
   "source": [
    "### Function 3: `effective_damage(attacker, defender)`\n",
    "\n",
    "We now write a function `effective_damage` to compute the actual damage that an `attacker` would do to the `defender`, taking into account, both the **attack mode** and **attack type**.\n",
    "\n",
    "The `effective_damage` function definition **must** invoke the `get_num_types` function you wrote during lab. Create a new cell in your Jupyter notebook above the definition of `effective_damage` and copy/paste the definition of `get_num_types` there. **We'll manually deduct points** if you don't invoke `get_num_types`.\n",
    "\n",
    "Start with the code snippet provided below. Use the `effective_damage` function to answer the next three questions."
   ]
  },
  {
   "cell_type": "code",
   "execution_count": 184,
   "id": "182cd116",
   "metadata": {},
   "outputs": [],
   "source": [
    "def get_num_types(pkmn):\n",
    "    if project.get_type1(pkmn) == 'DNE':\n",
    "        return 0\n",
    "    elif project.get_type2(pkmn) == 'DNE':\n",
    "        return 1\n",
    "    else:\n",
    "        return 2"
   ]
  },
  {
   "cell_type": "code",
   "execution_count": 185,
   "id": "1285d758",
   "metadata": {
    "tags": []
   },
   "outputs": [],
   "source": [
    "def effective_damage(attacker, defender):\n",
    "    pass # TODO: replace with your code\n",
    "    #TODO: check if the attacker has two types; you must invoke the relevant \n",
    "    #      function you defined in Lab-P4\n",
    "    #TODO: compute the bonus of the attacker's type(s) against the defender\n",
    "    #TODO: find the attack_type with the higher bonus\n",
    "    #TODO: compute the damage caused by attack, considering the higher bonus, and return it\n",
    "    if get_num_types(attacker) == 1 :\n",
    "        return damage(attacker,defender) * type_bonus(project.get_type1(attacker), defender)\n",
    "    return damage(attacker,defender) * max(type_bonus(project.get_type1(attacker), defender),type_bonus(project.get_type2(attacker), defender))\n",
    "    "
   ]
  },
  {
   "cell_type": "markdown",
   "id": "d08a5356",
   "metadata": {
    "deletable": false,
    "editable": false
   },
   "source": [
    "**Question 5:** How much damage does `Pikachu` do to `Weedle`?"
   ]
  },
  {
   "cell_type": "code",
   "execution_count": 186,
   "id": "756d5f7c",
   "metadata": {
    "tags": []
   },
   "outputs": [
    {
     "data": {
      "text/plain": [
       "25.0"
      ]
     },
     "execution_count": 186,
     "metadata": {},
     "output_type": "execute_result"
    }
   ],
   "source": [
    "# replace the ... with your code\n",
    "eff_damage_pikachu_weedle = effective_damage(\"Pikachu\", \"Weedle\")\n",
    "\n",
    "eff_damage_pikachu_weedle"
   ]
  },
  {
   "cell_type": "code",
   "execution_count": 187,
   "id": "6d6e5bc2",
   "metadata": {
    "deletable": false,
    "editable": false
   },
   "outputs": [
    {
     "data": {
      "text/html": [
       "<p><strong><pre style='display: inline;'>q5</pre></strong> passed! 🌟</p>"
      ],
      "text/plain": [
       "q5 results: All test cases passed!"
      ]
     },
     "execution_count": 187,
     "metadata": {},
     "output_type": "execute_result"
    }
   ],
   "source": [
    "grader.check(\"q5\")"
   ]
  },
  {
   "cell_type": "markdown",
   "id": "5c3d6661",
   "metadata": {
    "deletable": false,
    "editable": false
   },
   "source": [
    "**Question 6:** How much damage does `Cloyster` do to `Lapras`?"
   ]
  },
  {
   "cell_type": "code",
   "execution_count": 188,
   "id": "ed49723e",
   "metadata": {
    "tags": []
   },
   "outputs": [
    {
     "data": {
      "text/plain": [
       "5.9375"
      ]
     },
     "execution_count": 188,
     "metadata": {},
     "output_type": "execute_result"
    }
   ],
   "source": [
    "# replace the ... with your code\n",
    "eff_damage_cloyster_lapras = effective_damage(\"Cloyster\", \"Lapras\")\n",
    "\n",
    "eff_damage_cloyster_lapras"
   ]
  },
  {
   "cell_type": "code",
   "execution_count": 189,
   "id": "95a6ac11",
   "metadata": {
    "deletable": false,
    "editable": false
   },
   "outputs": [
    {
     "data": {
      "text/html": [
       "<p><strong><pre style='display: inline;'>q6</pre></strong> passed! 🎉</p>"
      ],
      "text/plain": [
       "q6 results: All test cases passed!"
      ]
     },
     "execution_count": 189,
     "metadata": {},
     "output_type": "execute_result"
    }
   ],
   "source": [
    "grader.check(\"q6\")"
   ]
  },
  {
   "cell_type": "markdown",
   "id": "25005b6d",
   "metadata": {
    "deletable": false,
    "editable": false
   },
   "source": [
    "**Question 7:** How much damage does `Charizard` do to `Wailmer`?"
   ]
  },
  {
   "cell_type": "code",
   "execution_count": 190,
   "id": "e2244f11",
   "metadata": {
    "tags": []
   },
   "outputs": [
    {
     "data": {
      "text/plain": [
       "31.142857142857142"
      ]
     },
     "execution_count": 190,
     "metadata": {},
     "output_type": "execute_result"
    }
   ],
   "source": [
    "# replace the ... with your code\n",
    "eff_damage_charizard_wailmer = effective_damage(\"Charizard\", \"Wailmer\")\n",
    "\n",
    "eff_damage_charizard_wailmer"
   ]
  },
  {
   "cell_type": "code",
   "execution_count": 191,
   "id": "64a032cf",
   "metadata": {
    "deletable": false,
    "editable": false
   },
   "outputs": [
    {
     "data": {
      "text/html": [
       "<p><strong><pre style='display: inline;'>q7</pre></strong> passed! 🌈</p>"
      ],
      "text/plain": [
       "q7 results: All test cases passed!"
      ]
     },
     "execution_count": 191,
     "metadata": {},
     "output_type": "execute_result"
    }
   ],
   "source": [
    "grader.check(\"q7\")"
   ]
  },
  {
   "cell_type": "markdown",
   "id": "eeb32631",
   "metadata": {
    "deletable": false,
    "editable": false
   },
   "source": [
    "### Function 4: `num_hits(attacker, defender)`\n",
    "\n",
    "Now that we have a way of calculating the damage done by the Pokémon during battle, we have to calculate **how many hits** each Pokémon can take before fainting.\n",
    "\n",
    "The number of hits a Pokémon can take is calculated by taking its **HP** and dividing it by the attacking Pokémon's **effective damage**.\n",
    "\n",
    "If the defending pokemon has `30 HP` and the attacking pokemon does `20` effective damage each turn, it will take `2` turns before the defender faints instead of `30 / 20 = 1.5`. You might want to use the method `math.ceil` here. First import the module `math` (remember to add the `import math` call at the **top of your notebook** in the cell where you have been asked to place all `import` statements) and then look up the documentation of `math.ceil` to see how you could use it."
   ]
  },
  {
   "cell_type": "code",
   "execution_count": 192,
   "id": "0b9a186f",
   "metadata": {
    "tags": []
   },
   "outputs": [],
   "source": [
    "def num_hits(attacker, defender):\n",
    "    \n",
    "    hits = project.get_hp(defender) / effective_damage(attacker,defender)\n",
    "    hits_ceil = math.ceil(hits)\n",
    "    return hits_ceil\n",
    " # TODO: replace with your code\n"
   ]
  },
  {
   "cell_type": "markdown",
   "id": "46231a30",
   "metadata": {
    "deletable": false,
    "editable": false
   },
   "source": [
    "Use `num_hits` to answer the next two questions."
   ]
  },
  {
   "cell_type": "markdown",
   "id": "f32f65ad",
   "metadata": {
    "deletable": false,
    "editable": false
   },
   "source": [
    "**Question 8:** How many hits can the *defending* Pokémon `Garchomp` take from `Golem`(*attacker*)?"
   ]
  },
  {
   "cell_type": "code",
   "execution_count": 193,
   "id": "dbaa9fcb",
   "metadata": {
    "tags": []
   },
   "outputs": [
    {
     "data": {
      "text/plain": [
       "9"
      ]
     },
     "execution_count": 193,
     "metadata": {},
     "output_type": "execute_result"
    }
   ],
   "source": [
    "# replace the ... with your code\n",
    "hits_garchomp_golem = num_hits(\"Golem\", \"Garchomp\")\n",
    "\n",
    "hits_garchomp_golem"
   ]
  },
  {
   "cell_type": "code",
   "execution_count": 194,
   "id": "89c89f41",
   "metadata": {
    "deletable": false,
    "editable": false
   },
   "outputs": [
    {
     "data": {
      "text/html": [
       "<p><strong><pre style='display: inline;'>q8</pre></strong> passed! 🍀</p>"
      ],
      "text/plain": [
       "q8 results: All test cases passed!"
      ]
     },
     "execution_count": 194,
     "metadata": {},
     "output_type": "execute_result"
    }
   ],
   "source": [
    "grader.check(\"q8\")"
   ]
  },
  {
   "cell_type": "markdown",
   "id": "9e338547",
   "metadata": {
    "deletable": false,
    "editable": false
   },
   "source": [
    "**Question 9:** How many hits can the *defending* Pokémon `Mew` take from `Shinx`(*attacker*)?"
   ]
  },
  {
   "cell_type": "code",
   "execution_count": 195,
   "id": "dd0f2a5e",
   "metadata": {
    "tags": []
   },
   "outputs": [
    {
     "data": {
      "text/plain": [
       "16"
      ]
     },
     "execution_count": 195,
     "metadata": {},
     "output_type": "execute_result"
    }
   ],
   "source": [
    "# replace the ... with your code\n",
    "hits_mew_shinx = num_hits(\"Shinx\", \"Mew\")\n",
    "\n",
    "hits_mew_shinx"
   ]
  },
  {
   "cell_type": "code",
   "execution_count": 196,
   "id": "4eaacf1f",
   "metadata": {
    "deletable": false,
    "editable": false
   },
   "outputs": [
    {
     "data": {
      "text/html": [
       "<p><strong><pre style='display: inline;'>q9</pre></strong> passed! ✨</p>"
      ],
      "text/plain": [
       "q9 results: All test cases passed!"
      ]
     },
     "execution_count": 196,
     "metadata": {},
     "output_type": "execute_result"
    }
   ],
   "source": [
    "grader.check(\"q9\")"
   ]
  },
  {
   "cell_type": "markdown",
   "id": "33dd2e73",
   "metadata": {
    "deletable": false,
    "editable": false
   },
   "source": [
    "## Function 5: `battle(pkmn1, pkmn2)`\n",
    "\n",
    "With the functions we have created so far, we can now finally start creating our battle simulator.\n",
    "\n",
    "This function should take in two Pokémon `pkmn1`, and `pkmn2` as its parameters, and it should output the name of the Pokémon which wins the battle.\n",
    "\n",
    "However, it might still be a little overwhelming to code all the rules in one go. So, let us break it up into several steps, and implement the function over the next several questions."
   ]
  },
  {
   "cell_type": "code",
   "execution_count": 197,
   "id": "8945a9da",
   "metadata": {
    "tags": []
   },
   "outputs": [],
   "source": [
    "def battle(pkmn1, pkmn2):\n",
    "    pass # TODO: replace with your code\n",
    "    # TODO: let us ignore the rules that have to do with Speed \n",
    "    #       and Pokémon running away for now\n",
    "    # TODO: implement code to check whether pkmn1 or pkmn2 can take more \n",
    "    #       hits from the other before fainting\n",
    "    # TODO: the Pokémon which can take more hits before fainting should be the winner\n",
    "    # TODO: if the two Pokémon can take the same number of hits from \n",
    "    #       the other, your output should be 'Draw'\n",
    "    if num_hits(pkmn1, pkmn2) - num_hits(pkmn2, pkmn1) >= 10:\n",
    "        return pkmn1 + \" ran away\"\n",
    "    elif num_hits(pkmn2, pkmn1) - num_hits(pkmn1, pkmn2) >= 10:\n",
    "        return pkmn2 + \" ran away\"\n",
    "    elif num_hits(pkmn1,pkmn2) > num_hits(pkmn2,pkmn1) :\n",
    "        return pkmn2 \n",
    "    elif num_hits(pkmn2,pkmn1) > num_hits(pkmn1,pkmn2) :\n",
    "        return pkmn1 \n",
    "    elif project.get_speed(pkmn1) > project.get_speed(pkmn2) :\n",
    "        return pkmn1\n",
    "    elif project.get_speed(pkmn2) > project.get_speed(pkmn1) :\n",
    "        return pkmn2\n",
    "    else:\n",
    "        return \"Draw\""
   ]
  },
  {
   "cell_type": "markdown",
   "id": "6cccc6e1",
   "metadata": {
    "deletable": false,
    "editable": false
   },
   "source": [
    "**Question 10**: What is the output of `battle('Haunter', 'Rhydon')`?"
   ]
  },
  {
   "cell_type": "code",
   "execution_count": 198,
   "id": "640f9ac5",
   "metadata": {
    "scrolled": true,
    "tags": []
   },
   "outputs": [
    {
     "data": {
      "text/plain": [
       "'Rhydon'"
      ]
     },
     "execution_count": 198,
     "metadata": {},
     "output_type": "execute_result"
    }
   ],
   "source": [
    "# replace the ... with your code\n",
    "battle_haunter_rhydon = battle('Haunter', 'Rhydon')\n",
    "\n",
    "\n",
    "battle_haunter_rhydon"
   ]
  },
  {
   "cell_type": "code",
   "execution_count": 199,
   "id": "7cc8baa7",
   "metadata": {
    "deletable": false,
    "editable": false
   },
   "outputs": [
    {
     "data": {
      "text/html": [
       "<p><strong><pre style='display: inline;'>q10</pre></strong> passed! 🚀</p>"
      ],
      "text/plain": [
       "q10 results: All test cases passed!"
      ]
     },
     "execution_count": 199,
     "metadata": {},
     "output_type": "execute_result"
    }
   ],
   "source": [
    "grader.check(\"q10\")"
   ]
  },
  {
   "cell_type": "markdown",
   "id": "12036300",
   "metadata": {
    "deletable": false,
    "editable": false
   },
   "source": [
    "**Question 11**: What is the output of `battle('Espeon', 'Raichu')`??"
   ]
  },
  {
   "cell_type": "code",
   "execution_count": 200,
   "id": "269689cc",
   "metadata": {
    "scrolled": true,
    "tags": []
   },
   "outputs": [
    {
     "data": {
      "text/plain": [
       "'Espeon'"
      ]
     },
     "execution_count": 200,
     "metadata": {},
     "output_type": "execute_result"
    }
   ],
   "source": [
    "# replace the ... with your code\n",
    "battle_espeon_raichu = battle('Espeon', 'Raichu')\n",
    "\n",
    "battle_espeon_raichu"
   ]
  },
  {
   "cell_type": "code",
   "execution_count": 201,
   "id": "c02aedbf",
   "metadata": {
    "deletable": false,
    "editable": false
   },
   "outputs": [
    {
     "data": {
      "text/html": [
       "<p><strong><pre style='display: inline;'>q11</pre></strong> passed! 🍀</p>"
      ],
      "text/plain": [
       "q11 results: All test cases passed!"
      ]
     },
     "execution_count": 201,
     "metadata": {},
     "output_type": "execute_result"
    }
   ],
   "source": [
    "grader.check(\"q11\")"
   ]
  },
  {
   "cell_type": "markdown",
   "id": "8d8407fe",
   "metadata": {
    "deletable": false,
    "editable": false
   },
   "source": [
    "The function `battle` seems to be working well so far, but it does not quite follow all the rules that we laid out at the beginning. The function currently returns `\"Draw\"` if both Pokémon can take the same number of hits from each other. However, when we look at the rules from above, we notice that the Pokémon with **higher speed attacks first**. This means that even if both Pokémon go down in the same number of hits, the Pokémon with the higher **speed** stat will attack first, and will therefore land its last hit before the other Pokémon can hit back.\n",
    "\n",
    "In other words, if both Pokémon faint within the same number of moves, the Pokémon with the higher **speed** stat should win the battle. Go back and modify `battle` so that if both Pokémon faint in the same number of moves, the Pokémon with the higher **speed** wins. If they both have the same **speed**, then the battle should be a `'Draw'`.\n",
    "\n",
    "**Warning:** Do **not** redefine `battle`. You may make a *copy* of the function as it is when you start working on updating its definition, but the notebook you turn in should only have *one* definition of `battle`. So, you should **delete** any older versions of the function after your new code demonstrably works."
   ]
  },
  {
   "cell_type": "markdown",
   "id": "cd303ab4",
   "metadata": {
    "deletable": false,
    "editable": false
   },
   "source": [
    "**Question 12**: What is the output of `battle('Garchomp', 'Hydreigon')`?"
   ]
  },
  {
   "cell_type": "code",
   "execution_count": 202,
   "id": "ac7a11b8",
   "metadata": {
    "scrolled": true,
    "tags": []
   },
   "outputs": [
    {
     "data": {
      "text/plain": [
       "'Garchomp'"
      ]
     },
     "execution_count": 202,
     "metadata": {},
     "output_type": "execute_result"
    }
   ],
   "source": [
    "# replace the ... with your code\n",
    "battle_garchomp_hydreigon = battle('Garchomp', 'Hydreigon')\n",
    "\n",
    "battle_garchomp_hydreigon"
   ]
  },
  {
   "cell_type": "code",
   "execution_count": 203,
   "id": "1ffb5e6f",
   "metadata": {
    "deletable": false,
    "editable": false
   },
   "outputs": [
    {
     "data": {
      "text/html": [
       "<p><strong><pre style='display: inline;'>q12</pre></strong> passed! 🚀</p>"
      ],
      "text/plain": [
       "q12 results: All test cases passed!"
      ]
     },
     "execution_count": 203,
     "metadata": {},
     "output_type": "execute_result"
    }
   ],
   "source": [
    "grader.check(\"q12\")"
   ]
  },
  {
   "cell_type": "markdown",
   "id": "509f8ed8",
   "metadata": {
    "deletable": false,
    "editable": false
   },
   "source": [
    "**Question 13**: What is the output of `battle('Gulpin', 'Mudkip')`?"
   ]
  },
  {
   "cell_type": "code",
   "execution_count": 204,
   "id": "494be289",
   "metadata": {
    "scrolled": true,
    "tags": []
   },
   "outputs": [
    {
     "data": {
      "text/plain": [
       "'Draw'"
      ]
     },
     "execution_count": 204,
     "metadata": {},
     "output_type": "execute_result"
    }
   ],
   "source": [
    "# replace the ... with your code\n",
    "battle_gulpin_mudkip = battle('Gulpin', 'Mudkip')\n",
    "battle_gulpin_mudkip"
   ]
  },
  {
   "cell_type": "code",
   "execution_count": 205,
   "id": "0d52c1ba",
   "metadata": {
    "deletable": false,
    "editable": false
   },
   "outputs": [
    {
     "data": {
      "text/html": [
       "<p><strong><pre style='display: inline;'>q13</pre></strong> passed! ✨</p>"
      ],
      "text/plain": [
       "q13 results: All test cases passed!"
      ]
     },
     "execution_count": 205,
     "metadata": {},
     "output_type": "execute_result"
    }
   ],
   "source": [
    "grader.check(\"q13\")"
   ]
  },
  {
   "cell_type": "markdown",
   "id": "78c3e619",
   "metadata": {
    "deletable": false,
    "editable": false
   },
   "source": [
    "One last rule we need to implement is the **runaway** feature. For example, consider a battle between `Pikachu` and `Glaceon`. `Glaceon` can take `13` hits from `Pikachu`, but `Pikachu` can only take `2` hits from `Glaceon`. Because of this massive difference, `Pikachu` should choose to **run away** from this battle rather than attempt to fight.\n",
    "\n",
    "Modify `battle` so that if one Pokémon can take **at least** 10 more hits than the other, the weaker one runs away. The function should return `\"<pkmn_name> ran away\"`. Make sure the function says the Pokémon that can take fewer hits ran away.\n",
    "\n",
    "**Hint:** Even though this is the *last* rule to implement, it is the *first* thing that the battle function should check. Also, here's another reminder to *not* redefine `battle`."
   ]
  },
  {
   "cell_type": "markdown",
   "id": "cd7fc4a4",
   "metadata": {
    "deletable": false,
    "editable": false
   },
   "source": [
    "**Question 14**: What is the output of `battle('Miraidon', 'Eevee')`?"
   ]
  },
  {
   "cell_type": "code",
   "execution_count": 206,
   "id": "a8bf381b",
   "metadata": {
    "scrolled": true,
    "tags": []
   },
   "outputs": [
    {
     "data": {
      "text/plain": [
       "'Eevee ran away'"
      ]
     },
     "execution_count": 206,
     "metadata": {},
     "output_type": "execute_result"
    }
   ],
   "source": [
    "# replace the ... with your code\n",
    "battle_miraidon_eevee = battle('Miraidon', 'Eevee')\n",
    "\n",
    "battle_miraidon_eevee"
   ]
  },
  {
   "cell_type": "code",
   "execution_count": 207,
   "id": "b7abf2b8",
   "metadata": {
    "deletable": false,
    "editable": false
   },
   "outputs": [
    {
     "data": {
      "text/html": [
       "<p><strong><pre style='display: inline;'>q14</pre></strong> passed! 🙌</p>"
      ],
      "text/plain": [
       "q14 results: All test cases passed!"
      ]
     },
     "execution_count": 207,
     "metadata": {},
     "output_type": "execute_result"
    }
   ],
   "source": [
    "grader.check(\"q14\")"
   ]
  },
  {
   "cell_type": "markdown",
   "id": "03f27a74",
   "metadata": {
    "deletable": false,
    "editable": false
   },
   "source": [
    "**Question 15**: What is the output of `battle('Onix', 'Hydreigon')`?"
   ]
  },
  {
   "cell_type": "code",
   "execution_count": 208,
   "id": "aace7ec2",
   "metadata": {
    "scrolled": true,
    "tags": []
   },
   "outputs": [
    {
     "data": {
      "text/plain": [
       "'Onix ran away'"
      ]
     },
     "execution_count": 208,
     "metadata": {},
     "output_type": "execute_result"
    }
   ],
   "source": [
    "# replace the ... with your code\n",
    "battle_onix_hydreigon = battle('Onix', 'Hydreigon')\n",
    "battle_onix_hydreigon"
   ]
  },
  {
   "cell_type": "code",
   "execution_count": 209,
   "id": "e0c3e04d",
   "metadata": {
    "deletable": false,
    "editable": false
   },
   "outputs": [
    {
     "data": {
      "text/html": [
       "<p><strong><pre style='display: inline;'>q15</pre></strong> passed! 💯</p>"
      ],
      "text/plain": [
       "q15 results: All test cases passed!"
      ]
     },
     "execution_count": 209,
     "metadata": {},
     "output_type": "execute_result"
    }
   ],
   "source": [
    "grader.check(\"q15\")"
   ]
  },
  {
   "cell_type": "markdown",
   "id": "efd725ec",
   "metadata": {
    "deletable": false,
    "editable": false
   },
   "source": [
    "**Question 16**: What is the output of `battle('Chien-Pao', 'Tauros')`?"
   ]
  },
  {
   "cell_type": "code",
   "execution_count": 210,
   "id": "e2300992",
   "metadata": {
    "tags": []
   },
   "outputs": [
    {
     "data": {
      "text/plain": [
       "'Chien-Pao'"
      ]
     },
     "execution_count": 210,
     "metadata": {},
     "output_type": "execute_result"
    }
   ],
   "source": [
    "# replace the ... with your code\n",
    "battle_chien_pao_tauros = battle('Chien-Pao', 'Tauros')\n",
    "\n",
    "battle_chien_pao_tauros"
   ]
  },
  {
   "cell_type": "code",
   "execution_count": 211,
   "id": "bf32424b",
   "metadata": {
    "deletable": false,
    "editable": false
   },
   "outputs": [
    {
     "data": {
      "text/html": [
       "<p><strong><pre style='display: inline;'>q16</pre></strong> passed! 🌈</p>"
      ],
      "text/plain": [
       "q16 results: All test cases passed!"
      ]
     },
     "execution_count": 211,
     "metadata": {},
     "output_type": "execute_result"
    }
   ],
   "source": [
    "grader.check(\"q16\")"
   ]
  },
  {
   "cell_type": "markdown",
   "id": "9ebe0d29",
   "metadata": {
    "deletable": false,
    "editable": false
   },
   "source": [
    "## Function 6: `friendship_score(pkmn1, pkmn2)`\n",
    "\n",
    "Pokémon aren't always violent. They are at most times quite friendly. However, some Pokémon are more friendly with some than they are with others. Trainers need to know which Pokémon get along well and which do not, to avoid unnecessary conflict. Thankfully for trainers, there is an almost scientific way to determine how well two different Pokémon can get along with each other.\n",
    "\n",
    "Given two Pokémon `pkmn1` and `pkmn2`, we can compute the **friendship score** between them. A high friendship score (5) means the two Pokémon will get along really well, while a low friendship score (0) means they won't.\n",
    "\n",
    "We can check whether a pair of Pokémon has a high friendship score based on the below rules:\n",
    "\n",
    "1. Pokémon from the **same region** gain a friendship point.\n",
    "\n",
    "2. Pokémon gain a  friendship point if their **difference** in **stat total** is **at most** 20 points. The **stat total** of a Pokémon is the sum of its Attack, Defense, HP, Sp. Atk., Sp. Def., and Speed stats. \n",
    "   \n",
    "3. Pokémon gain a friendship point if they have the **same `type1`**.\n",
    "    \n",
    "4. Pokémon gain a friendship point if they have the **same `type2`**, provided that this common `type2` is **not** `DNE`. This means that if the two Pokémon both have `DNE` as their common `type2`, then they will **not** receive any extra friendship points for it. \n",
    "    \n",
    "5. If a Pokémon's `type1` is the same as another Pokémon's `type2` (or vice versa), they do **not** gain any friendship points for it. They only gain points if the **corresponding** types are the same (and not `DNE`).\n",
    "    \n",
    "6. Additionally, if the two Pokémon share **both** types in common (and their `type2` is **not** `DNE`), they get **another** point for synergy. For example, if two Pokémon have both their corresponding types in common they will get a total of `3` points (2 for the common types and 1 for synergy).\n",
    "\n",
    "\n",
    "Define the function `friendship_score` that takes in two Pokémon as its arguments and returns their friendship score.\n",
    "\n",
    "**Hint:** You might want to use helper functions you wrote in Lab-P4 (remember to copy/paste them into this notebook before you try to use them)."
   ]
  },
  {
   "cell_type": "code",
   "execution_count": 212,
   "id": "aec30f05",
   "metadata": {
    "tags": []
   },
   "outputs": [],
   "source": [
    "# define the 'friendship_score' function here\n",
    "def friendship_score(pkmn1, pkmn2) :\n",
    "    stat_total_1 = project.get_attack(pkmn1) + project.get_defense(pkmn1) + project.get_hp(pkmn1) + project.get_sp_atk(pkmn1) + project.get_sp_def(pkmn1) + project.get_speed(pkmn1)  \n",
    "    stat_total_2 = project.get_attack(pkmn2) + project.get_defense(pkmn2) + project.get_hp(pkmn2) + project.get_sp_atk(pkmn2) + project.get_sp_def(pkmn2) + project.get_speed(pkmn2)\n",
    "    x = 0\n",
    "    if project.get_region(pkmn1) == project.get_region(pkmn2) :\n",
    "        x += 1\n",
    "    if abs(stat_total_1 - stat_total_2) <= 20 :\n",
    "        x += 1\n",
    "    if project.get_type1(pkmn1) == project.get_type1(pkmn2) :\n",
    "        x += 1\n",
    "    if project.get_type2(pkmn1) == project.get_type2(pkmn2) != \"DNE\":\n",
    "        x += 1\n",
    "    if project.get_type1(pkmn1) == project.get_type1(pkmn2) and project.get_type2(pkmn1) == project.get_type2(pkmn2) != \"DNE\" :\n",
    "        x += 1\n",
    "    return x\n",
    "    \n",
    "    \n",
    "    \n"
   ]
  },
  {
   "cell_type": "markdown",
   "id": "35eb8977",
   "metadata": {
    "deletable": false,
    "editable": false
   },
   "source": [
    "**Question 17**: What is the output of `friendship_score('Aipom', 'Zekrom')`?"
   ]
  },
  {
   "cell_type": "code",
   "execution_count": 213,
   "id": "7e31ff07",
   "metadata": {
    "tags": []
   },
   "outputs": [
    {
     "data": {
      "text/plain": [
       "0"
      ]
     },
     "execution_count": 213,
     "metadata": {},
     "output_type": "execute_result"
    }
   ],
   "source": [
    "# replace the ... with your code\n",
    "friendship_aipom_zekrom = friendship_score('Aipom', 'Zekrom')\n",
    "friendship_aipom_zekrom"
   ]
  },
  {
   "cell_type": "code",
   "execution_count": 214,
   "id": "b976c5c5",
   "metadata": {
    "deletable": false,
    "editable": false
   },
   "outputs": [
    {
     "data": {
      "text/html": [
       "<p><strong><pre style='display: inline;'>q17</pre></strong> passed! 🍀</p>"
      ],
      "text/plain": [
       "q17 results: All test cases passed!"
      ]
     },
     "execution_count": 214,
     "metadata": {},
     "output_type": "execute_result"
    }
   ],
   "source": [
    "grader.check(\"q17\")"
   ]
  },
  {
   "cell_type": "markdown",
   "id": "fad045de",
   "metadata": {
    "deletable": false,
    "editable": false
   },
   "source": [
    "**Question 18**: What is the output of `friendship_score('Voltorb', 'Thundurus')`?"
   ]
  },
  {
   "cell_type": "code",
   "execution_count": 215,
   "id": "81219b1b",
   "metadata": {
    "tags": []
   },
   "outputs": [
    {
     "data": {
      "text/plain": [
       "1"
      ]
     },
     "execution_count": 215,
     "metadata": {},
     "output_type": "execute_result"
    }
   ],
   "source": [
    "# replace the ... with your code\n",
    "friendship_voltorb_thundurus = friendship_score('Voltorb', 'Thundurus')\n",
    "\n",
    "friendship_voltorb_thundurus"
   ]
  },
  {
   "cell_type": "code",
   "execution_count": 216,
   "id": "6c6f8bc3",
   "metadata": {
    "deletable": false,
    "editable": false
   },
   "outputs": [
    {
     "data": {
      "text/html": [
       "<p><strong><pre style='display: inline;'>q18</pre></strong> passed! 🌈</p>"
      ],
      "text/plain": [
       "q18 results: All test cases passed!"
      ]
     },
     "execution_count": 216,
     "metadata": {},
     "output_type": "execute_result"
    }
   ],
   "source": [
    "grader.check(\"q18\")"
   ]
  },
  {
   "cell_type": "markdown",
   "id": "c2c848d1",
   "metadata": {
    "deletable": false,
    "editable": false
   },
   "source": [
    "**Question 19**: What is the output of `friendship_score('Weedle', 'Kakuna')`?"
   ]
  },
  {
   "cell_type": "code",
   "execution_count": 217,
   "id": "1701037a",
   "metadata": {
    "tags": []
   },
   "outputs": [
    {
     "data": {
      "text/plain": [
       "5"
      ]
     },
     "execution_count": 217,
     "metadata": {},
     "output_type": "execute_result"
    }
   ],
   "source": [
    "# replace the ... with your code\n",
    "friendship_weedle_kakuna = friendship_score('Weedle', 'Kakuna')\n",
    "\n",
    "friendship_weedle_kakuna"
   ]
  },
  {
   "cell_type": "code",
   "execution_count": 218,
   "id": "2d4c28a9",
   "metadata": {
    "deletable": false,
    "editable": false
   },
   "outputs": [
    {
     "data": {
      "text/html": [
       "<p><strong><pre style='display: inline;'>q19</pre></strong> passed! 🌟</p>"
      ],
      "text/plain": [
       "q19 results: All test cases passed!"
      ]
     },
     "execution_count": 218,
     "metadata": {},
     "output_type": "execute_result"
    }
   ],
   "source": [
    "grader.check(\"q19\")"
   ]
  },
  {
   "cell_type": "markdown",
   "id": "b6456bed",
   "metadata": {
    "deletable": false,
    "editable": false
   },
   "source": [
    "**Question 20**: What is the output of `friendship_score('Shinx', 'Shinx')`?"
   ]
  },
  {
   "cell_type": "code",
   "execution_count": 219,
   "id": "10dbc959",
   "metadata": {
    "tags": []
   },
   "outputs": [
    {
     "data": {
      "text/plain": [
       "3"
      ]
     },
     "execution_count": 219,
     "metadata": {},
     "output_type": "execute_result"
    }
   ],
   "source": [
    "# replace the ... with your code\n",
    "friendship_shinx_shinx = friendship_score('Shinx', 'Shinx')\n",
    "\n",
    "friendship_shinx_shinx"
   ]
  },
  {
   "cell_type": "code",
   "execution_count": 220,
   "id": "34c9516b",
   "metadata": {
    "deletable": false,
    "editable": false
   },
   "outputs": [
    {
     "data": {
      "text/html": [
       "<p><strong><pre style='display: inline;'>q20</pre></strong> passed! 🍀</p>"
      ],
      "text/plain": [
       "q20 results: All test cases passed!"
      ]
     },
     "execution_count": 220,
     "metadata": {},
     "output_type": "execute_result"
    }
   ],
   "source": [
    "grader.check(\"q20\")"
   ]
  },
  {
   "cell_type": "markdown",
   "id": "4771ae14",
   "metadata": {
    "deletable": false,
    "editable": false
   },
   "source": [
    "## Submission\n",
    "It is recommended that at this stage, you Restart and Run all Cells in your notebook.\n",
    "That will automatically save your work and generate a zip file for you to submit.\n",
    "\n",
    "**SUBMISSION INSTRUCTIONS**:\n",
    "1. **Upload** the zipfile to Gradescope.\n",
    "2. Check **Gradescope otter** results as soon as the auto-grader execution gets completed. Don't worry about the score showing up as -/100.0. You only need to check that the test cases passed."
   ]
  },
  {
   "cell_type": "code",
   "execution_count": null,
   "id": "76ace34d",
   "metadata": {
    "cell_type": "code",
    "deletable": false,
    "editable": false
   },
   "outputs": [],
   "source": [
    "# running this cell will create a new save checkpoint for your notebook\n",
    "from IPython.display import display, Javascript\n",
    "display(Javascript('IPython.notebook.save_checkpoint();'))"
   ]
  },
  {
   "cell_type": "code",
   "execution_count": 160,
   "id": "47850e0b",
   "metadata": {
    "cell_type": "code",
    "deletable": false,
    "editable": false
   },
   "outputs": [
    {
     "name": "stdout",
     "output_type": "stream",
     "text": [
      "Running your submission against local test cases...\n",
      "\n",
      "\n",
      "\n",
      "Your submission received the following results when run against available test cases:\n",
      "\n",
      "    q1 results: All test cases passed!\n",
      "\n",
      "    q2 results: All test cases passed!\n",
      "\n",
      "    q3 results: All test cases passed!\n",
      "\n",
      "    q4 results: All test cases passed!\n",
      "\n",
      "    q5 results: All test cases passed!\n",
      "\n",
      "    q6 results: All test cases passed!\n",
      "\n",
      "    q7 results: All test cases passed!\n",
      "\n",
      "    q8 results: All test cases passed!\n",
      "\n",
      "    q9 results: All test cases passed!\n",
      "\n",
      "    q10 results: All test cases passed!\n",
      "\n",
      "    q11 results: All test cases passed!\n",
      "\n",
      "    q12 results: All test cases passed!\n",
      "\n",
      "    q13 results: All test cases passed!\n",
      "\n",
      "    q14 results: All test cases passed!\n",
      "\n",
      "    q15 results: All test cases passed!\n",
      "\n",
      "    q16 results: All test cases passed!\n",
      "\n",
      "    q17 results: All test cases passed!\n",
      "\n",
      "    q18 results: All test cases passed!\n",
      "\n",
      "    q19 results: All test cases passed!\n",
      "\n",
      "    q20 results: All test cases passed!\n"
     ]
    },
    {
     "data": {
      "text/html": [
       "\n",
       "            <p>Your submission has been exported. Click <a href=\"p4_2023_02_20T20_33_41_107274.zip\" download=\"p4_2023_02_20T20_33_41_107274.zip\" target=\"_blank\">here</a>\n",
       "            to download the zip file.</p>\n",
       "            "
      ],
      "text/plain": [
       "<IPython.core.display.HTML object>"
      ]
     },
     "metadata": {},
     "output_type": "display_data"
    }
   ],
   "source": [
    "p4_test.check_file_size(\"p4.ipynb\")\n",
    "grader.export(pdf=False, run_tests=True)"
   ]
  },
  {
   "cell_type": "markdown",
   "id": "da0fc746",
   "metadata": {
    "deletable": false,
    "editable": false
   },
   "source": [
    " "
   ]
  }
 ],
 "metadata": {
  "kernelspec": {
   "display_name": "Python 3 (ipykernel)",
   "language": "python",
   "name": "python3"
  },
  "language_info": {
   "codemirror_mode": {
    "name": "ipython",
    "version": 3
   },
   "file_extension": ".py",
   "mimetype": "text/x-python",
   "name": "python",
   "nbconvert_exporter": "python",
   "pygments_lexer": "ipython3",
   "version": "3.9.13"
  },
  "otter": {
   "OK_FORMAT": true,
   "tests": {
    "f1": {
     "name": "f1",
     "points": 4,
     "suites": [
      {
       "cases": [],
       "scored": true,
       "setup": "",
       "teardown": "",
       "type": "doctest"
      }
     ]
    },
    "f2": {
     "name": "f2",
     "points": 4,
     "suites": [
      {
       "cases": [],
       "scored": true,
       "setup": "",
       "teardown": "",
       "type": "doctest"
      }
     ]
    },
    "f3": {
     "name": "f3",
     "points": 6,
     "suites": [
      {
       "cases": [],
       "scored": true,
       "setup": "",
       "teardown": "",
       "type": "doctest"
      }
     ]
    },
    "f4": {
     "name": "f4",
     "points": 4,
     "suites": [
      {
       "cases": [],
       "scored": true,
       "setup": "",
       "teardown": "",
       "type": "doctest"
      }
     ]
    },
    "f5": {
     "name": "f5",
     "points": 7,
     "suites": [
      {
       "cases": [],
       "scored": true,
       "setup": "",
       "teardown": "",
       "type": "doctest"
      }
     ]
    },
    "f6": {
     "name": "f6",
     "points": 4,
     "suites": [
      {
       "cases": [],
       "scored": true,
       "setup": "",
       "teardown": "",
       "type": "doctest"
      }
     ]
    },
    "q1": {
     "name": "q1",
     "points": 3,
     "suites": [
      {
       "cases": [
        {
         "code": ">>> p4_test.check('q1' , damage_feraligatr_aipom)\nTrue",
         "hidden": false,
         "locked": false
        }
       ],
       "scored": true,
       "setup": "",
       "teardown": "",
       "type": "doctest"
      }
     ]
    },
    "q10": {
     "name": "q10",
     "points": 4,
     "suites": [
      {
       "cases": [
        {
         "code": ">>> p4_test.check('q10' , battle_haunter_rhydon)\nTrue",
         "hidden": false,
         "locked": false
        }
       ],
       "scored": true,
       "setup": "",
       "teardown": "",
       "type": "doctest"
      }
     ]
    },
    "q11": {
     "name": "q11",
     "points": 4,
     "suites": [
      {
       "cases": [
        {
         "code": ">>> p4_test.check('q11' , battle_espeon_raichu)\nTrue",
         "hidden": false,
         "locked": false
        }
       ],
       "scored": true,
       "setup": "",
       "teardown": "",
       "type": "doctest"
      }
     ]
    },
    "q12": {
     "name": "q12",
     "points": 4,
     "suites": [
      {
       "cases": [
        {
         "code": ">>> p4_test.check('q12' , battle_garchomp_hydreigon)\nTrue",
         "hidden": false,
         "locked": false
        }
       ],
       "scored": true,
       "setup": "",
       "teardown": "",
       "type": "doctest"
      }
     ]
    },
    "q13": {
     "name": "q13",
     "points": 4,
     "suites": [
      {
       "cases": [
        {
         "code": ">>> p4_test.check('q13' , battle_gulpin_mudkip)\nTrue",
         "hidden": false,
         "locked": false
        }
       ],
       "scored": true,
       "setup": "",
       "teardown": "",
       "type": "doctest"
      }
     ]
    },
    "q14": {
     "name": "q14",
     "points": 4,
     "suites": [
      {
       "cases": [
        {
         "code": ">>> p4_test.check('q14' , battle_miraidon_eevee)\nTrue",
         "hidden": false,
         "locked": false
        }
       ],
       "scored": true,
       "setup": "",
       "teardown": "",
       "type": "doctest"
      }
     ]
    },
    "q15": {
     "name": "q15",
     "points": 4,
     "suites": [
      {
       "cases": [
        {
         "code": ">>> p4_test.check('q15' , battle_onix_hydreigon)\nTrue",
         "hidden": false,
         "locked": false
        }
       ],
       "scored": true,
       "setup": "",
       "teardown": "",
       "type": "doctest"
      }
     ]
    },
    "q16": {
     "name": "q16",
     "points": 4,
     "suites": [
      {
       "cases": [
        {
         "code": ">>> p4_test.check('q16' , battle_chien_pao_tauros)\nTrue",
         "hidden": false,
         "locked": false
        }
       ],
       "scored": true,
       "setup": "",
       "teardown": "",
       "type": "doctest"
      }
     ]
    },
    "q17": {
     "name": "q17",
     "points": 4,
     "suites": [
      {
       "cases": [
        {
         "code": ">>> p4_test.check('q17' , friendship_aipom_zekrom)\nTrue",
         "hidden": false,
         "locked": false
        }
       ],
       "scored": true,
       "setup": "",
       "teardown": "",
       "type": "doctest"
      }
     ]
    },
    "q18": {
     "name": "q18",
     "points": 4,
     "suites": [
      {
       "cases": [
        {
         "code": ">>> p4_test.check('q18' , friendship_voltorb_thundurus)\nTrue",
         "hidden": false,
         "locked": false
        }
       ],
       "scored": true,
       "setup": "",
       "teardown": "",
       "type": "doctest"
      }
     ]
    },
    "q19": {
     "name": "q19",
     "points": 4,
     "suites": [
      {
       "cases": [
        {
         "code": ">>> p4_test.check('q19' , friendship_weedle_kakuna)\nTrue",
         "hidden": false,
         "locked": false
        }
       ],
       "scored": true,
       "setup": "",
       "teardown": "",
       "type": "doctest"
      }
     ]
    },
    "q2": {
     "name": "q2",
     "points": 3,
     "suites": [
      {
       "cases": [
        {
         "code": ">>> p4_test.check('q2' , damage_lucario_klawf)\nTrue",
         "hidden": false,
         "locked": false
        }
       ],
       "scored": true,
       "setup": "",
       "teardown": "",
       "type": "doctest"
      }
     ]
    },
    "q20": {
     "name": "q20",
     "points": 4,
     "suites": [
      {
       "cases": [
        {
         "code": ">>> p4_test.check('q20' , friendship_shinx_shinx)\nTrue",
         "hidden": false,
         "locked": false
        }
       ],
       "scored": true,
       "setup": "",
       "teardown": "",
       "type": "doctest"
      }
     ]
    },
    "q3": {
     "name": "q3",
     "points": 3,
     "suites": [
      {
       "cases": [
        {
         "code": ">>> p4_test.check('q3' , bonus_poison_rayquaza)\nTrue",
         "hidden": false,
         "locked": false
        }
       ],
       "scored": true,
       "setup": "",
       "teardown": "",
       "type": "doctest"
      }
     ]
    },
    "q4": {
     "name": "q4",
     "points": 3,
     "suites": [
      {
       "cases": [
        {
         "code": ">>> p4_test.check('q4' , bonus_bug_mew)\nTrue",
         "hidden": false,
         "locked": false
        }
       ],
       "scored": true,
       "setup": "",
       "teardown": "",
       "type": "doctest"
      }
     ]
    },
    "q5": {
     "name": "q5",
     "points": 3,
     "suites": [
      {
       "cases": [
        {
         "code": ">>> p4_test.check('q5' , eff_damage_pikachu_weedle)\nTrue",
         "hidden": false,
         "locked": false
        }
       ],
       "scored": true,
       "setup": "",
       "teardown": "",
       "type": "doctest"
      }
     ]
    },
    "q6": {
     "name": "q6",
     "points": 3,
     "suites": [
      {
       "cases": [
        {
         "code": ">>> p4_test.check('q6' , eff_damage_cloyster_lapras)\nTrue",
         "hidden": false,
         "locked": false
        }
       ],
       "scored": true,
       "setup": "",
       "teardown": "",
       "type": "doctest"
      }
     ]
    },
    "q7": {
     "name": "q7",
     "points": 3,
     "suites": [
      {
       "cases": [
        {
         "code": ">>> p4_test.check('q7' , eff_damage_charizard_wailmer)\nTrue",
         "hidden": false,
         "locked": false
        }
       ],
       "scored": true,
       "setup": "",
       "teardown": "",
       "type": "doctest"
      }
     ]
    },
    "q8": {
     "name": "q8",
     "points": 3,
     "suites": [
      {
       "cases": [
        {
         "code": ">>> p4_test.check('q8' , hits_garchomp_golem)\nTrue",
         "hidden": false,
         "locked": false
        }
       ],
       "scored": true,
       "setup": "",
       "teardown": "",
       "type": "doctest"
      }
     ]
    },
    "q9": {
     "name": "q9",
     "points": 3,
     "suites": [
      {
       "cases": [
        {
         "code": ">>> p4_test.check('q9' , hits_mew_shinx)\nTrue",
         "hidden": false,
         "locked": false
        }
       ],
       "scored": true,
       "setup": "",
       "teardown": "",
       "type": "doctest"
      }
     ]
    }
   }
  },
  "vscode": {
   "interpreter": {
    "hash": "f08154012ddadd8e950e6e9e035c7a7b32c136e7647e9b7c77e02eb723a8bedb"
   }
  }
 },
 "nbformat": 4,
 "nbformat_minor": 5
}

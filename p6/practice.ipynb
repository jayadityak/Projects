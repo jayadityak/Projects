{
 "cells": [
  {
   "cell_type": "code",
   "execution_count": null,
   "id": "58d6f7c6",
   "metadata": {
    "deletable": false,
    "editable": false
   },
   "outputs": [],
   "source": [
    "# Initialize Otter\n",
    "import otter\n",
    "grader = otter.Notebook(\"practice.ipynb\")"
   ]
  },
  {
   "cell_type": "code",
   "execution_count": null,
   "id": "96639c1d",
   "metadata": {},
   "outputs": [],
   "source": [
    "import practice_test"
   ]
  },
  {
   "cell_type": "markdown",
   "id": "1f022f58",
   "metadata": {},
   "source": [
    "# Lab-P5: Looping Patterns and Hurricane API\n",
    "\n",
    "**WARNING:** Please go through Segment 1 of [lab-p5](https://git.doit.wisc.edu/cdis/cs/courses/cs220/cs220-s23-projects/-/tree/main/lab-p5) **before** you start to solve this notebook."
   ]
  },
  {
   "attachments": {
    "table.PNG": {
     "image/png": "[encoded data removed]"
    }
   },
   "cell_type": "markdown",
   "id": "f3b86a1e",
   "metadata": {},
   "source": [
    "## Segment 2: Learning the API\n",
    "\n",
    "### Task 2.1: Examine the `hurricanes` CSV file\n",
    "\n",
    "The `project.py` file will allow you to access the dataset you'll use this week, `hurricanes.csv`. We generated this data file by writing a Python program to extract data from several lists of hurricanes over the Atlantic Ocean on Wikipedia (here is an [example](https://en.wikipedia.org/wiki/2022_Atlantic_hurricane_season)). You can take a look at the script `gen_csv.ipynb` yourself. At the end of the semester, you will be able to write it yourself.\n",
    "\n",
    "Open `hurricanes.csv` with Microsoft Excel or some other Spreadsheet viewer and look at the hurricanes in the dataset. The data shows:\n",
    "\n",
    "* `name` (the name of the hurricane),\n",
    "* `formed` (the date of formation of the hurricane),\n",
    "* `dissipated` (the date of dissipation of the hurricane),\n",
    "* `mph` (the max wind speed in mph of the hurricane),\n",
    "* `damage` (the damage in US dollars caused by the hurricane),\n",
    "* `deaths` (the number of deaths caused by the hurricane).\n",
    "\n",
    "Often, we'll organize data by assigning numbers (called **indexes**) to different parts of the data (e.g., rows or columns in a table). In Computer Science, indexing typically starts with the number `0`; i.e., when you have a sequence of things, you'll start counting them from `0` instead of `1`. Thus, you should **ignore the numbers shown by your Spreadsheet Viewer to the left of the rows**. From the perspective of `project.py`, the indexes of `1804 New England hurricane`, `1806 Great Coastal hurricane`, and `1812 Louisiana hurricane` are `0`, `1`, and `2` respectively (and so on).\n",
    "\n",
    "For example, consider this example from `hurricanes.csv` as viewed from Microsoft Excel:\n",
    "\n",
    "![table.PNG](attachment:table.PNG)\n",
    "\n",
    "The **index** for the `1812 Louisiana hurricane` is `2` but it is the third entry in the dataset, and it is on **row** `4` of the table. Therefore, you must follow this convention for all the questions\n",
    "asking for the value at a particular **index**."
   ]
  },
  {
   "cell_type": "markdown",
   "id": "caf5e363",
   "metadata": {},
   "source": [
    "### Task 2.2: Explore the API\n",
    "Use the inspection process we learned in [Lab-P3](https://git.doit.wisc.edu/cdis/cs/courses/cs220/cs220-s23-projects/-/tree/main/lab-p3) and [Lab-P4](https://git.doit.wisc.edu/cdis/cs/courses/cs220/cs220-s23-projects/-/tree/main/lab-p4) to know more details of the 'project' API. In Lab-P3, we saw how to use `dir`, and `help` to learn the API. Run the following cells to explore the API:"
   ]
  },
  {
   "cell_type": "code",
   "execution_count": null,
   "id": "71ce2611",
   "metadata": {
    "tags": []
   },
   "outputs": [],
   "source": [
    "# it is considered a good coding practice to place all import statements at the top of the notebook\n",
    "# please place all your import statements in this cell if you need to import any more modules for this project\n"
   ]
  },
  {
   "cell_type": "code",
   "execution_count": null,
   "id": "8b3959f7",
   "metadata": {
    "tags": []
   },
   "outputs": [],
   "source": [
    "# use the 'dir' function to learn more about the project API\n"
   ]
  },
  {
   "cell_type": "markdown",
   "id": "8db0c939",
   "metadata": {},
   "source": [
    "Spend some time reading about each of the seven functions that don't begin with two underscores. For example, run this to learn about `count`:"
   ]
  },
  {
   "cell_type": "code",
   "execution_count": null,
   "id": "786467aa",
   "metadata": {},
   "outputs": [],
   "source": [
    "help(project.count) "
   ]
  },
  {
   "cell_type": "markdown",
   "id": "265af974",
   "metadata": {},
   "source": [
    "Alternatively, you could run the following to just see the function's documentation:"
   ]
  },
  {
   "cell_type": "code",
   "execution_count": null,
   "id": "297fe0e7",
   "metadata": {},
   "outputs": [],
   "source": [
    "print(project.count.__doc__)"
   ]
  },
  {
   "cell_type": "markdown",
   "id": "f4826c86",
   "metadata": {},
   "source": [
    "You may also open up the `project.py` file directly to learn about the functions provided. E.g., you might see this:\n",
    "\n",
    "```python\n",
    "def count():\n",
    "    \"\"\"This function will return the number of records in the dataset\"\"\"\n",
    "    return len(__hurricane__)\n",
    "```\n",
    "\n",
    "You don't need to understand the code in the functions, but the strings in triple quotes (called *docstrings*) explain what each function does. As it turns out, all `project.count.__doc__` is providing you is the docstring of the `count` function.\n",
    "\n",
    "Try to learn other functions in `project.py`, by using `help` function. For example, you may try: "
   ]
  },
  {
   "cell_type": "code",
   "execution_count": null,
   "id": "901152b5",
   "metadata": {},
   "outputs": [],
   "source": [
    "help(project.get_name)"
   ]
  },
  {
   "cell_type": "code",
   "execution_count": null,
   "id": "2b69a23f",
   "metadata": {
    "tags": []
   },
   "outputs": [],
   "source": [
    "# now try getting help for the other functions in the `project` module\n"
   ]
  },
  {
   "cell_type": "markdown",
   "id": "2f69521a",
   "metadata": {},
   "source": [
    "### Task 2.2.1: Getting familiar with `project.py`\n",
    "\n",
    "You will now demonstrate your familiarity with the functions inside the `project` module by answering a few simple questions. You must have already imported the `project` module to this notebook. Make sure you placed the `import` statememnt at the **top** of the notebook in the designated cell.\n",
    "\n",
    "**Remember:** In Computer Science, we start indexing at `0`."
   ]
  },
  {
   "cell_type": "markdown",
   "id": "6bdb933a",
   "metadata": {},
   "source": [
    "**Question 1.1:** What is the `name` of the hurricane at **index** `0`? "
   ]
  },
  {
   "cell_type": "code",
   "execution_count": null,
   "id": "6cff0af6",
   "metadata": {
    "tags": []
   },
   "outputs": [],
   "source": [
    "# we have done this for you!\n",
    "name_idx0 = project.get_name(0)\n",
    "\n",
    "name_idx0"
   ]
  },
  {
   "cell_type": "code",
   "execution_count": null,
   "id": "e666523d",
   "metadata": {
    "deletable": false,
    "editable": false
   },
   "outputs": [],
   "source": [
    "grader.check(\"q1-1\")"
   ]
  },
  {
   "cell_type": "markdown",
   "id": "e3c8a7c3",
   "metadata": {},
   "source": [
    "**Question 1.2:** What is the `name` of the hurricane at **index** `1`? "
   ]
  },
  {
   "cell_type": "code",
   "execution_count": null,
   "id": "a52063e4",
   "metadata": {
    "scrolled": true,
    "tags": []
   },
   "outputs": [],
   "source": [
    "# replace the ... below with your code\n",
    "name_idx1 = ...\n",
    "name_idx1"
   ]
  },
  {
   "cell_type": "code",
   "execution_count": null,
   "id": "4da431f0",
   "metadata": {
    "deletable": false,
    "editable": false
   },
   "outputs": [],
   "source": [
    "grader.check(\"q1-2\")"
   ]
  },
  {
   "cell_type": "markdown",
   "id": "e926443e",
   "metadata": {},
   "source": [
    "**Question 1.3:** What is the speed in `mph` of the hurricane at **index** `7`? "
   ]
  },
  {
   "cell_type": "code",
   "execution_count": null,
   "id": "47f0e87a",
   "metadata": {
    "tags": []
   },
   "outputs": [],
   "source": [
    "# replace the ... below with your code\n",
    "mph_idx7 = ...\n",
    "mph_idx7"
   ]
  },
  {
   "cell_type": "code",
   "execution_count": null,
   "id": "0910a94c",
   "metadata": {
    "deletable": false,
    "editable": false
   },
   "outputs": [],
   "source": [
    "grader.check(\"q1-3\")"
   ]
  },
  {
   "cell_type": "markdown",
   "id": "97cd9c6d",
   "metadata": {},
   "source": [
    "**Question 1.4:** What is the `damage` in dollars caused of the hurricane at **index** `5`? "
   ]
  },
  {
   "cell_type": "code",
   "execution_count": null,
   "id": "196b7784",
   "metadata": {
    "tags": []
   },
   "outputs": [],
   "source": [
    "# replace the ... below with your code\n",
    "damage_idx5 = ...\n",
    "damage_idx5"
   ]
  },
  {
   "cell_type": "code",
   "execution_count": null,
   "id": "0fd945d3",
   "metadata": {
    "deletable": false,
    "editable": false
   },
   "outputs": [],
   "source": [
    "grader.check(\"q1-4\")"
   ]
  },
  {
   "cell_type": "markdown",
   "id": "2466b60e",
   "metadata": {},
   "source": [
    "Notice that the damage amount ends with a \"M\". In this dataset, \"K\" represents one thousand, \"M\" represents one million, and \"B\" represents one billion. In P5, you'll need to convert these strings to integers (e.g., `\"1.5K\"` will become `1500`, `\"2.55M\"` will become `2550000`)."
   ]
  },
  {
   "cell_type": "markdown",
   "id": "1adaddb6",
   "metadata": {},
   "source": [
    "**Question 2:** What is the `name` of the **last** hurricane in the dataset?"
   ]
  },
  {
   "cell_type": "code",
   "execution_count": null,
   "id": "103b3dfc",
   "metadata": {
    "tags": []
   },
   "outputs": [],
   "source": [
    "# we have done this for you!\n",
    "name_idx_last = project.get_name(project.count() - 1)\n",
    "name_idx_last"
   ]
  },
  {
   "cell_type": "code",
   "execution_count": null,
   "id": "ab94cb50",
   "metadata": {
    "deletable": false,
    "editable": false
   },
   "outputs": [],
   "source": [
    "grader.check(\"q2\")"
   ]
  },
  {
   "cell_type": "markdown",
   "id": "c195601b",
   "metadata": {},
   "source": [
    "Now, let us try to get the `name` at index `project.count()` instead. What happens? Why? Feel free to reach out to your TA/PM, if you are not sure."
   ]
  },
  {
   "cell_type": "code",
   "execution_count": null,
   "id": "7da569ee",
   "metadata": {
    "tags": []
   },
   "outputs": [],
   "source": [
    "# execute this cell without changing anything\n",
    "project.get_name(project.count())"
   ]
  },
  {
   "cell_type": "markdown",
   "id": "bb3042ef",
   "metadata": {},
   "source": [
    "## Segment 3: Working with strings"
   ]
  },
  {
   "cell_type": "markdown",
   "id": "5f6d5098",
   "metadata": {},
   "source": [
    "### Task 3.1: Indexing / slicing Strings\n",
    "\n",
    "Stepping back from the Hurricane data, Tasks 3.1 and 3.2 introduce us to performing operations with strings. While this will be covered in more detail during Friday's lecture, we will cover the essentials now.\n",
    "\n",
    "We can think of a string as a sequence of characters. For example, the string `my_str = 'hello_world!'` can be written as...\n",
    "\n",
    "| index  | 0    | 1    | 2    | 3    | 4    | 5    | 6    | 7    | 8    | 9    | 10   | 11   |\n",
    "| ------ | ---- | ---- | ---- | ---- | ---- | ---- | ---- | ---- | ---- | ---- | ---- | ---- |\n",
    "| string | h    | e    | l    | l    | o    | _    | w    | o    | r    | l    | d    | !    |\n",
    "\n",
    "... where we can then access specific characters of the string by an index, e.g. `my_str[0]` which returns `'h'` or `my_str[8]` which returns `'r'`.\n",
    "\n",
    "Furthermore, we can \"slice\" strings -- that is, get a particular section of characters. For example,\n",
    "\n",
    "- `my_str[1:5]` returns `'ello'`\n",
    "- `my_str[:8]` returns `'hello_wo'`\n",
    "- `my_str[5:]` returns `'_world!'`\n",
    "- `my_str[:]` returns `'hello_world!'`\n",
    "\n",
    "Try running this in the cell below."
   ]
  },
  {
   "cell_type": "code",
   "execution_count": null,
   "id": "21af5056",
   "metadata": {},
   "outputs": [],
   "source": [
    "my_str = 'hello_world!'\n",
    "print(\"my_str[0] returns\", my_str[0])\n",
    "print(\"my_str[8] returns\", my_str[8])\n",
    "print(\"my_str[1:5] returns\", my_str[1:5])\n",
    "print(\"my_str[:8] returns\", my_str[:8])\n",
    "print(\"my_str[5:] returns\", my_str[5:])\n",
    "print(\"my_str[:] returns\", my_str[:])"
   ]
  },
  {
   "cell_type": "markdown",
   "id": "630415bc",
   "metadata": {},
   "source": [
    "Notice that slicing is *inclusive* on the lower bound and *exclusive* on the upper bound. We can also leave out a bound to start from the beginning (e.g. `my_str[:6]`) or to keep going until the end (e.g. `my_str[8:]`). Lastly, a negative index will count *backwards* from the *end* of the string.\n",
    "\n",
    "Try running the cell below."
   ]
  },
  {
   "cell_type": "code",
   "execution_count": null,
   "id": "b23d79c7",
   "metadata": {},
   "outputs": [],
   "source": [
    "print(\"my_str[-1] returns\", my_str[-1])\n",
    "print(\"my_str[-4:-1] returns\", my_str[-4:-1])"
   ]
  },
  {
   "cell_type": "markdown",
   "id": "44d60d7c",
   "metadata": {},
   "source": [
    "**Your Turn!** Try slicing the below phone number! Can you extract the area code (first 3 digits), exchange code (middle 3 digits), and line number (last 4 digits) of the given phone number?"
   ]
  },
  {
   "cell_type": "markdown",
   "id": "68c9fbe7",
   "metadata": {},
   "source": [
    "**Question 3.1:** What is the **last digit** of the phone number: `608-867-5309`?"
   ]
  },
  {
   "cell_type": "code",
   "execution_count": null,
   "id": "f980aeec",
   "metadata": {
    "tags": []
   },
   "outputs": [],
   "source": [
    "# replace the ... with your code\n",
    "phone_number = \"608-867-5309\"\n",
    "last_digit = phone_number[...]\n",
    "\n",
    "last_digit"
   ]
  },
  {
   "cell_type": "code",
   "execution_count": null,
   "id": "88f98b5a",
   "metadata": {
    "deletable": false,
    "editable": false
   },
   "outputs": [],
   "source": [
    "grader.check(\"q3-1\")"
   ]
  },
  {
   "cell_type": "markdown",
   "id": "1581c4cc",
   "metadata": {},
   "source": [
    "**Question 3.2:** What is the **area code** (i.e., the first three characters) of the phone number: `608-867-5309`?"
   ]
  },
  {
   "cell_type": "code",
   "execution_count": null,
   "id": "a0a738f3",
   "metadata": {
    "tags": []
   },
   "outputs": [],
   "source": [
    "# replace the ... with your code\n",
    "phone_number = \"608-867-5309\"\n",
    "area_code = phone_number[:...]\n",
    "\n",
    "area_code"
   ]
  },
  {
   "cell_type": "code",
   "execution_count": null,
   "id": "c6f16266",
   "metadata": {
    "deletable": false,
    "editable": false
   },
   "outputs": [],
   "source": [
    "grader.check(\"q3-2\")"
   ]
  },
  {
   "cell_type": "markdown",
   "id": "09a4b52a",
   "metadata": {},
   "source": [
    "**Question 3.3:** What is the **line number** (i.e., the last four characters) of the phone number: `608-867-5309`?"
   ]
  },
  {
   "cell_type": "code",
   "execution_count": null,
   "id": "52f669b0",
   "metadata": {
    "tags": []
   },
   "outputs": [],
   "source": [
    "# replace the ... with your code\n",
    "phone_number = \"608-867-5309\"\n",
    "line_number = phone_number[...:]\n",
    "\n",
    "line_number"
   ]
  },
  {
   "cell_type": "code",
   "execution_count": null,
   "id": "49876e24",
   "metadata": {
    "deletable": false,
    "editable": false
   },
   "outputs": [],
   "source": [
    "grader.check(\"q3-3\")"
   ]
  },
  {
   "cell_type": "markdown",
   "id": "c06d376d",
   "metadata": {},
   "source": [
    "**Question 3.4:** What is the **exchange code** (i.e., middle three characters) of the phone number: `608-867-5309`?"
   ]
  },
  {
   "cell_type": "code",
   "execution_count": null,
   "id": "f2ea80c5",
   "metadata": {
    "tags": []
   },
   "outputs": [],
   "source": [
    "# replace the ... with your code\n",
    "phone_number = \"608-867-5309\"\n",
    "exchange_code = phone_number[...:...]\n",
    "\n",
    "exchange_code"
   ]
  },
  {
   "cell_type": "code",
   "execution_count": null,
   "id": "3c0ff5cf",
   "metadata": {
    "deletable": false,
    "editable": false
   },
   "outputs": [],
   "source": [
    "grader.check(\"q3-4\")"
   ]
  },
  {
   "cell_type": "markdown",
   "id": "bfbbdf7d",
   "metadata": {},
   "source": [
    "**Question 4.1:** What is the **department code** (i.e., the letters at the start) of the course: `CS220`?"
   ]
  },
  {
   "cell_type": "code",
   "execution_count": null,
   "id": "b398cf10",
   "metadata": {
    "tags": []
   },
   "outputs": [],
   "source": [
    "course = 'CS220'\n",
    "dept_code = course[...]\n",
    "\n",
    "dept_code"
   ]
  },
  {
   "cell_type": "code",
   "execution_count": null,
   "id": "e0b81f92",
   "metadata": {
    "deletable": false,
    "editable": false
   },
   "outputs": [],
   "source": [
    "grader.check(\"q4-1\")"
   ]
  },
  {
   "cell_type": "markdown",
   "id": "11460205",
   "metadata": {},
   "source": [
    "**Question 4.2:** What is the **course code** (i.e., the numbers at the end) of the course: `CS220`?"
   ]
  },
  {
   "cell_type": "code",
   "execution_count": null,
   "id": "db7f8543",
   "metadata": {
    "tags": []
   },
   "outputs": [],
   "source": [
    "course = 'CS220'\n",
    "course_code = course[...]\n",
    "\n",
    "course_code"
   ]
  },
  {
   "cell_type": "code",
   "execution_count": null,
   "id": "72de147f",
   "metadata": {
    "deletable": false,
    "editable": false
   },
   "outputs": [],
   "source": [
    "grader.check(\"q4-2\")"
   ]
  },
  {
   "cell_type": "markdown",
   "id": "c344ed57",
   "metadata": {},
   "source": [
    "After that short detour, we will now go back to working on the hurricane dataset.\n",
    "\n",
    "### Task 3.2: Calculating Damage Costs\n",
    "\n",
    "`Q1.4` showed us that damage costs are represented as strings with suffixes for thousands, millions, and billions.\n",
    "\n",
    "We can **index** the last character of these damages to find the suffix. We can then potentially use it to determine whether the suffix represents a thousand, million, or a billion."
   ]
  },
  {
   "cell_type": "markdown",
   "id": "3c625077",
   "metadata": {},
   "source": [
    "**Question 5.1:** What is the **suffix** (i.e., the last character) of the cost `\"3.19B\"`?"
   ]
  },
  {
   "cell_type": "code",
   "execution_count": null,
   "id": "dc5f7425",
   "metadata": {
    "tags": []
   },
   "outputs": [],
   "source": [
    "# replace the ... with your code\n",
    "cost = \"3.19B\"\n",
    "suffix = cost[...]\n",
    "\n",
    "suffix"
   ]
  },
  {
   "cell_type": "code",
   "execution_count": null,
   "id": "436e2ab0",
   "metadata": {
    "deletable": false,
    "editable": false
   },
   "outputs": [],
   "source": [
    "grader.check(\"q5-1\")"
   ]
  },
  {
   "cell_type": "markdown",
   "id": "735cc080",
   "metadata": {},
   "source": [
    "**Question 5.2:** How many billions are there in the cost `\"3.19B\"`?\n",
    "\n",
    "Just as we found the suffix by **indexing**, we can also find the number by **slicing**. Answer the question by slicing the string to obtain the number of billions, and typecasting the string into a float."
   ]
  },
  {
   "cell_type": "code",
   "execution_count": null,
   "id": "92c1423f",
   "metadata": {
    "tags": []
   },
   "outputs": [],
   "source": [
    "# replace the ... with your code\n",
    "cost = \"3.19B\"\n",
    "billions = float(cost[...])\n",
    "\n",
    "billions"
   ]
  },
  {
   "cell_type": "code",
   "execution_count": null,
   "id": "fb2b6ec8",
   "metadata": {
    "deletable": false,
    "editable": false
   },
   "outputs": [],
   "source": [
    "grader.check(\"q5-2\")"
   ]
  },
  {
   "cell_type": "markdown",
   "id": "a0d24cec",
   "metadata": {},
   "source": [
    "### Task 3.3: Slicing dates\n",
    "\n",
    "Run the below cell which prints the formation and dissipation date of the first hurricane."
   ]
  },
  {
   "cell_type": "code",
   "execution_count": null,
   "id": "ec49cd0a",
   "metadata": {},
   "outputs": [],
   "source": [
    "print(project.get_formed(0))\n",
    "print(project.get_dissipated(0))"
   ]
  },
  {
   "cell_type": "markdown",
   "id": "974e85e9",
   "metadata": {},
   "source": [
    "The dates are represented as a string in `mm/dd/yyyy` notation. Two digits are used to represent the month and day even when they can be represented with a single digit, that is, `'9/4/1804'` is represented as `'09/04/1804'`.\n",
    "\n",
    "To extract the month, we could run the following code..."
   ]
  },
  {
   "cell_type": "code",
   "execution_count": null,
   "id": "87ef5938",
   "metadata": {},
   "outputs": [],
   "source": [
    "project.get_formed(0)[:2]"
   ]
  },
  {
   "cell_type": "markdown",
   "id": "937d62c0",
   "metadata": {},
   "source": [
    "Notice, however, that this is the *string* `'09'`.\n",
    "\n",
    "Write the code to get this as the *int* (e.g. `9`)."
   ]
  },
  {
   "cell_type": "markdown",
   "id": "73cbfdae",
   "metadata": {},
   "source": [
    "**Question 6:** In which `month` did the hurricane at **index** `0` form?\n",
    "\n",
    "Your answer **must** be an `int` between `1` and `12`. You **must not** hardcode the answer, but use the appropriate function from the `project` module to find the date of formation of the hurricane."
   ]
  },
  {
   "cell_type": "code",
   "execution_count": null,
   "id": "832948d2",
   "metadata": {
    "tags": []
   },
   "outputs": [],
   "source": [
    "# replace the ... with your code\n",
    "month_idx0 = ...\n",
    "\n",
    "month_idx0"
   ]
  },
  {
   "cell_type": "code",
   "execution_count": null,
   "id": "41309072",
   "metadata": {
    "deletable": false,
    "editable": false
   },
   "outputs": [],
   "source": [
    "grader.check(\"q6\")"
   ]
  },
  {
   "cell_type": "markdown",
   "id": "73f256b6",
   "metadata": {},
   "source": [
    "### Task 3.4: Helper Functions for Month, Day, and Year\n",
    "\n",
    "The below functions will be useful in p5. Solve the below questions for getting the day, and year as an int. The function to get the month has already been done for you."
   ]
  },
  {
   "cell_type": "code",
   "execution_count": null,
   "id": "1e73fd44",
   "metadata": {},
   "outputs": [],
   "source": [
    "def get_month(date):\n",
    "    \"\"\"get_month(date) returns the month when the date is the in the 'mm/dd/yyyy' format\"\"\"\n",
    "    return int(date[:2])"
   ]
  },
  {
   "cell_type": "markdown",
   "id": "819cf5fa",
   "metadata": {},
   "source": [
    "You can confirm that `get_month` works by running the cell below."
   ]
  },
  {
   "cell_type": "code",
   "execution_count": null,
   "id": "9ed1101b",
   "metadata": {},
   "outputs": [],
   "source": [
    "month = get_month(\"02/22/2023\")\n",
    "\n",
    "month"
   ]
  },
  {
   "cell_type": "markdown",
   "id": "e688db49",
   "metadata": {},
   "source": [
    "### Task 3.4.1: Define `get_year(date)`\n",
    "\n",
    "You must now define this function, which will take in the `date` as a `str` and return the `year` as an `int`."
   ]
  },
  {
   "cell_type": "code",
   "execution_count": null,
   "id": "aa1f2e5a",
   "metadata": {
    "tags": []
   },
   "outputs": [],
   "source": [
    "def get_year(date):\n",
    "    \"\"\"get_year(date) returns the year when the date is the in the 'mm/dd/yyyy' format\"\"\"\n",
    "    pass # replace with your code"
   ]
  },
  {
   "cell_type": "markdown",
   "id": "ff019151",
   "metadata": {},
   "source": [
    "**Question 7.1:** What is the `year` in the date `\"02/22/2023\"`?\n",
    "\n",
    "You **must** answer this question by calling the `get_year` function."
   ]
  },
  {
   "cell_type": "code",
   "execution_count": null,
   "id": "310a41f7",
   "metadata": {
    "tags": []
   },
   "outputs": [],
   "source": [
    "# replace the ... with your code\n",
    "year = ...\n",
    "\n",
    "year"
   ]
  },
  {
   "cell_type": "code",
   "execution_count": null,
   "id": "4a8e6f3e",
   "metadata": {
    "deletable": false,
    "editable": false
   },
   "outputs": [],
   "source": [
    "grader.check(\"q7-1\")"
   ]
  },
  {
   "cell_type": "markdown",
   "id": "4e52256c",
   "metadata": {},
   "source": [
    "### Task 3.4.2: Define `get_day(date)`\n",
    "\n",
    "You must now define this function, which will take in the `date` as a `str` and return the `day` as an `int`."
   ]
  },
  {
   "cell_type": "code",
   "execution_count": null,
   "id": "abda1c53",
   "metadata": {
    "tags": []
   },
   "outputs": [],
   "source": [
    "def get_day(date):\n",
    "    \"\"\"get_day(date) returns the day when the date is the in the 'mm/dd/yyyy' format\"\"\"\n",
    "    pass # replace with your code"
   ]
  },
  {
   "cell_type": "markdown",
   "id": "ca42df68",
   "metadata": {},
   "source": [
    "**Question 7.2:** What is the `day` in the date `\"02/22/2023\"`?\n",
    "\n",
    "You **must** answer this question by calling the `get_day` function."
   ]
  },
  {
   "cell_type": "code",
   "execution_count": null,
   "id": "62bb8b05",
   "metadata": {
    "tags": []
   },
   "outputs": [],
   "source": [
    "# replace the ... with your code\n",
    "day = ...\n",
    "\n",
    "day"
   ]
  },
  {
   "cell_type": "code",
   "execution_count": null,
   "id": "53b1caf2",
   "metadata": {
    "deletable": false,
    "editable": false
   },
   "outputs": [],
   "source": [
    "grader.check(\"q7-2\")"
   ]
  },
  {
   "cell_type": "markdown",
   "id": "1fd5696f",
   "metadata": {},
   "source": [
    "### Task 3.5: Using Helper Functions\n",
    "\n",
    "Using the helper functions you made above, complete the following questions.\n",
    "\n",
    "**Hint:** You'll use these helper functions in combination with functions from the project module."
   ]
  },
  {
   "cell_type": "markdown",
   "id": "d65353ff",
   "metadata": {},
   "source": [
    "**Question 8:** On what `day` did the hurricane at **index** `100` **form**?\n",
    "\n",
    "You **must** answer this question by calling the `get_day` function."
   ]
  },
  {
   "cell_type": "code",
   "execution_count": null,
   "id": "e50d0643",
   "metadata": {
    "tags": []
   },
   "outputs": [],
   "source": [
    "# replace the ... with your code\n",
    "day_formed_idx100 = ...\n",
    "\n",
    "day_formed_idx100"
   ]
  },
  {
   "cell_type": "code",
   "execution_count": null,
   "id": "b786eae7",
   "metadata": {
    "deletable": false,
    "editable": false
   },
   "outputs": [],
   "source": [
    "grader.check(\"q8\")"
   ]
  },
  {
   "cell_type": "markdown",
   "id": "9fb20da0",
   "metadata": {},
   "source": [
    "**Question 9:** In which `year` did the hurricane at **index** `200` **form**?\n",
    "\n",
    "You **must** answer this question by calling the `get_year` function."
   ]
  },
  {
   "cell_type": "code",
   "execution_count": null,
   "id": "cf81dafc",
   "metadata": {
    "tags": []
   },
   "outputs": [],
   "source": [
    "# replace with your code\n",
    "year_formed_idx200 = ...\n",
    "\n",
    "year_formed_idx200"
   ]
  },
  {
   "cell_type": "code",
   "execution_count": null,
   "id": "6faa5d8b",
   "metadata": {
    "deletable": false,
    "editable": false
   },
   "outputs": [],
   "source": [
    "grader.check(\"q9\")"
   ]
  },
  {
   "cell_type": "markdown",
   "id": "675c0718",
   "metadata": {},
   "source": [
    "**Question 10:** In which `month` did the hurricane at **index** `300` **dissipate**?\n",
    "\n",
    "You **must** answer this question by calling the `get_month` function."
   ]
  },
  {
   "cell_type": "code",
   "execution_count": null,
   "id": "c10a776d",
   "metadata": {
    "tags": []
   },
   "outputs": [],
   "source": [
    "# replace the ... with your code\n",
    "month_diss_idx300 = ...\n",
    "\n",
    "month_diss_idx300"
   ]
  },
  {
   "cell_type": "code",
   "execution_count": null,
   "id": "404b91d3",
   "metadata": {
    "deletable": false,
    "editable": false
   },
   "outputs": [],
   "source": [
    "grader.check(\"q10\")"
   ]
  },
  {
   "cell_type": "markdown",
   "id": "87430390",
   "metadata": {},
   "source": [
    "## Segment 4: Looping"
   ]
  },
  {
   "cell_type": "markdown",
   "id": "b0a13744",
   "metadata": {},
   "source": [
    "### Task 4.1: `while` and `for` loops\n",
    "\n",
    "Run the below code and observe the output."
   ]
  },
  {
   "cell_type": "code",
   "execution_count": null,
   "id": "db8ff5ed",
   "metadata": {},
   "outputs": [],
   "source": [
    "i = 0\n",
    "while i < 5:\n",
    "    print(i)\n",
    "    i += 1"
   ]
  },
  {
   "cell_type": "markdown",
   "id": "d70bae28",
   "metadata": {},
   "source": [
    "Equivalently, we can use `for` and `range(n)`. The `range(n)` function returns a sequence of numbers, from `0` to `n` but not including `n`."
   ]
  },
  {
   "cell_type": "code",
   "execution_count": null,
   "id": "8cd65ede",
   "metadata": {},
   "outputs": [],
   "source": [
    "for i in range(5):\n",
    "    print(i)"
   ]
  },
  {
   "cell_type": "markdown",
   "id": "ebb0b36d",
   "metadata": {},
   "source": [
    "Now, we will try to use `while` and `for` loops to answer a few simple questions."
   ]
  },
  {
   "cell_type": "markdown",
   "id": "ce004489",
   "metadata": {},
   "source": [
    "**Question 11:** What is the sum of the numbers *0 to 25*, both inclusive?\n",
    "\n",
    "You **must** answer this with a `while` loop. Ask your TA/PM if you are not sure what to do."
   ]
  },
  {
   "cell_type": "code",
   "execution_count": null,
   "id": "29dff358",
   "metadata": {
    "tags": []
   },
   "outputs": [],
   "source": [
    "i = 0\n",
    "sum_while = ... # replace the ... with the correct initial value for the sum\n",
    "while i ... 25: # replace the ... with the correct comparison operator\n",
    "    sum_while += i \n",
    "    i += 1\n",
    "\n",
    "sum_while"
   ]
  },
  {
   "cell_type": "code",
   "execution_count": null,
   "id": "6edf74df",
   "metadata": {
    "deletable": false,
    "editable": false
   },
   "outputs": [],
   "source": [
    "grader.check(\"q11\")"
   ]
  },
  {
   "cell_type": "markdown",
   "id": "4066eb6a",
   "metadata": {},
   "source": [
    "**Question 12:** What is the sum of the numbers *0 to 25*, both inclusive?\n",
    "\n",
    "You **must** answer this with a `for` loop. Ask your TA/PM if you are not sure what to do."
   ]
  },
  {
   "cell_type": "code",
   "execution_count": null,
   "id": "3169ebdb",
   "metadata": {
    "tags": []
   },
   "outputs": [],
   "source": [
    "# replace the ... with your code\n",
    "sum_for = ...\n",
    "for i in range(...):\n",
    "    sum_for += ...\n",
    "\n",
    "sum_for"
   ]
  },
  {
   "cell_type": "code",
   "execution_count": null,
   "id": "5dcc81e7",
   "metadata": {
    "deletable": false,
    "editable": false
   },
   "outputs": [],
   "source": [
    "grader.check(\"q12\")"
   ]
  },
  {
   "cell_type": "markdown",
   "id": "be7cde87",
   "metadata": {},
   "source": [
    "### Task 4.2: Looping through hurricanes\n",
    "\n",
    "You have had some practice with simple looping structures. You will now loop through the hurricanes dataset.\n",
    "\n",
    "Run the below code and observe the output."
   ]
  },
  {
   "cell_type": "code",
   "execution_count": null,
   "id": "566ea540",
   "metadata": {},
   "outputs": [],
   "source": [
    "for idx in range(10):\n",
    "    print(project.get_name(idx))"
   ]
  },
  {
   "cell_type": "markdown",
   "id": "938f0697",
   "metadata": {},
   "source": [
    "Can you make the code above display the **year of the formation** of the first 10 hurricanes? How about the **first 15** hurricanes? Please feel free to reach out to your TA/PM and ask them for help, if you face any issues.\n",
    "\n",
    "You are now ready to answer some interesting questions with loops."
   ]
  },
  {
   "cell_type": "markdown",
   "id": "dda10fc9",
   "metadata": {},
   "source": [
    "**Question 13:** What is the **total** `deaths` caused by the **first** `10` hurricanes in the dataset?"
   ]
  },
  {
   "cell_type": "code",
   "execution_count": null,
   "id": "34b9a22d",
   "metadata": {
    "tags": []
   },
   "outputs": [],
   "source": [
    "# replace the ... with your code\n",
    "total_deaths_first10 = ...\n",
    "for idx in range(...):\n",
    "    total_deaths_first10 += ...\n",
    "\n",
    "total_deaths_first10"
   ]
  },
  {
   "cell_type": "code",
   "execution_count": null,
   "id": "be57ac49",
   "metadata": {
    "deletable": false,
    "editable": false
   },
   "outputs": [],
   "source": [
    "grader.check(\"q13\")"
   ]
  },
  {
   "cell_type": "markdown",
   "id": "b41d8b8e",
   "metadata": {},
   "source": [
    "**Question 14:** What is the **average** speed (in `mph`) of **all** the hurricanes in the dataset?"
   ]
  },
  {
   "cell_type": "code",
   "execution_count": null,
   "id": "084b2f28",
   "metadata": {
    "tags": []
   },
   "outputs": [],
   "source": [
    "# replace the ... with your code\n",
    "sum_wind_speed = ...\n",
    "for idx in range(project.count()):\n",
    "    sum_wind_speed += ...\n",
    "average_wind_speed = sum_wind_speed/project.count()\n",
    "\n",
    "average_wind_speed"
   ]
  },
  {
   "cell_type": "code",
   "execution_count": null,
   "id": "3ca16f60",
   "metadata": {
    "deletable": false,
    "editable": false
   },
   "outputs": [],
   "source": [
    "grader.check(\"q14\")"
   ]
  },
  {
   "cell_type": "markdown",
   "id": "a3c567ea",
   "metadata": {},
   "source": [
    "### Task 4.3: Filtering\n",
    "\n",
    "You will now *filter* the data using an `if` condition as you loop through the dataset."
   ]
  },
  {
   "cell_type": "markdown",
   "id": "66822a53",
   "metadata": {},
   "source": [
    "**Question 15:** How many hurricanes caused **more than** `1000` deaths in the dataset?"
   ]
  },
  {
   "cell_type": "code",
   "execution_count": null,
   "id": "de3fc8df",
   "metadata": {
    "tags": []
   },
   "outputs": [],
   "source": [
    "# replace the ... with your code\n",
    "num_hurr_1000_deaths = ...\n",
    "for idx in range(...): # loop through ALL hurricanes in the dataset; do NOT hardcode the number here\n",
    "    if ...: # replace ... with a Boolean expression\n",
    "        num_hurr_1000_deaths += 1\n",
    "\n",
    "num_hurr_1000_deaths"
   ]
  },
  {
   "cell_type": "code",
   "execution_count": null,
   "id": "8a40bd84",
   "metadata": {
    "deletable": false,
    "editable": false
   },
   "outputs": [],
   "source": [
    "grader.check(\"q15\")"
   ]
  },
  {
   "cell_type": "markdown",
   "id": "772e6b7d",
   "metadata": {},
   "source": [
    "**Question 16:** How many hurricane `names` **start** with the letter *D* in the dataset?"
   ]
  },
  {
   "cell_type": "code",
   "execution_count": null,
   "id": "229827c5",
   "metadata": {
    "tags": []
   },
   "outputs": [],
   "source": [
    "# compute and store the answer in the variable 'num_hurr_d'\n",
    "# TODO: initialize the variable 'num_hurr_d'\n",
    "# TODO: loop through all hurricanes in the dataset\n",
    "# TODO: update the value of 'num_hurr_d' only if\n",
    "#       the name of the hurricane at the current idx starts with 'D'\n",
    "        \n",
    "# display the variable 'num_hurr_d' here\n",
    "num_hurr_d"
   ]
  },
  {
   "cell_type": "code",
   "execution_count": null,
   "id": "666b3be4",
   "metadata": {
    "deletable": false,
    "editable": false
   },
   "outputs": [],
   "source": [
    "grader.check(\"q16\")"
   ]
  },
  {
   "cell_type": "markdown",
   "id": "4b6d7587",
   "metadata": {},
   "source": [
    "### Task 4.4: Maximization/Minimization\n",
    "\n",
    "You will now find the maximum/minimum using loops."
   ]
  },
  {
   "cell_type": "markdown",
   "id": "ced4ccea",
   "metadata": {},
   "source": [
    "**Question 17:** What is the `name` of the hurricane which has the **fastest** wind speed (in `mph`)?\n",
    "\n",
    "`None` is a Python keyword which denotes nothing. At the beginning of this loop, by saying `fastest_idx = None`, we make no assumptions about what the fastest hurricane is. Inside the loop, if the `fastest_idx` is `None`, we know that is our first (and currently fastest) hurricane.\n",
    "\n",
    "Note that in the skeleton code below, we break ties in favor of the hurricane that **appears first** in the dataset."
   ]
  },
  {
   "cell_type": "code",
   "execution_count": null,
   "id": "a9aa57fc",
   "metadata": {
    "tags": []
   },
   "outputs": [],
   "source": [
    "# replace the ... with your code\n",
    "fastest_idx = None\n",
    "max_speed = 0\n",
    "for idx in range(project.count()):\n",
    "    current_speed = ...\n",
    "    if fastest_idx == None or current_speed > max_speed:\n",
    "        max_speed = ...\n",
    "        fastest_idx = idx\n",
    "fastest_name = project.get_name(fastest_idx)\n",
    "        \n",
    "fastest_name"
   ]
  },
  {
   "cell_type": "code",
   "execution_count": null,
   "id": "3752b9ed",
   "metadata": {
    "deletable": false,
    "editable": false
   },
   "outputs": [],
   "source": [
    "grader.check(\"q17\")"
   ]
  },
  {
   "cell_type": "markdown",
   "id": "829d5395",
   "metadata": {},
   "source": [
    "**Question 18:** What is the `name` of the hurricane which has the **slowest** wind speed (in `mph`)?.\n",
    "\n",
    "You **must** break ties in favor of the hurricanes that appear **first** in the dataset."
   ]
  },
  {
   "cell_type": "code",
   "execution_count": null,
   "id": "98ed6874",
   "metadata": {
    "tags": []
   },
   "outputs": [],
   "source": [
    "# replace the ... with your code\n",
    "slowest_idx = None\n",
    "min_speed = 0\n",
    "for idx in range(...):\n",
    "    current_speed = ...\n",
    "    if ... or ...:\n",
    "        min_speed = ...\n",
    "        slowest_idx = ...\n",
    "slowest_name = ...\n",
    "        \n",
    "slowest_name"
   ]
  },
  {
   "cell_type": "code",
   "execution_count": null,
   "id": "d03c6057",
   "metadata": {
    "deletable": false,
    "editable": false
   },
   "outputs": [],
   "source": [
    "grader.check(\"q18\")"
   ]
  },
  {
   "cell_type": "markdown",
   "id": "a2e95bd8",
   "metadata": {},
   "source": [
    "### Task 4.5: More Filtering"
   ]
  },
  {
   "cell_type": "markdown",
   "id": "4ed7fbc7",
   "metadata": {},
   "source": [
    "You will now create a function that takes in two years `start_year` and `end_year`, and return the number of hurricanes that were formed between these two years (both years inclusive).\n",
    "\n",
    "You **must** use the `get_year` function you defined above to find the year of formation of each hurricane. "
   ]
  },
  {
   "cell_type": "code",
   "execution_count": null,
   "id": "a01a0702",
   "metadata": {
    "tags": []
   },
   "outputs": [],
   "source": [
    "def count_hurricanes_between(start_year, end_year):\n",
    "    # replace the ... with your code\n",
    "    num_hurricanes = 0\n",
    "    for idx in range(...):\n",
    "        year_formed = ... # TODO: find the year of formation of the hurricane at idx\n",
    "        # hint: to find year_formed, you first find the date of formation and pass that value to\n",
    "        #       another function to find the year from that date.\n",
    "        #       note that you can perform both computations in a single line by passing the\n",
    "        #       value returned by one function as an argument to another function.\n",
    "        if ...: # TODO: evaluate if hurricane at idx was formed between start_year and end_year\n",
    "            num_hurricanes += 1\n",
    "    return num_hurricanes"
   ]
  },
  {
   "cell_type": "markdown",
   "id": "9e214a61",
   "metadata": {},
   "source": [
    "**Question 19.1:** How many hurricanes were `formed` between *1980 and 2002*, both inclusive?\n",
    "\n",
    "You **must** answer this question by calling the `count_hurricanes_between` function."
   ]
  },
  {
   "cell_type": "code",
   "execution_count": null,
   "id": "870e5d8e",
   "metadata": {
    "tags": []
   },
   "outputs": [],
   "source": [
    "# replace the ... with your code\n",
    "hurr_between_1980_2002 = ...\n",
    "\n",
    "hurr_between_1980_2002"
   ]
  },
  {
   "cell_type": "code",
   "execution_count": null,
   "id": "7421ad74",
   "metadata": {
    "deletable": false,
    "editable": false
   },
   "outputs": [],
   "source": [
    "grader.check(\"q19-1\")"
   ]
  },
  {
   "cell_type": "markdown",
   "id": "29a709f9",
   "metadata": {},
   "source": [
    "**Question 19.2:** How many hurricanes were `formed` between *1901 and 2000*, both inclusive?\n",
    "\n",
    "You **must** answer this question by calling the `count_hurricanes_between` function."
   ]
  },
  {
   "cell_type": "code",
   "execution_count": null,
   "id": "9317ccf6",
   "metadata": {
    "tags": []
   },
   "outputs": [],
   "source": [
    "# replace the ... with your code\n",
    "hurr_between_1901_2000 = ...\n",
    "\n",
    "hurr_between_1901_2000"
   ]
  },
  {
   "cell_type": "code",
   "execution_count": null,
   "id": "50b8b91a",
   "metadata": {
    "deletable": false,
    "editable": false
   },
   "outputs": [],
   "source": [
    "grader.check(\"q19-2\")"
   ]
  },
  {
   "cell_type": "markdown",
   "id": "0709bb1e",
   "metadata": {},
   "source": [
    "## Segment 5: Fixing Indentation\n",
    "\n",
    "### Task 5.1: Debugging\n",
    "\n",
    "The `def`, `if`, and `for` statements above use different levels of **indentation** to encode the meaning of the statement. This means, by just changing the indentation level of some code, you might get invalid code that has a **syntax error** or you might get **valid code** that gives a different, **incorrect result**. Therefore, it is an important skill to decide on the **correct indentation level** for and to recognize a wrong indentation level in a piece of code.\n",
    "\n",
    "For each of the following questions, you will be provided with a function which has either **syntax/semantic errors** because of **bad indentation**. You **must** fix the indentation to make the functions work as intended.\n",
    "\n",
    "**Warning:** You **must** fix the errors **only by changing the indentation**, and **not** by writing any code of your own. \n",
    "\n",
    "**Hint:** You can increase the indentation simultaneously for a number of lines by selecting them and hitting the *Tab* key on your keyboard. Similarly, you can decrease their indentation by holding the *Shift* key and then hitting *Tab* on your keyboard."
   ]
  },
  {
   "cell_type": "markdown",
   "id": "6fc6093b",
   "metadata": {},
   "source": [
    "**Question 20.1:** Fix the indentation errors in the function below."
   ]
  },
  {
   "cell_type": "code",
   "execution_count": null,
   "id": "e0e3575d",
   "metadata": {
    "tags": []
   },
   "outputs": [],
   "source": [
    "# fix any indentation errors you find in the code below\n",
    "\n",
    "def count_slower_than(mph):\n",
    "    '''count_slower_than(mph) returns the number of hurricanes\n",
    "    with a maximum wind speed less than the given speed'''\n",
    "    num_hurrs = 0\n",
    "    for idx in range(project.count()):\n",
    "        if project.get_mph(idx) < mph:\n",
    "        num_hurrs += 1\n",
    "    return num_hurrs"
   ]
  },
  {
   "cell_type": "code",
   "execution_count": null,
   "id": "0e1a2762",
   "metadata": {
    "tags": []
   },
   "outputs": [],
   "source": [
    "# execute this cell without changing anything\n",
    "indentation_test_1 = count_slower_than(200)\n",
    "\n",
    "indentation_test_1"
   ]
  },
  {
   "cell_type": "code",
   "execution_count": null,
   "id": "a776f750",
   "metadata": {
    "deletable": false,
    "editable": false
   },
   "outputs": [],
   "source": [
    "grader.check(\"20-1\")"
   ]
  },
  {
   "cell_type": "markdown",
   "id": "3acec782",
   "metadata": {},
   "source": [
    "**Question 20.2:** Fix the indentation errors in the function below.\n",
    "\n",
    "Unlike the previous function definition, this one has a **semantic** error, i.e., the code executes without any syntax errors, but the logic behind the code is incorrect. Fix the indentation, so that the code behaves as it is supposed to.\n",
    "\n",
    "**Hint:** If you are having trouble identifying the error, you should try tracing through the code using the test examples below. Manually open [`hurricanes.csv`](https://git.doit.wisc.edu/cdis/cs/courses/cs220/cs220-s23-projects/-/tree/main/lab-p5/hurricanes.csv), then go through the function line by line to confirm that it behaves as it ought to."
   ]
  },
  {
   "cell_type": "code",
   "execution_count": null,
   "id": "809d9c26",
   "metadata": {
    "tags": []
   },
   "outputs": [],
   "source": [
    "# fix any indentation errors you find in the code below\n",
    "\n",
    "def count_number_of(name):\n",
    "    '''count_number_of(name) returns the number of hurricanes\n",
    "    in the dataset with the given name'''\n",
    "    num_hurrs = 0\n",
    "    for idx in range(project.count()):\n",
    "        if project.get_name(idx) == name:\n",
    "            num_hurrs += 1\n",
    "        return num_hurrs"
   ]
  },
  {
   "cell_type": "code",
   "execution_count": null,
   "id": "a82f0b41",
   "metadata": {
    "tags": []
   },
   "outputs": [],
   "source": [
    "# execute this cell without changing anything\n",
    "indentation_test_2 = count_number_of(\"Harvey\")\n",
    "\n",
    "indentation_test_2"
   ]
  },
  {
   "cell_type": "code",
   "execution_count": null,
   "id": "39c9f9ab",
   "metadata": {
    "deletable": false,
    "editable": false
   },
   "outputs": [],
   "source": [
    "grader.check(\"20-2\")"
   ]
  },
  {
   "cell_type": "markdown",
   "id": "8173fe1b",
   "metadata": {},
   "source": [
    "**Question 20.3:** Fix the indentation errors in the function below.\n",
    "\n",
    "This function definition has a **semantic** error, i.e., the code executes without any syntax errors, but the logic behind the code is incorrect. Fix the indentation, so that the code behaves as it is supposed to."
   ]
  },
  {
   "cell_type": "code",
   "execution_count": null,
   "id": "96ff8fb2",
   "metadata": {
    "tags": []
   },
   "outputs": [],
   "source": [
    "# fix any indentation errors you find in the code below\n",
    "\n",
    "def count_deadlier_than(hurr_idx):\n",
    "    '''count_deadlier_than(hurr_idx) returns the number of \n",
    "    hurricanes in the dataset which caused more deaths \n",
    "    than the hurricane with the given index'''\n",
    "    num_hurrs = 0\n",
    "    for idx in range(project.count()):\n",
    "        if project.get_deaths(idx) > project.get_deaths(hurr_idx):\n",
    "            num_hurrs += 1\n",
    "            return num_hurrs"
   ]
  },
  {
   "cell_type": "code",
   "execution_count": null,
   "id": "5c540fd2",
   "metadata": {
    "tags": []
   },
   "outputs": [],
   "source": [
    "# execute this cell without changing anything\n",
    "indentation_test_3 = count_deadlier_than(0)\n",
    "\n",
    "indentation_test_3"
   ]
  },
  {
   "cell_type": "code",
   "execution_count": null,
   "id": "9e511a4d",
   "metadata": {
    "deletable": false,
    "editable": false
   },
   "outputs": [],
   "source": [
    "grader.check(\"20-3\")"
   ]
  },
  {
   "cell_type": "markdown",
   "id": "add6842d",
   "metadata": {},
   "source": [
    "**Question 20.4:** Fix the indentation errors in the function below.\n",
    "\n",
    "This function definition has a **semantic** error, i.e., the code executes without any syntax errors, but the logic behind the code is incorrect. Fix the indentation, so that the code behaves as it is supposed to.\n",
    "\n",
    "Note that for calls to the function below to execute, you must have correctly defined the function `get_year` in Task 3.4.1."
   ]
  },
  {
   "cell_type": "code",
   "execution_count": null,
   "id": "51a1667f",
   "metadata": {
    "tags": []
   },
   "outputs": [],
   "source": [
    "# fix any indentation errors you find in the code below\n",
    "\n",
    "def find_average_mph(year):\n",
    "    '''find_average_mph(year) returns the average speed of \n",
    "    hurricanes in the dataset which were formed in the\n",
    "    given year'''\n",
    "    total_speed = 0\n",
    "    num_hurrs = 0\n",
    "    for idx in range(project.count()):\n",
    "        if get_year(project.get_formed(idx)) == year:\n",
    "            total_speed += project.get_mph(idx)\n",
    "        num_hurrs += 1\n",
    "    return total_speed/num_hurrs"
   ]
  },
  {
   "cell_type": "code",
   "execution_count": null,
   "id": "0d9bb097",
   "metadata": {
    "tags": []
   },
   "outputs": [],
   "source": [
    "# execute this cell without changing anything\n",
    "indentation_test_4 = find_average_mph(2022)\n",
    "\n",
    "indentation_test_4"
   ]
  },
  {
   "cell_type": "code",
   "execution_count": null,
   "id": "e5e0a9d3",
   "metadata": {
    "deletable": false,
    "editable": false
   },
   "outputs": [],
   "source": [
    "grader.check(\"20-4\")"
   ]
  },
  {
   "cell_type": "markdown",
   "id": "0b57bfb9",
   "metadata": {},
   "source": [
    "**Question 20.5:** Fix the indentation errors in the function below.\n",
    "\n",
    "This function definition has a **semantic** error, i.e., the code executes without any syntax errors, but the logic behind the code is incorrect. Fix the indentation, so that the code behaves as it is supposed to."
   ]
  },
  {
   "cell_type": "code",
   "execution_count": null,
   "id": "d92db06a",
   "metadata": {
    "tags": []
   },
   "outputs": [],
   "source": [
    "# fix any indentation errors you find in the code below\n",
    "\n",
    "def check_more_than_one(name):\n",
    "    '''check_more_than_one(name) returns True if \n",
    "    there is more than one hurricane in the dataset\n",
    "    with the given name and False otherwise'''\n",
    "    num_hurrs = 0\n",
    "    for idx in range(project.count()):\n",
    "        if project.get_name(idx) == name:\n",
    "            num_hurrs += 1\n",
    "        if num_hurrs > 1:\n",
    "            return True\n",
    "        else:\n",
    "            return False"
   ]
  },
  {
   "cell_type": "code",
   "execution_count": null,
   "id": "b971f787",
   "metadata": {
    "tags": []
   },
   "outputs": [],
   "source": [
    "# execute this cell without changing anything\n",
    "indentation_test_5 = check_more_than_one(\"Maria\")\n",
    "\n",
    "indentation_test_5"
   ]
  },
  {
   "cell_type": "code",
   "execution_count": null,
   "id": "316b61d1",
   "metadata": {
    "deletable": false,
    "editable": false
   },
   "outputs": [],
   "source": [
    "grader.check(\"20-5\")"
   ]
  },
  {
   "cell_type": "markdown",
   "id": "e8cf6b1a",
   "metadata": {},
   "source": [
    "**Question 20.6:** Fix the indentation errors in the function below.\n",
    "\n",
    "This function definition has a **semantic** error, i.e., the code executes without any syntax errors, but the logic behind the code is incorrect. Fix the indentation, so that the code behaves as it is supposed to."
   ]
  },
  {
   "cell_type": "code",
   "execution_count": null,
   "id": "a4db7d63",
   "metadata": {
    "tags": []
   },
   "outputs": [],
   "source": [
    "# fix any indentation errors you find in the code below\n",
    "\n",
    "def find_deadliest():\n",
    "    '''find_deadliest() returns the most number of deaths\n",
    "    caused by any hurricane in the entire dataset'''\n",
    "    deadliest_idx = None\n",
    "    max_deaths = 0\n",
    "    for idx in range(project.count()):\n",
    "        curr_deaths = project.get_deaths(idx)\n",
    "        if deadliest_idx == None or curr_deaths > max_deaths:\n",
    "            deadliest_idx = idx\n",
    "        max_deaths = curr_deaths           \n",
    "    return max_deaths"
   ]
  },
  {
   "cell_type": "code",
   "execution_count": null,
   "id": "00df3e6b",
   "metadata": {
    "tags": []
   },
   "outputs": [],
   "source": [
    "# execute this cell without changing anything\n",
    "indentation_test_6 = find_deadliest()\n",
    "\n",
    "indentation_test_6"
   ]
  },
  {
   "cell_type": "code",
   "execution_count": null,
   "id": "d7f75818",
   "metadata": {
    "deletable": false,
    "editable": false
   },
   "outputs": [],
   "source": [
    "grader.check(\"20-6\")"
   ]
  },
  {
   "cell_type": "markdown",
   "id": "2b2febbd",
   "metadata": {},
   "source": [
    "**Question 20.7:** Fix the indentation errors in the function below.\n",
    "\n",
    "This function definition has a **semantic** error, i.e., the code executes without any syntax errors, but the logic behind the code is incorrect. Fix the indentation, so that the code behaves as it is supposed to."
   ]
  },
  {
   "cell_type": "code",
   "execution_count": null,
   "id": "fcfa8c2e",
   "metadata": {
    "tags": []
   },
   "outputs": [],
   "source": [
    "# fix any indentation errors you find in the code below\n",
    "\n",
    "def count_more_common(name1, name2):\n",
    "    '''count_more_common(name1, name2) returns which of \n",
    "    the two given hurricane names appears more often\n",
    "    in the dataset, and returns \"Draw\" if they appear\n",
    "    an equal number of times'''\n",
    "    num_name1 = 0\n",
    "    num_name2 = 0\n",
    "    for idx in range(project.count()):\n",
    "        if project.get_name(idx) == name1:\n",
    "            num_name1 += 1\n",
    "        elif project.get_name(idx) == name2:\n",
    "            num_name2 += 1\n",
    "        if num_name1 > num_name2:\n",
    "            return name1\n",
    "        elif num_name1 < num_name2:\n",
    "            return name2\n",
    "        else:\n",
    "            return \"Draw\""
   ]
  },
  {
   "cell_type": "code",
   "execution_count": null,
   "id": "873c54b0",
   "metadata": {
    "tags": []
   },
   "outputs": [],
   "source": [
    "# execute this cell without changing anything\n",
    "indentation_test_7 = count_more_common(\"1812 Louisiana hurricane\", \"Katrina\")\n",
    "\n",
    "indentation_test_7"
   ]
  },
  {
   "cell_type": "code",
   "execution_count": null,
   "id": "b28d5b4c",
   "metadata": {
    "deletable": false,
    "editable": false
   },
   "outputs": [],
   "source": [
    "grader.check(\"20-7\")"
   ]
  },
  {
   "cell_type": "markdown",
   "id": "169ad20d",
   "metadata": {},
   "source": [
    "## Great work! You are now ready to start [P5](https://git.doit.wisc.edu/cdis/cs/courses/cs220/cs220-s23-projects/-/tree/main/p5)"
   ]
  }
 ],
 "metadata": {
  "kernelspec": {
   "display_name": "Python 3 (ipykernel)",
   "language": "python",
   "name": "python3"
  },
  "language_info": {
   "codemirror_mode": {
    "name": "ipython",
    "version": 3
   },
   "file_extension": ".py",
   "mimetype": "text/x-python",
   "name": "python",
   "nbconvert_exporter": "python",
   "pygments_lexer": "ipython3",
   "version": "3.9.13"
  },
  "otter": {
   "OK_FORMAT": true,
   "tests": {
    "20-1": {
     "name": "20-1",
     "points": 0,
     "suites": [
      {
       "cases": [
        {
         "code": ">>> practice_test.check(\"q20-1\", indentation_test_1)\nTrue",
         "hidden": false,
         "locked": false
        }
       ],
       "scored": true,
       "setup": "",
       "teardown": "",
       "type": "doctest"
      }
     ]
    },
    "20-2": {
     "name": "20-2",
     "points": 0.5,
     "suites": [
      {
       "cases": [
        {
         "code": ">>> practice_test.check(\"q20-2\", indentation_test_2)\nTrue",
         "hidden": false,
         "locked": false
        }
       ],
       "scored": true,
       "setup": "",
       "teardown": "",
       "type": "doctest"
      }
     ]
    },
    "20-3": {
     "name": "20-3",
     "points": 0.5,
     "suites": [
      {
       "cases": [
        {
         "code": ">>> practice_test.check(\"q20-3\", indentation_test_3)\nTrue",
         "hidden": false,
         "locked": false
        }
       ],
       "scored": true,
       "setup": "",
       "teardown": "",
       "type": "doctest"
      }
     ]
    },
    "20-4": {
     "name": "20-4",
     "points": 1,
     "suites": [
      {
       "cases": [
        {
         "code": ">>> practice_test.check(\"q20-4\", indentation_test_4)\nTrue",
         "hidden": false,
         "locked": false
        }
       ],
       "scored": true,
       "setup": "",
       "teardown": "",
       "type": "doctest"
      }
     ]
    },
    "20-5": {
     "name": "20-5",
     "points": 1,
     "suites": [
      {
       "cases": [
        {
         "code": ">>> practice_test.check(\"q20-5\", indentation_test_5)\nTrue",
         "hidden": false,
         "locked": false
        }
       ],
       "scored": true,
       "setup": "",
       "teardown": "",
       "type": "doctest"
      }
     ]
    },
    "20-6": {
     "name": "20-6",
     "points": 1,
     "suites": [
      {
       "cases": [
        {
         "code": ">>> practice_test.check(\"q20-6\", indentation_test_6)\nTrue",
         "hidden": false,
         "locked": false
        }
       ],
       "scored": true,
       "setup": "",
       "teardown": "",
       "type": "doctest"
      }
     ]
    },
    "20-7": {
     "name": "20-7",
     "points": 1,
     "suites": [
      {
       "cases": [
        {
         "code": ">>> practice_test.check(\"q20-7\", indentation_test_7)\nTrue",
         "hidden": false,
         "locked": false
        }
       ],
       "scored": true,
       "setup": "",
       "teardown": "",
       "type": "doctest"
      }
     ]
    },
    "q1-1": {
     "name": "q1-1",
     "points": 0,
     "suites": [
      {
       "cases": [
        {
         "code": ">>> practice_test.check(\"q1-1\", name_idx0)\nTrue",
         "hidden": false,
         "locked": false
        }
       ],
       "scored": true,
       "setup": "",
       "teardown": "",
       "type": "doctest"
      }
     ]
    },
    "q1-2": {
     "name": "q1-2",
     "points": 1,
     "suites": [
      {
       "cases": [
        {
         "code": ">>> practice_test.check(\"q1-2\", name_idx1)\nTrue",
         "hidden": false,
         "locked": false
        }
       ],
       "scored": true,
       "setup": "",
       "teardown": "",
       "type": "doctest"
      }
     ]
    },
    "q1-3": {
     "name": "q1-3",
     "points": 2,
     "suites": [
      {
       "cases": [
        {
         "code": ">>> practice_test.check(\"q1-3\", mph_idx7)\nTrue",
         "hidden": false,
         "locked": false
        }
       ],
       "scored": true,
       "setup": "",
       "teardown": "",
       "type": "doctest"
      }
     ]
    },
    "q1-4": {
     "name": "q1-4",
     "points": 2,
     "suites": [
      {
       "cases": [
        {
         "code": ">>> practice_test.check(\"q1-4\", damage_idx5)\nTrue",
         "hidden": false,
         "locked": false
        }
       ],
       "scored": true,
       "setup": "",
       "teardown": "",
       "type": "doctest"
      }
     ]
    },
    "q10": {
     "name": "q10",
     "points": 5,
     "suites": [
      {
       "cases": [
        {
         "code": ">>> practice_test.check(\"q10\", month_diss_idx300)\nTrue",
         "hidden": false,
         "locked": false
        }
       ],
       "scored": true,
       "setup": "",
       "teardown": "",
       "type": "doctest"
      }
     ]
    },
    "q11": {
     "name": "q11",
     "points": 5,
     "suites": [
      {
       "cases": [
        {
         "code": ">>> practice_test.check(\"q11\", sum_while)\nTrue",
         "hidden": false,
         "locked": false
        }
       ],
       "scored": true,
       "setup": "",
       "teardown": "",
       "type": "doctest"
      }
     ]
    },
    "q12": {
     "name": "q12",
     "points": 5,
     "suites": [
      {
       "cases": [
        {
         "code": ">>> practice_test.check(\"q12\", sum_for)\nTrue",
         "hidden": false,
         "locked": false
        }
       ],
       "scored": true,
       "setup": "",
       "teardown": "",
       "type": "doctest"
      }
     ]
    },
    "q13": {
     "name": "q13",
     "points": 5,
     "suites": [
      {
       "cases": [
        {
         "code": ">>> practice_test.check(\"q13\", total_deaths_first10)\nTrue",
         "hidden": false,
         "locked": false
        }
       ],
       "scored": true,
       "setup": "",
       "teardown": "",
       "type": "doctest"
      }
     ]
    },
    "q14": {
     "name": "q14",
     "points": 5,
     "suites": [
      {
       "cases": [
        {
         "code": ">>> practice_test.check(\"q14\", average_wind_speed)\nTrue",
         "hidden": false,
         "locked": false
        }
       ],
       "scored": true,
       "setup": "",
       "teardown": "",
       "type": "doctest"
      }
     ]
    },
    "q15": {
     "name": "q15",
     "points": 5,
     "suites": [
      {
       "cases": [
        {
         "code": ">>> practice_test.check(\"q15\", num_hurr_1000_deaths)\nTrue",
         "hidden": false,
         "locked": false
        }
       ],
       "scored": true,
       "setup": "",
       "teardown": "",
       "type": "doctest"
      }
     ]
    },
    "q16": {
     "name": "q16",
     "points": 5,
     "suites": [
      {
       "cases": [
        {
         "code": ">>> practice_test.check(\"q16\", num_hurr_d)\nTrue",
         "hidden": false,
         "locked": false
        }
       ],
       "scored": true,
       "setup": "",
       "teardown": "",
       "type": "doctest"
      }
     ]
    },
    "q17": {
     "name": "q17",
     "points": 5,
     "suites": [
      {
       "cases": [
        {
         "code": ">>> practice_test.check(\"q17\", fastest_name)\nTrue",
         "hidden": false,
         "locked": false
        }
       ],
       "scored": true,
       "setup": "",
       "teardown": "",
       "type": "doctest"
      }
     ]
    },
    "q18": {
     "name": "q18",
     "points": 5,
     "suites": [
      {
       "cases": [
        {
         "code": ">>> practice_test.check(\"q18\", slowest_name)\nTrue",
         "hidden": false,
         "locked": false
        }
       ],
       "scored": true,
       "setup": "",
       "teardown": "",
       "type": "doctest"
      }
     ]
    },
    "q19-1": {
     "name": "q19-1",
     "points": 2.5,
     "suites": [
      {
       "cases": [
        {
         "code": ">>> practice_test.check(\"q19-1\", hurr_between_1980_2002)\nTrue",
         "hidden": false,
         "locked": false
        }
       ],
       "scored": true,
       "setup": "",
       "teardown": "",
       "type": "doctest"
      }
     ]
    },
    "q19-2": {
     "name": "q19-2",
     "points": 2.5,
     "suites": [
      {
       "cases": [
        {
         "code": ">>> practice_test.check(\"q19-2\", hurr_between_1901_2000)\nTrue",
         "hidden": false,
         "locked": false
        }
       ],
       "scored": true,
       "setup": "",
       "teardown": "",
       "type": "doctest"
      }
     ]
    },
    "q2": {
     "name": "q2",
     "points": 5,
     "suites": [
      {
       "cases": [
        {
         "code": ">>> practice_test.check(\"q2\", name_idx_last)\nTrue",
         "hidden": false,
         "locked": false
        }
       ],
       "scored": true,
       "setup": "",
       "teardown": "",
       "type": "doctest"
      }
     ]
    },
    "q3-1": {
     "name": "q3-1",
     "points": 1.25,
     "suites": [
      {
       "cases": [
        {
         "code": ">>> practice_test.check(\"q3-1\", last_digit)\nTrue",
         "hidden": false,
         "locked": false
        }
       ],
       "scored": true,
       "setup": "",
       "teardown": "",
       "type": "doctest"
      }
     ]
    },
    "q3-2": {
     "name": "q3-2",
     "points": 1.25,
     "suites": [
      {
       "cases": [
        {
         "code": ">>> practice_test.check(\"q3-2\", area_code)\nTrue",
         "hidden": false,
         "locked": false
        }
       ],
       "scored": true,
       "setup": "",
       "teardown": "",
       "type": "doctest"
      }
     ]
    },
    "q3-3": {
     "name": "q3-3",
     "points": 1.25,
     "suites": [
      {
       "cases": [
        {
         "code": ">>> practice_test.check(\"q3-3\", line_number)\nTrue",
         "hidden": false,
         "locked": false
        }
       ],
       "scored": true,
       "setup": "",
       "teardown": "",
       "type": "doctest"
      }
     ]
    },
    "q3-4": {
     "name": "q3-4",
     "points": 1.25,
     "suites": [
      {
       "cases": [
        {
         "code": ">>> practice_test.check(\"q3-4\", exchange_code)\nTrue",
         "hidden": false,
         "locked": false
        }
       ],
       "scored": true,
       "setup": "",
       "teardown": "",
       "type": "doctest"
      }
     ]
    },
    "q4-1": {
     "name": "q4-1",
     "points": 2.5,
     "suites": [
      {
       "cases": [
        {
         "code": ">>> practice_test.check(\"q4-1\", dept_code)\nTrue",
         "hidden": false,
         "locked": false
        }
       ],
       "scored": true,
       "setup": "",
       "teardown": "",
       "type": "doctest"
      }
     ]
    },
    "q4-2": {
     "name": "q4-2",
     "points": 2.5,
     "suites": [
      {
       "cases": [
        {
         "code": ">>> practice_test.check(\"q4-2\", course_code)\nTrue",
         "hidden": false,
         "locked": false
        }
       ],
       "scored": true,
       "setup": "",
       "teardown": "",
       "type": "doctest"
      }
     ]
    },
    "q5-1": {
     "name": "q5-1",
     "points": 2,
     "suites": [
      {
       "cases": [
        {
         "code": ">>> practice_test.check(\"q5-1\", suffix)\nTrue",
         "hidden": false,
         "locked": false
        }
       ],
       "scored": true,
       "setup": "",
       "teardown": "",
       "type": "doctest"
      }
     ]
    },
    "q5-2": {
     "name": "q5-2",
     "points": 3,
     "suites": [
      {
       "cases": [
        {
         "code": ">>> practice_test.check(\"q5-2\", billions)\nTrue",
         "hidden": false,
         "locked": false
        }
       ],
       "scored": true,
       "setup": "",
       "teardown": "",
       "type": "doctest"
      }
     ]
    },
    "q6": {
     "name": "q6",
     "points": 5,
     "suites": [
      {
       "cases": [
        {
         "code": ">>> practice_test.check(\"q6\", month_idx0)\nTrue",
         "hidden": false,
         "locked": false
        }
       ],
       "scored": true,
       "setup": "",
       "teardown": "",
       "type": "doctest"
      }
     ]
    },
    "q7-1": {
     "name": "q7-1",
     "points": 2.5,
     "suites": [
      {
       "cases": [
        {
         "code": ">>> practice_test.check(\"q7-1\", year)\nTrue",
         "hidden": false,
         "locked": false
        }
       ],
       "scored": true,
       "setup": "",
       "teardown": "",
       "type": "doctest"
      }
     ]
    },
    "q7-2": {
     "name": "q7-2",
     "points": 2.5,
     "suites": [
      {
       "cases": [
        {
         "code": ">>> practice_test.check(\"q7-2\", day)\nTrue",
         "hidden": false,
         "locked": false
        }
       ],
       "scored": true,
       "setup": "",
       "teardown": "",
       "type": "doctest"
      }
     ]
    },
    "q8": {
     "name": "q8",
     "points": 5,
     "suites": [
      {
       "cases": [
        {
         "code": ">>> practice_test.check(\"q8\", day_formed_idx100)\nTrue",
         "hidden": false,
         "locked": false
        }
       ],
       "scored": true,
       "setup": "",
       "teardown": "",
       "type": "doctest"
      }
     ]
    },
    "q9": {
     "name": "q9",
     "points": 5,
     "suites": [
      {
       "cases": [
        {
         "code": ">>> practice_test.check(\"q9\", year_formed_idx200)\nTrue",
         "hidden": false,
         "locked": false
        }
       ],
       "scored": true,
       "setup": "",
       "teardown": "",
       "type": "doctest"
      }
     ]
    }
   }
  }
 },
 "nbformat": 4,
 "nbformat_minor": 5
}

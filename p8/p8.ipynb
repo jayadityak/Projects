{
 "cells": [
  {
   "cell_type": "code",
   "execution_count": 1,
   "id": "96d4b65b",
   "metadata": {
    "cell_type": "code",
    "deletable": false,
    "editable": false
   },
   "outputs": [],
   "source": [
    "import otter\n",
    "# nb_name should be the name of your notebook without the .ipynb extension\n",
    "nb_name = \"p8\"\n",
    "py_filename = nb_name + \".py\"\n",
    "grader = otter.Notebook(nb_name + \".ipynb\")"
   ]
  },
  {
   "cell_type": "code",
   "execution_count": 2,
   "id": "7d83a532",
   "metadata": {
    "deletable": false
   },
   "outputs": [],
   "source": [
    "import p8_test"
   ]
  },
  {
   "cell_type": "code",
   "execution_count": 3,
   "id": "5e07061f",
   "metadata": {},
   "outputs": [],
   "source": [
    "# PLEASE FILL IN THE DETAILS\n",
    "# Enter none if you don't have a project partner\n",
    "# You will have to add your partner as a group member on Gradescope even after you fill this\n",
    "\n",
    "# project: p8\n",
    "# submitter: khamesra\n",
    "# partner: Sid Valecha"
   ]
  },
  {
   "cell_type": "markdown",
   "id": "75f17cd4",
   "metadata": {
    "deletable": false,
    "editable": false
   },
   "source": [
    "# Project 8: Going to the Movies"
   ]
  },
  {
   "cell_type": "markdown",
   "id": "6bdb30bf",
   "metadata": {
    "deletable": false,
    "editable": false
   },
   "source": [
    "## Learning Objectives:\n",
    "\n",
    "In this project, you will demonstrate how to:\n",
    "\n",
    "* integrate relevant information from various sources (e.g. multiple csv files),\n",
    "* build appropriate data structures for organized and informative presentation (e.g. list of dictionaries),\n",
    "* practice good coding style.\n",
    "\n",
    "Please go through [Lab-P8](https://git.doit.wisc.edu/cdis/cs/courses/cs220/cs220-s23-projects/-/tree/main/lab-p8) before working on this project. The lab introduces some useful techniques related to this project."
   ]
  },
  {
   "cell_type": "markdown",
   "id": "32b502e7",
   "metadata": {
    "deletable": false,
    "editable": false
   },
   "source": [
    "<h2 style=\"color:red\">Warning (Note on Academic Misconduct):</h2>\n",
    "\n",
    "**IMPORTANT**: P8 and P9 are two parts of the same data analysis. You **cannot** switch project partners between these two projects. That is if you partner up with someone for P8, you have to sustain that partnership until the end of P9. Now may be a good time to review [our course policies](https://cs220.cs.wisc.edu/s23/syllabus.html)."
   ]
  },
  {
   "cell_type": "markdown",
   "id": "23393c33",
   "metadata": {
    "deletable": false,
    "editable": false
   },
   "source": [
    "## Testing your code:\n",
    "\n",
    "Along with this notebook, you must have downloaded the file `p8_test.py`. If you are curious about how we test your code, you can explore this file, and specifically the value of the variable `expected_json`, to understand the expected answers to the questions."
   ]
  },
  {
   "cell_type": "markdown",
   "id": "9bf99530",
   "metadata": {
    "deletable": false,
    "editable": false
   },
   "source": [
    "## Introduction:\n",
    "\n",
    "In this project and the next, we will be working on the [IMDb Movies Dataset](https://www.imdb.com/interfaces/). We will use Python to discover some cool facts about our favorite movies, cast, and directors.\n",
    "\n",
    "In this project, you will combine the data from the movie and mapping files into a more useful format.\n",
    "Start by downloading the following files: `p8_test.py`, `small_mapping.csv`, `small_movies.csv`, `mapping.csv`, and `movies.csv`."
   ]
  },
  {
   "cell_type": "markdown",
   "id": "f24b042f",
   "metadata": {
    "deletable": false,
    "editable": false
   },
   "source": [
    "## The Data:\n",
    "\n",
    "Open `movies.csv` and `mapping.csv` in any spreadsheet viewer, and see what the data looks like.\n",
    "`movies.csv` has ~200,000 rows and `mapping.csv` has ~610,000 rows. These files store information about **every** movie on the IMDb dataset which was released in the US. These datasets are **very** large when compared to `small_movies.csv` and `small_mapping.csv` from [Lab-P8](https://git.doit.wisc.edu/cdis/cs/courses/cs220/cs220-s23-projects/-/tree/main/lab-p8), but the data is stored in the **same format**. For a description of the datasets, please refer back to [Lab-P8](https://git.doit.wisc.edu/cdis/cs/courses/cs220/cs220-s23-projects/-/tree/main/lab-p8).\n",
    "\n",
    "Before we start working with these very large datasets, let us start with the much smaller datasets, `small_movies.csv` and `small_mapping.csv` from Lab-P8. In the latter half of P8 and in P9, you will be working with `movies.csv` and `mapping.csv`. Since the files `movies.csv` and `mapping.csv` are large, some of the functions you write in P8 and P9 **may take a while to execute**. You do not have to panic if a single cell takes between 5 to 10 seconds to run. If any cell takes significantly longer, follow the recommendations below:\n",
    "\n",
    "- **Do not** call **slow functions** multiple times within a loop.\n",
    "- **Do not** call functions that **iterate over the entire dataset within a loop**; instead, call the function before the loop and store the result in a variable.\n",
    "- **Do not** compute quantities **inside a loop** if it can be computed outside the loop; for example, if you want to calculate the average of a list, you should use the loop to find the numerator and denominator but divide **once** after the loop ends instead of inside the loop."
   ]
  },
  {
   "cell_type": "markdown",
   "id": "4b833ef2",
   "metadata": {
    "deletable": false,
    "editable": false
   },
   "source": [
    "## Project Requirements:\n",
    "\n",
    "You **may not** hardcode indices in your code, unless the question explicitly asks you to do so. If you open your `.csv` files with Excel, manually count through the rows and use this number to loop through the dataset, this is also considered as hardcoding. If any instances of hardcoding are found during code review, the Gradescope autograder will **deduct** points from your public score.\n",
    "\n",
    "**Store** your final answer for each question in the **variable specified for each question**. This step is important because Otter grades your work by comparing the value of this variable against the correct answer.\n",
    "\n",
    "For some of the questions, we'll ask you to write (then use) a function to compute the answer. If you compute the answer **without** creating the function we ask you to write, the Gradescope autograder will **deduct** points from your public score, even if the way you did it produced the correct answer.\n",
    "\n",
    "Required Functions:\n",
    "- `get_mapping`\n",
    "- `get_raw_movies`\n",
    "- `get_movies`\n",
    "- `find_specific_movies`\n",
    "- `bucketize_by_genre`\n",
    "\n",
    "In this project, you will also be required to define certain **data structures**. If you do not create these data structures exactly as specified, the Gradescope autograder will **deduct** points from your public score, even if the way you did it produced the correct answer.\n",
    "\n",
    "Required Data Structures:\n",
    "- `small_movies`\n",
    "- `movies`\n",
    "- `genre_dict`\n",
    "\n",
    "You are only allowed to define these data structures **once** and the Gradescope autograder will **deduct** points from your public score if you redefine the values of these variables.\n",
    "\n",
    "In this project (and the next), you will be asked to create **lists** of movies. For all such questions, **unless it is explicitly mentioned otherwise**, the movies should be in the **same order** as in the `movies.csv` (or `small_movies.csv`) file. Similarly, for each movie, the **list** of `genres`, `directors`, and `cast` members should always be in the **same order** as in the `movies.csv` (or `small_movies.csv`) file.\n",
    "\n",
    "Students are only allowed to use Python commands and concepts that have been taught in the course prior to the release of P8. Therefore, you should not use the pandas module.  the Gradescope autograder will **deduct** points from your public score otherwise.\n",
    "\n",
    "In addition, you are also **required** to follow the requirements below:\n",
    "- **Do not use the method `csv.DictReader` for P8**. Although the required output can be obtained using this method, one of the learning outcomes of this project is to demonstrate your ability to build dictionaries with your own code.  \n",
    "- Additional import statements beyond those that are stated in the directions are not allowed. For this project, we allow you to use `csv` and `copy` packages (that is, you can use the `import csv` and `import copy` statements in your submission). You should not use concepts / modules that are yet to be covered in this course; for example: you should not use modules like `pandas`.\n",
    "\n",
    "The Gradescope autograder will **deduct** points accordingly, if you don't follow the provided directions.\n",
    "\n",
    "For more details on what will cause you to lose points during code review and specific requirements, please take a look at the [Grading rubric](https://git.doit.wisc.edu/cdis/cs/courses/cs220/cs220-s23-projects/-/blob/main/p8/rubric.md)."
   ]
  },
  {
   "cell_type": "markdown",
   "id": "70aff015",
   "metadata": {
    "deletable": false,
    "editable": false
   },
   "source": [
    "## Questions and Functions:\n",
    "\n",
    "Let us start by importing all the modules we will need for this project.\n",
    "\n"
   ]
  },
  {
   "cell_type": "code",
   "execution_count": 4,
   "id": "ab004200",
   "metadata": {
    "tags": []
   },
   "outputs": [],
   "source": [
    "# it is considered a good coding practice to place all import statements at the top of the notebook\n",
    "# please place all your import statements in this cell if you need to import any more modules for this project\n",
    "import csv\n",
    "import copy"
   ]
  },
  {
   "cell_type": "markdown",
   "id": "9a1c1e81",
   "metadata": {
    "deletable": false,
    "editable": false
   },
   "source": [
    "### Function 1: `get_mapping(path)`\n",
    "\n",
    "We require you to complete the below function to answer the next several questions (this is a **requirement**, and you will **lose points** if you do not implement this function). You may copy/paste code from your lab-p8 notebook to finish this function."
   ]
  },
  {
   "cell_type": "code",
   "execution_count": 5,
   "id": "35c90740",
   "metadata": {
    "tags": []
   },
   "outputs": [],
   "source": [
    "def get_mapping(path):\n",
    "    \"\"\"\n",
    "    get_mapping(path) converts a mapping csv in 'path' \n",
    "    into a dict with keys as IDs and values as names\n",
    "    \"\"\"\n",
    "    # replace with your code\n",
    "#     TODO: process path\n",
    "    def process_csv(filename):\n",
    "        example_file = open(filename, encoding=\"utf-8\")\n",
    "        example_reader = csv.reader(example_file)\n",
    "        example_data = list(example_reader)\n",
    "        example_file.close()\n",
    "        return example_data\n",
    "    process_path = process_csv(path)\n",
    "#     TODO: create a dictionary  \n",
    "    mapping_dict = {}\n",
    "#     TODO: iterate through each row of processed path\n",
    "    for value in range(len(process_path)):\n",
    "        mapping_dict[process_path[value][0]] = process_path[value][1]\n",
    "    return mapping_dict\n",
    "#     TODO: map value in first column (ID) to value in second column (name/title)"
   ]
  },
  {
   "cell_type": "markdown",
   "id": "cbc16839",
   "metadata": {
    "deletable": false,
    "editable": false
   },
   "source": [
    "**Question 1:** What is returned by `get_mapping(\"small_mapping.csv\")`?\n",
    "\n",
    "Your output **must** be a **dictionary** which maps the *IDs* in `small_mapping.csv` to *names*."
   ]
  },
  {
   "cell_type": "code",
   "execution_count": 6,
   "id": "94d84552",
   "metadata": {
    "tags": []
   },
   "outputs": [
    {
     "data": {
      "text/plain": [
       "{'tt0477348': 'No Country for Old Men',\n",
       " 'tt1659337': 'The Perks of Being a Wallflower',\n",
       " 'nm0154716': 'Stephen Chbosky',\n",
       " 'nm0000169': 'Tommy Lee Jones',\n",
       " 'nm0503567': 'Logan Lerman',\n",
       " 'nm3009232': 'Ezra Miller',\n",
       " 'nm0001054': 'Joel Coen',\n",
       " 'nm0000437': 'Woody Harrelson',\n",
       " 'nm0001053': 'Ethan Coen',\n",
       " 'nm0000849': 'Javier Bardem',\n",
       " 'nm0000982': 'Josh Brolin',\n",
       " 'nm0748620': 'Paul Rudd',\n",
       " 'nm0914612': 'Emma Watson'}"
      ]
     },
     "execution_count": 6,
     "metadata": {},
     "output_type": "execute_result"
    }
   ],
   "source": [
    "# compute and store the answer in the variable 'small_mapping', then display it\n",
    "small_mapping = get_mapping(\"small_mapping.csv\")\n",
    "small_mapping"
   ]
  },
  {
   "cell_type": "code",
   "execution_count": 7,
   "id": "8eea8f7a",
   "metadata": {
    "deletable": false,
    "editable": false
   },
   "outputs": [
    {
     "data": {
      "text/html": [
       "<p><strong><pre style='display: inline;'>q1</pre></strong> passed! 🌈</p>"
      ],
      "text/plain": [
       "q1 results: All test cases passed!"
      ]
     },
     "execution_count": 7,
     "metadata": {},
     "output_type": "execute_result"
    }
   ],
   "source": [
    "grader.check(\"q1\")"
   ]
  },
  {
   "cell_type": "markdown",
   "id": "41975e52",
   "metadata": {
    "deletable": false,
    "editable": false
   },
   "source": [
    "**Question 2:** What is the **value** associated with the **key** *nm0503567*?\n",
    "\n",
    "Your output **must** be a **string**. You **must** use the variable `small_mapping` defined above to answer this question. You **must** not call the function `get_mapping` again on this dataset."
   ]
  },
  {
   "cell_type": "code",
   "execution_count": 8,
   "id": "291d3110",
   "metadata": {
    "tags": []
   },
   "outputs": [
    {
     "data": {
      "text/plain": [
       "'Logan Lerman'"
      ]
     },
     "execution_count": 8,
     "metadata": {},
     "output_type": "execute_result"
    }
   ],
   "source": [
    "# access and store the answer in the variable 'nm0503567_value', then display it\n",
    "nm0503567_value = None\n",
    "for idx in small_mapping :\n",
    "    if idx == \"nm0503567\":\n",
    "        nm0503567_value = small_mapping[idx]\n",
    "    else :\n",
    "        continue\n",
    "\n",
    "nm0503567_value    "
   ]
  },
  {
   "cell_type": "code",
   "execution_count": 9,
   "id": "e45214c0",
   "metadata": {
    "deletable": false,
    "editable": false
   },
   "outputs": [
    {
     "data": {
      "text/html": [
       "<p><strong><pre style='display: inline;'>q2</pre></strong> passed! 🎉</p>"
      ],
      "text/plain": [
       "q2 results: All test cases passed!"
      ]
     },
     "execution_count": 9,
     "metadata": {},
     "output_type": "execute_result"
    }
   ],
   "source": [
    "grader.check(\"q2\")"
   ]
  },
  {
   "cell_type": "markdown",
   "id": "fd975d33",
   "metadata": {
    "deletable": false,
    "editable": false
   },
   "source": [
    "**Question 3:** What are the **values** associated with **keys** that **begin** with *nm*?\n",
    "\n",
    "Your output **must** be a **list** of **strings**. You **must** find **only** the values of the keys that **begin** with *nm*, and **not** the keys that contain *nm*."
   ]
  },
  {
   "cell_type": "code",
   "execution_count": 10,
   "id": "f192a169",
   "metadata": {
    "tags": []
   },
   "outputs": [
    {
     "data": {
      "text/plain": [
       "['Stephen Chbosky',\n",
       " 'Tommy Lee Jones',\n",
       " 'Logan Lerman',\n",
       " 'Ezra Miller',\n",
       " 'Joel Coen',\n",
       " 'Woody Harrelson',\n",
       " 'Ethan Coen',\n",
       " 'Javier Bardem',\n",
       " 'Josh Brolin',\n",
       " 'Paul Rudd',\n",
       " 'Emma Watson']"
      ]
     },
     "execution_count": 10,
     "metadata": {},
     "output_type": "execute_result"
    }
   ],
   "source": [
    "# compute and store the answer in the variable 'nm_values', then display it\n",
    "nm_values = []\n",
    "idx = None\n",
    "for idx in small_mapping:\n",
    "    initials_nm = idx[0:2]\n",
    "    if initials_nm == \"nm\":\n",
    "        nm_values.append(small_mapping[idx])\n",
    "        \n",
    "nm_values    \n",
    "        "
   ]
  },
  {
   "cell_type": "code",
   "execution_count": 11,
   "id": "c124c356",
   "metadata": {
    "deletable": false,
    "editable": false
   },
   "outputs": [
    {
     "data": {
      "text/html": [
       "<p><strong><pre style='display: inline;'>q3</pre></strong> passed! 🙌</p>"
      ],
      "text/plain": [
       "q3 results: All test cases passed!"
      ]
     },
     "execution_count": 11,
     "metadata": {},
     "output_type": "execute_result"
    }
   ],
   "source": [
    "grader.check(\"q3\")"
   ]
  },
  {
   "cell_type": "markdown",
   "id": "2cd5f7b2",
   "metadata": {
    "deletable": false,
    "editable": false
   },
   "source": [
    "**Question 4:** Find the **keys** of the people (keys **beginning** with *nm*) whose **last name** is *Jones*.\n",
    "\n",
    "Your output **must** be a **list** of **string(s)**.\n",
    "\n",
    "**Requirements:** Your **code** must be robust and satisfy all the requirements, even if you were to run this on a larger dataset (such as `mapping.csv`). In particular:\n",
    "1. You will **lose points** if your code would find people whose **first** name or **middle** name is *Jones* (e.g. *Jones Leanardo*, *Carson Jones Daly*).\n",
    "2. You will **lose points** if your code would find people whose **last** name contains *Jones* as a **substring** (e.g. *Catherine Zeta-Jones*). The name should be **exactly** *Jones*. \n",
    "3. You will **lose points** if your code would find any **movie titles** (e.g. *Jasper Jones*)."
   ]
  },
  {
   "cell_type": "code",
   "execution_count": 12,
   "id": "b4524701",
   "metadata": {
    "tags": []
   },
   "outputs": [
    {
     "data": {
      "text/plain": [
       "['nm0000169']"
      ]
     },
     "execution_count": 12,
     "metadata": {},
     "output_type": "execute_result"
    }
   ],
   "source": [
    "# compute and store the answer in the variable 'nm_jones', then display it\n",
    "nm_jones = []\n",
    "for idx in small_mapping:\n",
    "    initials_nm = idx[0:2]\n",
    "    if initials_nm == \"nm\" and \"Jones\" in small_mapping[idx]:\n",
    "        nm_jones.append(idx)\n",
    "nm_jones"
   ]
  },
  {
   "cell_type": "code",
   "execution_count": 13,
   "id": "2362a696",
   "metadata": {
    "deletable": false,
    "editable": false
   },
   "outputs": [
    {
     "data": {
      "text/html": [
       "<p><strong><pre style='display: inline;'>q4</pre></strong> passed! 🎉</p>"
      ],
      "text/plain": [
       "q4 results: All test cases passed!"
      ]
     },
     "execution_count": 13,
     "metadata": {},
     "output_type": "execute_result"
    }
   ],
   "source": [
    "grader.check(\"q4\")"
   ]
  },
  {
   "cell_type": "markdown",
   "id": "d9537441",
   "metadata": {
    "deletable": false,
    "editable": false
   },
   "source": [
    "#### Now, let's move on to reading the movie files!"
   ]
  },
  {
   "cell_type": "markdown",
   "id": "dbcfcc25",
   "metadata": {
    "deletable": false,
    "editable": false
   },
   "source": [
    "### Function 2: `get_raw_movies(path)`\n",
    "\n",
    "We require you to complete the below function to answer the next several questions (this is a **requirement**, and you will **lose points** if you do not implement this function).\n",
    "\n",
    "This function **must** return a **list** of **dictionaries**, where each **dictionary** is of the following format:\n",
    "\n",
    "```python\n",
    "   {\n",
    "        'title': <title-id>,\n",
    "        'year': <the year as an integer>,\n",
    "        'duration': <the duration as an integer>,\n",
    "        'genres': [<genre1>, <genre2>, ...],\n",
    "        'rating': <the rating as a float>,\n",
    "        'directors': [<director-id1>, <director-id2>, ...],\n",
    "        'cast': [<actor-id1>, <actor-id2>, ....]\n",
    "    }\n",
    "```\n",
    "\n",
    "Here is an example:\n",
    "\n",
    "```python\n",
    "    {\n",
    "        'title': 'tt0033313',\n",
    "        'year': 1941,\n",
    "        'duration': 59,\n",
    "        'genres': ['Western'],\n",
    "        'rating': 5.2,\n",
    "        'directors': ['nm0496505'],\n",
    "        'cast': ['nm0193318', 'nm0254381', 'nm0279961', 'nm0910294', 'nm0852305']\n",
    "    }\n",
    "```\n",
    "\n",
    "You may copy/paste code from your lab-p8 notebook to finish this function."
   ]
  },
  {
   "cell_type": "code",
   "execution_count": 14,
   "id": "f3ec84f4",
   "metadata": {},
   "outputs": [],
   "source": [
    "def process_csv(filename):\n",
    "    example_file = open(filename, encoding=\"utf-8\")\n",
    "    example_reader = csv.reader(example_file)\n",
    "    example_data = list(example_reader)\n",
    "    example_file.close()  \n",
    "    return example_data"
   ]
  },
  {
   "cell_type": "code",
   "execution_count": 15,
   "id": "9a0d4ebb",
   "metadata": {
    "tags": []
   },
   "outputs": [],
   "source": [
    "def get_raw_movies(path):\n",
    "    \"\"\"\n",
    "    get_raw_movies(path) converts a movies csv in 'path' \n",
    "    into a list of dicts with column names as keys and\n",
    "    the corresponding type converted values as the values\n",
    "    \"\"\"\n",
    "     # replace with your code\n",
    "    file_data = process_csv(path)\n",
    "    csv_header = file_data[0]\n",
    "    csv_rows = file_data[1:]\n",
    "    raw_movies_list = []\n",
    "    for idx in range(len(csv_rows)):\n",
    "        first_movie = {} \n",
    "        first_movie[\"title\"] = csv_rows[idx][csv_header.index(\"title\")] \n",
    "        first_movie[\"year\"] = int(csv_rows[idx][csv_header.index(\"year\")])\n",
    "        first_movie[\"duration\"] = int(csv_rows[idx][csv_header.index(\"duration\")])\n",
    "        genre_list = [csv_rows[idx][csv_header.index(\"genres\")]]\n",
    "        first_movie[\"genres\"] = genre_list[0].split(\", \")\n",
    "        first_movie[\"rating\"] = float(csv_rows[idx][csv_header.index(\"rating\")])\n",
    "        director_list = [csv_rows[idx][csv_header.index(\"directors\")]]\n",
    "        first_movie[\"directors\"] = director_list[0].split(\", \")\n",
    "        cast_list= [str(csv_rows[idx][csv_header.index(\"cast\")])]\n",
    "        first_movie[\"cast\"] = cast_list[0].split(\", \")\n",
    "        raw_movies_list.append(first_movie)\n",
    "    return raw_movies_list\n",
    "    "
   ]
  },
  {
   "cell_type": "markdown",
   "id": "26c4881c",
   "metadata": {
    "deletable": false,
    "editable": false
   },
   "source": [
    "**Question 5:** What is returned by `get_raw_movies(\"small_movies.csv\")`?\n",
    "\n",
    "Your output **must** be a **list** of **dictionaries** where each dictionary contains information about a movie."
   ]
  },
  {
   "cell_type": "code",
   "execution_count": 16,
   "id": "a821d31d",
   "metadata": {
    "tags": []
   },
   "outputs": [
    {
     "data": {
      "text/plain": [
       "[{'title': 'tt0477348',\n",
       "  'year': 2007,\n",
       "  'duration': 122,\n",
       "  'genres': ['Crime', 'Drama', 'Thriller'],\n",
       "  'rating': 8.2,\n",
       "  'directors': ['nm0001053', 'nm0001054'],\n",
       "  'cast': ['nm0000169', 'nm0000849', 'nm0000982', 'nm0000437']},\n",
       " {'title': 'tt1659337',\n",
       "  'year': 2012,\n",
       "  'duration': 103,\n",
       "  'genres': ['Drama'],\n",
       "  'rating': 7.9,\n",
       "  'directors': ['nm0154716'],\n",
       "  'cast': ['nm0503567', 'nm0914612', 'nm3009232', 'nm0748620']}]"
      ]
     },
     "execution_count": 16,
     "metadata": {},
     "output_type": "execute_result"
    }
   ],
   "source": [
    "# compute and store the answer in the variable 'raw_small_movies', then display it\n",
    "raw_small_movies = get_raw_movies(\"small_movies.csv\")\n",
    "raw_small_movies"
   ]
  },
  {
   "cell_type": "code",
   "execution_count": 17,
   "id": "1441c29a",
   "metadata": {
    "deletable": false,
    "editable": false
   },
   "outputs": [
    {
     "data": {
      "text/html": [
       "<p><strong><pre style='display: inline;'>q5</pre></strong> passed! 🍀</p>"
      ],
      "text/plain": [
       "q5 results: All test cases passed!"
      ]
     },
     "execution_count": 17,
     "metadata": {},
     "output_type": "execute_result"
    }
   ],
   "source": [
    "grader.check(\"q5\")"
   ]
  },
  {
   "cell_type": "markdown",
   "id": "a8d7e776",
   "metadata": {
    "deletable": false,
    "editable": false
   },
   "source": [
    "If your answer looks correct, but does not pass `grader.check`, make sure that the **datatypes** are all correct. Also make sure that the **directors** and **cast**  are in the **same order** as in `small_movies.csv`."
   ]
  },
  {
   "cell_type": "markdown",
   "id": "fb419f8f",
   "metadata": {
    "deletable": false,
    "editable": false
   },
   "source": [
    "**Question 6:** How **many** cast members does the **first** movie have?\n",
    "\n",
    "Your output **must** be an **int**. You **must** use the variable `raw_small_movies` defined above to answer this question. You **must** not call the function `get_raw_movies` again on this dataset."
   ]
  },
  {
   "cell_type": "code",
   "execution_count": 18,
   "id": "ec891064",
   "metadata": {
    "tags": []
   },
   "outputs": [
    {
     "data": {
      "text/plain": [
       "4"
      ]
     },
     "execution_count": 18,
     "metadata": {},
     "output_type": "execute_result"
    }
   ],
   "source": [
    "# compute and store the answer in the variable 'num_cast_first_movie', then display it\n",
    "first_movie = raw_small_movies[0]\n",
    "num_cast_first_movie = len(first_movie[\"cast\"])\n",
    "num_cast_first_movie"
   ]
  },
  {
   "cell_type": "code",
   "execution_count": 19,
   "id": "f3e01042",
   "metadata": {
    "deletable": false,
    "editable": false
   },
   "outputs": [
    {
     "data": {
      "text/html": [
       "<p><strong><pre style='display: inline;'>q6</pre></strong> passed! 🍀</p>"
      ],
      "text/plain": [
       "q6 results: All test cases passed!"
      ]
     },
     "execution_count": 19,
     "metadata": {},
     "output_type": "execute_result"
    }
   ],
   "source": [
    "grader.check(\"q6\")"
   ]
  },
  {
   "cell_type": "markdown",
   "id": "02663190",
   "metadata": {
    "deletable": false,
    "editable": false
   },
   "source": [
    "**Question 7:** What is the *ID* of the **first** cast member listed for the **first** movie of the dataset?\n",
    "\n",
    "Your output **must** be a **string**."
   ]
  },
  {
   "cell_type": "code",
   "execution_count": 20,
   "id": "d0dac3d9",
   "metadata": {
    "tags": []
   },
   "outputs": [
    {
     "data": {
      "text/plain": [
       "'nm0000169'"
      ]
     },
     "execution_count": 20,
     "metadata": {},
     "output_type": "execute_result"
    }
   ],
   "source": [
    "# compute and store the answer in the variable 'first_actor_id_first_movie', then display it\n",
    "first_cast = first_movie[\"cast\"]\n",
    "first_actor_id_first_movie = first_cast[0]\n",
    "first_actor_id_first_movie"
   ]
  },
  {
   "cell_type": "code",
   "execution_count": 21,
   "id": "87c91be9",
   "metadata": {
    "deletable": false,
    "editable": false
   },
   "outputs": [
    {
     "data": {
      "text/html": [
       "<p><strong><pre style='display: inline;'>q7</pre></strong> passed! ✨</p>"
      ],
      "text/plain": [
       "q7 results: All test cases passed!"
      ]
     },
     "execution_count": 21,
     "metadata": {},
     "output_type": "execute_result"
    }
   ],
   "source": [
    "grader.check(\"q7\")"
   ]
  },
  {
   "cell_type": "markdown",
   "id": "d9f3a677",
   "metadata": {
    "deletable": false,
    "editable": false
   },
   "source": [
    "### Function 3: `get_movies(movies_path, mapping_path)`\n",
    "\n",
    "We require you to complete the below function to answer the next several questions (this is a **requirement**, and you will **lose points** if you do not implement this function).\n",
    "\n",
    "\n",
    "This function **must** return a **list** of **dictionaries**, where each **dictionary** is of the following format:\n",
    "\n",
    "```python\n",
    "   {\n",
    "        'title': \"the movie name\",\n",
    "        'year': <the year as an integer>,\n",
    "        'duration': <the duration as an integer>,\n",
    "        'genres': [<genre1>, <genre2>, ...],\n",
    "        'rating': <the rating as a float>,\n",
    "        'directors': [\"director-name1\", \"director-name2\", ...],\n",
    "        'cast': [\"actor-name1\", \"actor-name2\", ....]\n",
    "    }\n",
    "```\n",
    "\n",
    "Here is an example:\n",
    "\n",
    "```python\n",
    "    {\n",
    "        'title': 'Across the Sierras',\n",
    "        'year': 1941,\n",
    "        'duration': 59,\n",
    "        'genres': ['Western'],\n",
    "        'rating': 5.2,\n",
    "        'directors': ['D. Ross Lederman'],\n",
    "        'cast': ['Dick Curtis', 'Bill Elliott', 'Richard Fiske', 'Luana Walters', 'Dub Taylor']\n",
    "    }\n",
    "```\n",
    "\n",
    "You may copy/paste code from your lab-p8 notebook to finish this function."
   ]
  },
  {
   "cell_type": "code",
   "execution_count": 22,
   "id": "5de4d00c",
   "metadata": {
    "tags": []
   },
   "outputs": [],
   "source": [
    "def get_movies(movies_path, mapping_path):\n",
    "    \"\"\"\n",
    "    get_movies(movies_path, mapping_path) converts a movies csv in 'movies_path' \n",
    "    into a list of dicts with column names as keys and the corresponding \n",
    "    type converted values as the values; then uses the mapping csv in 'mapping_path'\n",
    "    to replace the IDs of the titles, cast, and directors into actual names\n",
    "    \"\"\"\n",
    "    mapping_paths = get_mapping(mapping_path)\n",
    "    movie_names = get_raw_movies(movies_path)\n",
    "    for i in range(len(movie_names)):\n",
    "        movie_title_code = movie_names[i][\"title\"]\n",
    "        movie_title = mapping_paths[movie_title_code]\n",
    "        movie_names[i][\"title\"] = movie_title\n",
    "        movie_dir_list = movie_names[i][\"directors\"]\n",
    "        for j in range(len(movie_dir_list)):\n",
    "            director_code = movie_dir_list[j]\n",
    "            director_name = mapping_paths[director_code]\n",
    "            movie_dir_list[j] = director_name\n",
    "            movie_names[i][\"directors\"] = movie_dir_list\n",
    "            movie_cast_list = movie_names[i][\"cast\"]\n",
    "        for k in range(len(movie_cast_list)):\n",
    "            cast_code = movie_cast_list[k]\n",
    "            cast_name = mapping_paths[cast_code]\n",
    "            movie_cast_list[k] = cast_name\n",
    "            movie_names[i][\"cast\"] = movie_cast_list\n",
    "    return movie_names\n",
    "    # replace this code\n",
    "    # you are allowed to call get_mapping and get_raw_movies\n",
    "    # on movies_path and mapping_path\n"
   ]
  },
  {
   "cell_type": "markdown",
   "id": "96f8c23f",
   "metadata": {
    "deletable": false,
    "editable": false
   },
   "source": [
    "**Question 8:** What is returned by `get_movies(\"small_movies.csv\", \"small_mapping.csv\")`?\n",
    "\n",
    "Your output **must** be a **list** of **dictionaries** where each dictionary contains information about a movie."
   ]
  },
  {
   "cell_type": "code",
   "execution_count": 23,
   "id": "a7b245ed",
   "metadata": {
    "tags": []
   },
   "outputs": [
    {
     "data": {
      "text/plain": [
       "[{'title': 'No Country for Old Men',\n",
       "  'year': 2007,\n",
       "  'duration': 122,\n",
       "  'genres': ['Crime', 'Drama', 'Thriller'],\n",
       "  'rating': 8.2,\n",
       "  'directors': ['Ethan Coen', 'Joel Coen'],\n",
       "  'cast': ['Tommy Lee Jones',\n",
       "   'Javier Bardem',\n",
       "   'Josh Brolin',\n",
       "   'Woody Harrelson']},\n",
       " {'title': 'The Perks of Being a Wallflower',\n",
       "  'year': 2012,\n",
       "  'duration': 103,\n",
       "  'genres': ['Drama'],\n",
       "  'rating': 7.9,\n",
       "  'directors': ['Stephen Chbosky'],\n",
       "  'cast': ['Logan Lerman', 'Emma Watson', 'Ezra Miller', 'Paul Rudd']}]"
      ]
     },
     "execution_count": 23,
     "metadata": {},
     "output_type": "execute_result"
    }
   ],
   "source": [
    "# compute and store the answer in the variable 'small_movies_data', then display it\n",
    "small_movies_data = get_movies(\"small_movies.csv\", \"small_mapping.csv\")\n",
    "small_movies_data"
   ]
  },
  {
   "cell_type": "code",
   "execution_count": 24,
   "id": "73a0a3bd",
   "metadata": {
    "deletable": false,
    "editable": false
   },
   "outputs": [
    {
     "data": {
      "text/html": [
       "<p><strong><pre style='display: inline;'>q8</pre></strong> passed! 🌈</p>"
      ],
      "text/plain": [
       "q8 results: All test cases passed!"
      ]
     },
     "execution_count": 24,
     "metadata": {},
     "output_type": "execute_result"
    }
   ],
   "source": [
    "grader.check(\"q8\")"
   ]
  },
  {
   "cell_type": "markdown",
   "id": "15406427",
   "metadata": {
    "deletable": false,
    "editable": false
   },
   "source": [
    "**Question 9:** What is `title` of the **second** movie in `small_movies_data`?\n",
    "\n",
    "Your output **must** be a **string**. You **must** use the variable `small_movies_data` defined above to answer this question. You **must** not call the function `get_movies` again on this dataset."
   ]
  },
  {
   "cell_type": "code",
   "execution_count": 25,
   "id": "1478335c",
   "metadata": {
    "tags": []
   },
   "outputs": [
    {
     "data": {
      "text/plain": [
       "'The Perks of Being a Wallflower'"
      ]
     },
     "execution_count": 25,
     "metadata": {},
     "output_type": "execute_result"
    }
   ],
   "source": [
    "# compute and store the answer in the variable 'second_movie_title_small_movies', then display it\n",
    "second_movie_title_small_movies  = str(small_movies_data[1][\"title\"])\n",
    "second_movie_title_small_movies"
   ]
  },
  {
   "cell_type": "code",
   "execution_count": 26,
   "id": "c1a16061",
   "metadata": {
    "deletable": false,
    "editable": false
   },
   "outputs": [
    {
     "data": {
      "text/html": [
       "<p><strong><pre style='display: inline;'>q9</pre></strong> passed! 🍀</p>"
      ],
      "text/plain": [
       "q9 results: All test cases passed!"
      ]
     },
     "execution_count": 26,
     "metadata": {},
     "output_type": "execute_result"
    }
   ],
   "source": [
    "grader.check(\"q9\")"
   ]
  },
  {
   "cell_type": "markdown",
   "id": "fa338507",
   "metadata": {
    "deletable": false,
    "editable": false
   },
   "source": [
    "**Question 10:** Who are the `cast` members of the **second** movie in `small_movies_data`?\n",
    "\n",
    "Your output **must** be a **list** of **string(s)**."
   ]
  },
  {
   "cell_type": "code",
   "execution_count": 27,
   "id": "5532afe7",
   "metadata": {
    "tags": []
   },
   "outputs": [
    {
     "data": {
      "text/plain": [
       "['Logan Lerman', 'Emma Watson', 'Ezra Miller', 'Paul Rudd']"
      ]
     },
     "execution_count": 27,
     "metadata": {},
     "output_type": "execute_result"
    }
   ],
   "source": [
    "# compute and store the answer in the variable 'second_movie_cast_small_movies', then display it\n",
    "second_movie_cast_small_movies = small_movies_data[1][\"cast\"]\n",
    "second_movie_cast_small_movies"
   ]
  },
  {
   "cell_type": "code",
   "execution_count": 28,
   "id": "f2114f85",
   "metadata": {
    "deletable": false,
    "editable": false
   },
   "outputs": [
    {
     "data": {
      "text/html": [
       "<p><strong><pre style='display: inline;'>q10</pre></strong> passed! 🙌</p>"
      ],
      "text/plain": [
       "q10 results: All test cases passed!"
      ]
     },
     "execution_count": 28,
     "metadata": {},
     "output_type": "execute_result"
    }
   ],
   "source": [
    "grader.check(\"q10\")"
   ]
  },
  {
   "cell_type": "markdown",
   "id": "34c170c2",
   "metadata": {
    "deletable": false,
    "editable": false
   },
   "source": [
    "**Question 11:** Who are the `directors` of the **last** movie in `small_movies_data`?\n",
    "\n",
    "Your output **must** be a **list** of **string(s)**."
   ]
  },
  {
   "cell_type": "code",
   "execution_count": 29,
   "id": "47691653",
   "metadata": {
    "tags": []
   },
   "outputs": [
    {
     "data": {
      "text/plain": [
       "['Stephen Chbosky']"
      ]
     },
     "execution_count": 29,
     "metadata": {},
     "output_type": "execute_result"
    }
   ],
   "source": [
    "# compute and store the answer in the variable 'last_movie_directors_small_movies', then display it\n",
    "last_movie_directors_small_movies = small_movies_data[-1][\"directors\"]\n",
    "last_movie_directors_small_movies"
   ]
  },
  {
   "cell_type": "code",
   "execution_count": 30,
   "id": "d3b20197",
   "metadata": {
    "deletable": false,
    "editable": false
   },
   "outputs": [
    {
     "data": {
      "text/html": [
       "<p><strong><pre style='display: inline;'>q11</pre></strong> passed! 🎉</p>"
      ],
      "text/plain": [
       "q11 results: All test cases passed!"
      ]
     },
     "execution_count": 30,
     "metadata": {},
     "output_type": "execute_result"
    }
   ],
   "source": [
    "grader.check(\"q11\")"
   ]
  },
  {
   "cell_type": "markdown",
   "id": "12570902",
   "metadata": {
    "deletable": false,
    "editable": false
   },
   "source": [
    "#### Now that you’ve made it this far, your functions must be working pretty well with small datasets. Next, let's try a much bigger dataset!\n",
    "\n",
    "Run the following code to open the full dataset:"
   ]
  },
  {
   "cell_type": "code",
   "execution_count": 31,
   "id": "be487fe5",
   "metadata": {},
   "outputs": [
    {
     "data": {
      "text/plain": [
       "202416"
      ]
     },
     "execution_count": 31,
     "metadata": {},
     "output_type": "execute_result"
    }
   ],
   "source": [
    "movies = get_movies(\"movies.csv\", \"mapping.csv\")\n",
    "len(movies)"
   ]
  },
  {
   "cell_type": "markdown",
   "id": "a3052d1c",
   "metadata": {
    "deletable": false,
    "editable": false
   },
   "source": [
    "As the files are very large, this cell is expected to take around ten seconds to run. If it takes much longer (say, around a minute), then you will **need** to **optimize** your `get_movies` function so it runs faster.\n",
    "\n",
    "**Warning**: You are **not** allowed to call `get_movies` more than once on the full dataset (`movies.csv` and `mapping.csv`) in your notebook. Instead, reuse the `movies` variable, which is more efficient. You will **lose points** during manual review if you call `get_movies` again on these files.\n",
    "\n",
    "**Warning:** Do **not** display the value of the variable `movies` **anywhere** in your notebook. It will take up a **lot** of space, and your **Gradescope code will not be displayed** for grading. So, you will receive **zero points** for p8. Instead you should verify `movies` has the correct value by looking at a small *slice* of the **list** as in the question below. "
   ]
  },
  {
   "cell_type": "markdown",
   "id": "5ab0d621",
   "metadata": {
    "deletable": false,
    "editable": false
   },
   "source": [
    "**Question 12:** What are the movies in `movies[20220:20230]`?\n",
    "\n",
    "Your answer should be a *list* of *dictionaries* that follows the format below:\n",
    "\n",
    "```python\n",
    "[{'title': 'Dark Rider',\n",
    "  'year': 1991,\n",
    "  'duration': 94,\n",
    "  'genres': ['Action', 'Adventure', 'Crime'],\n",
    "  'rating': 5.6,\n",
    "  'directors': ['Bob Ivy'],\n",
    "  'cast': ['Joe Estevez', 'Doug Shanklin', 'Alicia Anne', 'Cloyde Howard']},\n",
    " {'title': 'Izu no odoriko',\n",
    "  'year': 1967,\n",
    "  'duration': 85,\n",
    "  'genres': ['Drama'],\n",
    "  'rating': 8.4,\n",
    "  'directors': ['Hideo Onchi'],\n",
    "  'cast': ['Yôko Naitô',\n",
    "   'Toshio Kurosawa',\n",
    "   'Tatsuyoshi Ehara',\n",
    "   'Nobuko Otowa']},\n",
    " {'title': 'Things Change',\n",
    "  'year': 1988,\n",
    "  'duration': 100,\n",
    "  'genres': ['Comedy', 'Crime', 'Drama'],\n",
    "  'rating': 7.0,\n",
    "  'directors': ['David Mamet'],\n",
    "  'cast': ['Don Ameche', 'Joe Mantegna', 'Robert Prosky', 'J.J. Johnston']},\n",
    " ...]\n",
    "```"
   ]
  },
  {
   "cell_type": "code",
   "execution_count": 32,
   "id": "e1d1672f",
   "metadata": {
    "tags": []
   },
   "outputs": [
    {
     "data": {
      "text/plain": [
       "[{'title': 'Dark Rider',\n",
       "  'year': 1991,\n",
       "  'duration': 94,\n",
       "  'genres': ['Action', 'Adventure', 'Crime'],\n",
       "  'rating': 5.6,\n",
       "  'directors': ['Bob Ivy'],\n",
       "  'cast': ['Joe Estevez', 'Doug Shanklin', 'Alicia Anne', 'Cloyde Howard']},\n",
       " {'title': 'Izu no odoriko',\n",
       "  'year': 1967,\n",
       "  'duration': 85,\n",
       "  'genres': ['Drama'],\n",
       "  'rating': 8.4,\n",
       "  'directors': ['Hideo Onchi'],\n",
       "  'cast': ['Yôko Naitô',\n",
       "   'Toshio Kurosawa',\n",
       "   'Tatsuyoshi Ehara',\n",
       "   'Nobuko Otowa']},\n",
       " {'title': 'Things Change',\n",
       "  'year': 1988,\n",
       "  'duration': 100,\n",
       "  'genres': ['Comedy', 'Crime', 'Drama'],\n",
       "  'rating': 7.0,\n",
       "  'directors': ['David Mamet'],\n",
       "  'cast': ['Don Ameche', 'Joe Mantegna', 'Robert Prosky', 'J.J. Johnston']},\n",
       " {'title': 'Móvil pasional',\n",
       "  'year': 1994,\n",
       "  'duration': 98,\n",
       "  'genres': ['Thriller'],\n",
       "  'rating': 5.6,\n",
       "  'directors': ['Mauricio Walerstein'],\n",
       "  'cast': ['María Rojo', 'Orlando Urdaneta', 'Elvira Valdés', 'Hugo Márquez']},\n",
       " {'title': 'Venky',\n",
       "  'year': 2004,\n",
       "  'duration': 162,\n",
       "  'genres': ['Action', 'Comedy', 'Mystery'],\n",
       "  'rating': 7.4,\n",
       "  'directors': ['Sreenu Vaitla', 'Gopimohan'],\n",
       "  'cast': ['Ravi Teja', 'Sneha', 'Ashutosh Rana', 'Srinivasa Reddy']},\n",
       " {'title': 'Shooting Silvio',\n",
       "  'year': 2006,\n",
       "  'duration': 96,\n",
       "  'genres': ['Crime', 'Drama'],\n",
       "  'rating': 5.1,\n",
       "  'directors': ['Berardo Carboni'],\n",
       "  'cast': ['Federico Rosati',\n",
       "   'Sofia Vigliar',\n",
       "   'Alessandro Haber',\n",
       "   'Antonino Iuorio']},\n",
       " {'title': 'Up the Mountain',\n",
       "  'year': 2019,\n",
       "  'duration': 105,\n",
       "  'genres': ['Adventure', 'Comedy', 'Drama'],\n",
       "  'rating': 5.8,\n",
       "  'directors': ['Sébastien Betbeder'],\n",
       "  'cast': ['William Lebghil',\n",
       "   'Izïa Higelin',\n",
       "   'Bastien Bouillon',\n",
       "   'Jérémie Elkaïm']},\n",
       " {'title': 'The Last Adventurers',\n",
       "  'year': 1937,\n",
       "  'duration': 75,\n",
       "  'genres': ['Drama', 'Romance'],\n",
       "  'rating': 7.1,\n",
       "  'directors': ['Roy Kellino'],\n",
       "  'cast': ['Niall MacGinnis',\n",
       "   'Roy Emerton',\n",
       "   'Linden Travers',\n",
       "   'Peter Gawthorne']},\n",
       " {'title': 'Handmade Cinema',\n",
       "  'year': 2012,\n",
       "  'duration': 52,\n",
       "  'genres': ['Documentary'],\n",
       "  'rating': 8.0,\n",
       "  'directors': ['Guido Torlonia'],\n",
       "  'cast': ['Chiara Mastroianni']},\n",
       " {'title': 'The Crime',\n",
       "  'year': 2022,\n",
       "  'duration': 127,\n",
       "  'genres': ['Action', 'Crime', 'Thriller'],\n",
       "  'rating': 6.1,\n",
       "  'directors': ['Sharif Arafah', 'Mohamed Nasser Hamza'],\n",
       "  'cast': ['Ahmed Ezz',\n",
       "   'Menna Shalabi',\n",
       "   'Maged El-Kidwani',\n",
       "   'Haggag Abdulazim']}]"
      ]
     },
     "execution_count": 32,
     "metadata": {},
     "output_type": "execute_result"
    }
   ],
   "source": [
    "# compute and store the answer in the variable 'movies_20220_20230', then display it\n",
    "movies_20220_20230 = []\n",
    "for value in range(20220,20230):\n",
    "    movie_20220 = movies[value]\n",
    "    movies_20220_20230.append(movie_20220)\n",
    "\n",
    "movies_20220_20230    \n",
    "    "
   ]
  },
  {
   "cell_type": "code",
   "execution_count": 33,
   "id": "0113c64b",
   "metadata": {
    "deletable": false,
    "editable": false
   },
   "outputs": [
    {
     "data": {
      "text/html": [
       "<p><strong><pre style='display: inline;'>q12</pre></strong> passed! 💯</p>"
      ],
      "text/plain": [
       "q12 results: All test cases passed!"
      ]
     },
     "execution_count": 33,
     "metadata": {},
     "output_type": "execute_result"
    }
   ],
   "source": [
    "grader.check(\"q12\")"
   ]
  },
  {
   "cell_type": "markdown",
   "id": "d4dc343e",
   "metadata": {
    "deletable": false,
    "editable": false
   },
   "source": [
    "**Question 13:** What is the **number** of movies released so far in the `year` *2023*?\n",
    "\n",
    "Your outuput must be an **int**."
   ]
  },
  {
   "cell_type": "code",
   "execution_count": 34,
   "id": "d9487e8e",
   "metadata": {
    "tags": []
   },
   "outputs": [
    {
     "data": {
      "text/plain": [
       "507"
      ]
     },
     "execution_count": 34,
     "metadata": {},
     "output_type": "execute_result"
    }
   ],
   "source": [
    "# compute and store the answer in the variable 'num_movies_2023', then display it\n",
    "num_movies_2023 = 0\n",
    "for value in range(len(movies)):\n",
    "    if movies[value][\"year\"] == 2023:\n",
    "        num_movies_2023 += 1\n",
    "    else :\n",
    "        continue\n",
    "num_movies_2023        \n"
   ]
  },
  {
   "cell_type": "code",
   "execution_count": 35,
   "id": "2f5d3a9f",
   "metadata": {
    "deletable": false,
    "editable": false
   },
   "outputs": [
    {
     "data": {
      "text/html": [
       "<p><strong><pre style='display: inline;'>q13</pre></strong> passed! 🎉</p>"
      ],
      "text/plain": [
       "q13 results: All test cases passed!"
      ]
     },
     "execution_count": 35,
     "metadata": {},
     "output_type": "execute_result"
    }
   ],
   "source": [
    "grader.check(\"q13\")"
   ]
  },
  {
   "cell_type": "markdown",
   "id": "cfb3b03b",
   "metadata": {
    "deletable": false,
    "editable": false
   },
   "source": [
    "### Function 4: `find_specific_movies(movies, keyword)`\n",
    "\n",
    "Now that we have created this data structure `movies`, we can start doing some fun things with the data!\n",
    "We will continue working on this data structure for the next project (P9) as well.\n",
    "\n",
    "Let us now use this data structure `movies` to create a **search bar** like the one in Netflix!\n",
    "**Do not change the below function in any way**.\n",
    "This function takes in a keyword like a substring of a title, a genre, or the name of a person, and returns a list of relevant movies with that title, genre, or cast member/director.\n",
    "\n",
    "**Warning:** As `movies` is very large, the function `find_specific_movies` may take five to ten seconds to run. This is normal and you should not panic if it takes a while to run."
   ]
  },
  {
   "cell_type": "code",
   "execution_count": 36,
   "id": "c536dd9b",
   "metadata": {
    "deletable": false,
    "editable": false
   },
   "outputs": [],
   "source": [
    "# DO NOT EDIT OR REDEFINE THIS FUNCTION\n",
    "def find_specific_movies(movies, keyword):\n",
    "    \"\"\"\n",
    "    find_specific_movies(movies, keyword) takes a list of movie dictionaries \n",
    "    and a keyword; it returns a list of movies that contain the keyword\n",
    "    in either its title, genre, cast or directors.\n",
    "    \"\"\"\n",
    "    idx = 0\n",
    "    while idx < len(movies):\n",
    "        movie = movies[idx]\n",
    "        # note: \\ enables you split a long line of code into two lines\n",
    "        if (keyword not in movie['title']) and (keyword not in movie[\"genres\"]) \\\n",
    "        and (keyword not in movie[\"directors\"]) and (keyword not in movie[\"cast\"]):\n",
    "            movies.pop(idx)\n",
    "        else:\n",
    "            idx += 1\n",
    "    return movies"
   ]
  },
  {
   "cell_type": "markdown",
   "id": "9b367bad",
   "metadata": {
    "deletable": false,
    "editable": false
   },
   "source": [
    "**Important:** While it might look as if we are making it easy for you by providing `find_specific_movies`, there is a catch! There is a subtle flaw with the way the function is defined, that will cause you issues in the next two questions. If you can spot this flaw by just observing the definition of `find_specific_movies`, congratulations! Since you are **not** allowed to modify the function definition, you will have to be a little clever with your function arguments to sidestep the flaw with the function definition.\n",
    "\n",
    "If you don't see anything wrong with the function just yet, don't worry about it. Solve Question 14 and Question 15 as you normally would, and see if you notice anything suspicious about your answers."
   ]
  },
  {
   "cell_type": "markdown",
   "id": "c8c001b7",
   "metadata": {
    "deletable": false,
    "editable": false
   },
   "source": [
    "**Question 14:** List all the movies that were directed by *Stanley Kubrick*.\n",
    "\n",
    "Your answer **must** be a **list** of **dictionaries**.\n",
    "\n",
    "You **must** answer this question by calling `find_specific_movies` with the keyword `\"Stanley Kubrick\"`.\n",
    "\n",
    "The `find_specific_movies` function is expected to take around 5 seconds or more to run, so do not panic if it takes so long to run.\n",
    "\n",
    "Remember that you are **not** allowed to modify the definition of `find_specific_movies`. You will need to cleverly pass arguments to `find_specific_movies` (in both Question 14 and Question 15) to ensure that `movies` does not get modified by the function calls. Take a look at the Lecture Slides ([Mike](https://git.doit.wisc.edu/cdis/cs/courses/cs220/cs220-lecture-material/-/tree/main/s23/Michael_lecture_notes/21_Copying) and [Gurmail](https://git.doit.wisc.edu/cdis/cs/courses/cs220/cs220-lecture-material/-/tree/main/s23/Gurmail_lecture_notes/21_Copying)) from March 22 for more hints. You will have to Restart and Run all your cells to see the correct output after you fix your answer for Question 14 (and Question 15)."
   ]
  },
  {
   "cell_type": "code",
   "execution_count": 37,
   "id": "90d9e1ba",
   "metadata": {
    "tags": []
   },
   "outputs": [
    {
     "data": {
      "text/plain": [
       "[{'title': \"Killer's Kiss\",\n",
       "  'year': 1955,\n",
       "  'duration': 67,\n",
       "  'genres': ['Crime', 'Drama', 'Film-Noir'],\n",
       "  'rating': 6.6,\n",
       "  'directors': ['Stanley Kubrick'],\n",
       "  'cast': ['Frank Silvera', 'Irene Kane', 'Jamie Smith', 'Jerry Jarrett']},\n",
       " {'title': 'Paths of Glory',\n",
       "  'year': 1957,\n",
       "  'duration': 88,\n",
       "  'genres': ['Drama', 'War'],\n",
       "  'rating': 8.4,\n",
       "  'directors': ['Stanley Kubrick'],\n",
       "  'cast': ['Kirk Douglas',\n",
       "   'Ralph Meeker',\n",
       "   'Adolphe Menjou',\n",
       "   'George Macready']},\n",
       " {'title': 'Dr. Strangelove or: How I Learned to Stop Worrying and Love the Bomb',\n",
       "  'year': 1964,\n",
       "  'duration': 95,\n",
       "  'genres': ['Comedy', 'War'],\n",
       "  'rating': 8.4,\n",
       "  'directors': ['Stanley Kubrick'],\n",
       "  'cast': ['Peter Sellers',\n",
       "   'George C. Scott',\n",
       "   'Sterling Hayden',\n",
       "   'Keenan Wynn']},\n",
       " {'title': '2001: A Space Odyssey',\n",
       "  'year': 1968,\n",
       "  'duration': 149,\n",
       "  'genres': ['Adventure', 'Sci-Fi'],\n",
       "  'rating': 8.3,\n",
       "  'directors': ['Stanley Kubrick'],\n",
       "  'cast': ['Keir Dullea',\n",
       "   'Gary Lockwood',\n",
       "   'William Sylvester',\n",
       "   'Daniel Richter']},\n",
       " {'title': 'Fear and Desire',\n",
       "  'year': 1953,\n",
       "  'duration': 62,\n",
       "  'genres': ['Drama', 'Thriller', 'War'],\n",
       "  'rating': 5.4,\n",
       "  'directors': ['Stanley Kubrick'],\n",
       "  'cast': ['Frank Silvera', 'Kenneth Harp', 'Paul Mazursky', 'Stephen Coit']},\n",
       " {'title': 'The Killing',\n",
       "  'year': 1956,\n",
       "  'duration': 84,\n",
       "  'genres': ['Crime', 'Drama', 'Film-Noir'],\n",
       "  'rating': 8.0,\n",
       "  'directors': ['Stanley Kubrick'],\n",
       "  'cast': ['Sterling Hayden',\n",
       "   'Coleen Gray',\n",
       "   'Vince Edwards',\n",
       "   'Jay C. Flippen']},\n",
       " {'title': 'Barry Lyndon',\n",
       "  'year': 1975,\n",
       "  'duration': 185,\n",
       "  'genres': ['Adventure', 'Drama', 'War'],\n",
       "  'rating': 8.1,\n",
       "  'directors': ['Stanley Kubrick'],\n",
       "  'cast': [\"Ryan O'Neal\", 'Marisa Berenson', 'Patrick Magee', 'Hardy Krüger']},\n",
       " {'title': 'Full Metal Jacket',\n",
       "  'year': 1987,\n",
       "  'duration': 116,\n",
       "  'genres': ['Drama', 'War'],\n",
       "  'rating': 8.3,\n",
       "  'directors': ['Stanley Kubrick'],\n",
       "  'cast': ['Matthew Modine',\n",
       "   'R. Lee Ermey',\n",
       "   \"Vincent D'Onofrio\",\n",
       "   'Adam Baldwin']},\n",
       " {'title': 'Eyes Wide Shut',\n",
       "  'year': 1999,\n",
       "  'duration': 159,\n",
       "  'genres': ['Drama', 'Mystery', 'Thriller'],\n",
       "  'rating': 7.5,\n",
       "  'directors': ['Stanley Kubrick'],\n",
       "  'cast': ['Tom Cruise', 'Nicole Kidman', 'Todd Field', 'Sydney Pollack']},\n",
       " {'title': 'Spartacus',\n",
       "  'year': 1960,\n",
       "  'duration': 197,\n",
       "  'genres': ['Adventure', 'Biography', 'Drama'],\n",
       "  'rating': 7.9,\n",
       "  'directors': ['Stanley Kubrick'],\n",
       "  'cast': ['Kirk Douglas',\n",
       "   'Laurence Olivier',\n",
       "   'Jean Simmons',\n",
       "   'Charles Laughton']},\n",
       " {'title': 'The Shining',\n",
       "  'year': 1980,\n",
       "  'duration': 146,\n",
       "  'genres': ['Drama', 'Horror'],\n",
       "  'rating': 8.4,\n",
       "  'directors': ['Stanley Kubrick'],\n",
       "  'cast': ['Jack Nicholson',\n",
       "   'Shelley Duvall',\n",
       "   'Danny Lloyd',\n",
       "   'Scatman Crothers']},\n",
       " {'title': 'A Clockwork Orange',\n",
       "  'year': 1971,\n",
       "  'duration': 136,\n",
       "  'genres': ['Crime', 'Sci-Fi'],\n",
       "  'rating': 8.3,\n",
       "  'directors': ['Stanley Kubrick'],\n",
       "  'cast': ['Malcolm McDowell',\n",
       "   'Patrick Magee',\n",
       "   'Michael Bates',\n",
       "   'Warren Clarke']}]"
      ]
     },
     "execution_count": 37,
     "metadata": {},
     "output_type": "execute_result"
    }
   ],
   "source": [
    "# compute and store the answer in the variable 'kubrick_films', then display it\n",
    "kubrick_films = find_specific_movies(copy.copy(movies), \"Stanley Kubrick\")\n",
    "kubrick_films"
   ]
  },
  {
   "cell_type": "code",
   "execution_count": 38,
   "id": "46994e7c",
   "metadata": {
    "deletable": false,
    "editable": false
   },
   "outputs": [
    {
     "data": {
      "text/html": [
       "<p><strong><pre style='display: inline;'>q14</pre></strong> passed! 🌟</p>"
      ],
      "text/plain": [
       "q14 results: All test cases passed!"
      ]
     },
     "execution_count": 38,
     "metadata": {},
     "output_type": "execute_result"
    }
   ],
   "source": [
    "grader.check(\"q14\")"
   ]
  },
  {
   "cell_type": "markdown",
   "id": "8a33b84f",
   "metadata": {
    "deletable": false,
    "editable": false
   },
   "source": [
    "**Question 15:** List all the movies that contain the string *Wisconsin* in their `title`.\n",
    "\n",
    "Your answer **must** be a **list** of **dictionaries**.\n",
    "\n",
    "You **must** answer this question by calling `find_specific_movies` with the keyword `\"Wisconsin\"`.\n",
    "\n",
    "**Important Hint:**  If you did not notice the flaw with the definition of `find_specific_movies` before, you are likely to have run into an issue with this question. It is likely that you will see that your output for this question is an empty list. To see why this happened, find the value of `len(movies)` and see if it is equal to the value you found earlier.\n"
   ]
  },
  {
   "cell_type": "code",
   "execution_count": 39,
   "id": "de584706",
   "metadata": {
    "tags": []
   },
   "outputs": [
    {
     "data": {
      "text/plain": [
       "[{'title': 'Wisconsin Death Trip',\n",
       "  'year': 1999,\n",
       "  'duration': 76,\n",
       "  'genres': ['Biography', 'Crime', 'Drama'],\n",
       "  'rating': 6.6,\n",
       "  'directors': ['James Marsh'],\n",
       "  'cast': ['Ian Holm', 'Jeffrey Golden', 'Jo Vukelich', 'Marcus Monroe']},\n",
       " {'title': 'Small Town Wisconsin',\n",
       "  'year': 2020,\n",
       "  'duration': 109,\n",
       "  'genres': ['Comedy', 'Drama'],\n",
       "  'rating': 7.2,\n",
       "  'directors': ['Niels Mueller'],\n",
       "  'cast': ['David Sullivan',\n",
       "   'Bill Heck',\n",
       "   'Kristen Johnston',\n",
       "   'Cooper J. Friedman']},\n",
       " {'title': 'Bootleg Wisconsin',\n",
       "  'year': 2008,\n",
       "  'duration': 73,\n",
       "  'genres': ['Drama'],\n",
       "  'rating': 7.7,\n",
       "  'directors': ['Brandon Linden'],\n",
       "  'cast': ['Lepolion Henderson',\n",
       "   'Angela Harris',\n",
       "   'Alissa Bailey',\n",
       "   'Joyce Porter']},\n",
       " {'title': 'Wisconsin Supper Clubs: An Old Fashioned Experience',\n",
       "  'year': 2011,\n",
       "  'duration': 55,\n",
       "  'genres': ['Documentary', 'History'],\n",
       "  'rating': 6.7,\n",
       "  'directors': ['Ron Faiola'],\n",
       "  'cast': ['Bun E. Carlos']}]"
      ]
     },
     "execution_count": 39,
     "metadata": {},
     "output_type": "execute_result"
    }
   ],
   "source": [
    "# compute and store the answer in the variable 'wisconsin_movies', then display it\n",
    "for value in range(len(movies)):\n",
    "    if \"Wisconsin\" in movies[value][\"title\"]:\n",
    "        wisconsin_movies = find_specific_movies(copy.copy(movies), \"Wisconsin\")\n",
    "    else:\n",
    "        continue\n",
    "\n",
    "wisconsin_movies "
   ]
  },
  {
   "cell_type": "code",
   "execution_count": 40,
   "id": "90c44833",
   "metadata": {
    "deletable": false,
    "editable": false
   },
   "outputs": [
    {
     "data": {
      "text/html": [
       "<p><strong><pre style='display: inline;'>q15</pre></strong> passed! 💯</p>"
      ],
      "text/plain": [
       "q15 results: All test cases passed!"
      ]
     },
     "execution_count": 40,
     "metadata": {},
     "output_type": "execute_result"
    }
   ],
   "source": [
    "grader.check(\"q15\")"
   ]
  },
  {
   "cell_type": "markdown",
   "id": "c9e5ad6e",
   "metadata": {
    "deletable": false,
    "editable": false
   },
   "source": [
    "### Function 5: `bucketize_by_genre(movies)`\n",
    "\n",
    "We require you to complete the below function to answer the next several questions (this is a **requirement**, and you will **lose points** if you do not implement this function)."
   ]
  },
  {
   "cell_type": "code",
   "execution_count": 41,
   "id": "9d7c99b1",
   "metadata": {
    "tags": []
   },
   "outputs": [],
   "source": [
    "def bucketize_by_genre(movies):\n",
    "    \"\"\"bucketize_by_genre(movies) takes a list of movie dictionaries;\n",
    "    it returns a dict in which each genre is a key and\n",
    "    the value is a list of all movies that contain that genre\"\"\"\n",
    "    blank_dict = {}\n",
    "    for movie in movies:\n",
    "        for genre in movie[\"genres\"]:\n",
    "            if genre not in blank_dict:\n",
    "                blank_dict[genre] = []\n",
    "                blank_dict[genre].append(movie)\n",
    "            else :\n",
    "                blank_dict[genre].append(movie)\n",
    "    return blank_dict\n",
    "                \n",
    "            \n",
    "            \n",
    "    pass # replace with your code\n",
    "    # TODO: initialize a dictionary\n",
    "    # TODO: loop through all movies\n",
    "    # TODO:     loop through all genres in this movie\n",
    "    # TODO:         if this genre is not a key in our dictionary, set the value associated with this genre to an empty list\n",
    "    # TODO:         add the movie to the list associated with this genre\n",
    "    # TODO: return the dictionary"
   ]
  },
  {
   "cell_type": "code",
   "execution_count": 42,
   "id": "a625f790",
   "metadata": {
    "tags": []
   },
   "outputs": [],
   "source": [
    "# call the function bucketize_by_genre on 'movies' and store it in the variable 'genre_dict'\n",
    "# do NOT display the output directly\n",
    "\n",
    "genre_dict = bucketize_by_genre(movies)\n"
   ]
  },
  {
   "cell_type": "markdown",
   "id": "47d9f067",
   "metadata": {
    "deletable": false,
    "editable": false
   },
   "source": [
    "**Warning:** You are **not** allowed to call `bucketize_by_genre` more than once on the full list of movies (`movies`) in your notebook. You will **lose points** during manual review if you call `bucketize_by_genre` again on `movies`."
   ]
  },
  {
   "cell_type": "markdown",
   "id": "dc91e060",
   "metadata": {
    "deletable": false,
    "editable": false
   },
   "source": [
    "**Question 16:** How many **unique** movie `genres` are present in the dataset?"
   ]
  },
  {
   "cell_type": "code",
   "execution_count": 43,
   "id": "d65acb79",
   "metadata": {
    "tags": []
   },
   "outputs": [
    {
     "data": {
      "text/plain": [
       "26"
      ]
     },
     "execution_count": 43,
     "metadata": {},
     "output_type": "execute_result"
    }
   ],
   "source": [
    "# compute and store the answer in the variable 'num_genres', then display it\n",
    "num_genres = len(genre_dict)\n",
    "num_genres"
   ]
  },
  {
   "cell_type": "code",
   "execution_count": 44,
   "id": "79429e12",
   "metadata": {
    "deletable": false,
    "editable": false
   },
   "outputs": [
    {
     "data": {
      "text/html": [
       "<p><strong><pre style='display: inline;'>q16</pre></strong> passed! 🚀</p>"
      ],
      "text/plain": [
       "q16 results: All test cases passed!"
      ]
     },
     "execution_count": 44,
     "metadata": {},
     "output_type": "execute_result"
    }
   ],
   "source": [
    "grader.check(\"q16\")"
   ]
  },
  {
   "cell_type": "markdown",
   "id": "fd095a1a",
   "metadata": {
    "deletable": false,
    "editable": false
   },
   "source": [
    "**Question 17:** How many *Romance* movies (i.e. movies with *Romance* as one of their `genres`) do we have in the dataset released **after** the `year` *2017*?\n",
    "\n",
    "Your output **must** be an **int**. You **must** use the `genre_dict` data structure to answer this question."
   ]
  },
  {
   "cell_type": "code",
   "execution_count": 45,
   "id": "38e60c58",
   "metadata": {
    "tags": []
   },
   "outputs": [
    {
     "data": {
      "text/plain": [
       "3031"
      ]
     },
     "execution_count": 45,
     "metadata": {},
     "output_type": "execute_result"
    }
   ],
   "source": [
    "# compute and store the answer in the variable 'romance_after_2017', then display it\n",
    "romance_after_2017 = 0\n",
    "C = genre_dict[\"Romance\"]\n",
    "for value in range(len(C)):\n",
    "    if C[value][\"year\"] > 2017:\n",
    "        romance_after_2017 += 1\n",
    "romance_after_2017\n",
    "              \n",
    "    "
   ]
  },
  {
   "cell_type": "code",
   "execution_count": 46,
   "id": "34684189",
   "metadata": {
    "deletable": false,
    "editable": false
   },
   "outputs": [
    {
     "data": {
      "text/html": [
       "<p><strong><pre style='display: inline;'>q17</pre></strong> passed! 🙌</p>"
      ],
      "text/plain": [
       "q17 results: All test cases passed!"
      ]
     },
     "execution_count": 46,
     "metadata": {},
     "output_type": "execute_result"
    }
   ],
   "source": [
    "grader.check(\"q17\")"
   ]
  },
  {
   "cell_type": "markdown",
   "id": "d9ea8f58",
   "metadata": {
    "deletable": false,
    "editable": false
   },
   "source": [
    "**Question 18:** List the `title` of all *Film-Noir* movies (i.e. movies with *Film-Noir* as one of their `genres`) with `rating` **larger** than *8.0* in the dataset.\n",
    "\n",
    "Your output **must** be a **list** of **strings**. You **must** use the `genre_dict` data structure to answer this question."
   ]
  },
  {
   "cell_type": "code",
   "execution_count": 47,
   "id": "2da4a377",
   "metadata": {
    "tags": []
   },
   "outputs": [
    {
     "data": {
      "text/plain": [
       "['Sunset Blvd.',\n",
       " 'Double Indemnity',\n",
       " 'Rebecca',\n",
       " 'The Third Man',\n",
       " 'I Am a Fugitive from a Chain Gang']"
      ]
     },
     "execution_count": 47,
     "metadata": {},
     "output_type": "execute_result"
    }
   ],
   "source": [
    "# compute and store the answer in the variable 'film_noir_movies_above_8', then display it\n",
    "film_noir_movies_above_8 = []\n",
    "C = genre_dict[\"Film-Noir\"]\n",
    "for value in range(len(C)):\n",
    "    if C[value][\"rating\"] > 8.0 :\n",
    "        film_noir_movies_above_8.append(C[value][\"title\"])\n",
    "film_noir_movies_above_8        "
   ]
  },
  {
   "cell_type": "code",
   "execution_count": 48,
   "id": "a2ef4836",
   "metadata": {
    "deletable": false,
    "editable": false
   },
   "outputs": [
    {
     "data": {
      "text/html": [
       "<p><strong><pre style='display: inline;'>q18</pre></strong> passed! ✨</p>"
      ],
      "text/plain": [
       "q18 results: All test cases passed!"
      ]
     },
     "execution_count": 48,
     "metadata": {},
     "output_type": "execute_result"
    }
   ],
   "source": [
    "grader.check(\"q18\")"
   ]
  },
  {
   "cell_type": "markdown",
   "id": "3d77973b",
   "metadata": {
    "deletable": false,
    "editable": false
   },
   "source": [
    "**Question 19:** Which movie `genre` does *Blake Lively* play the most?\n",
    "\n",
    "There is a **unique** `genre` that *Blake Lively* has played the most. You do **not** have to worry about breaking ties.\n",
    "\n",
    "**Hint:** You can combine the *two* functions above to bucketize the movies that *Blake Lively* has acted in by their `genres`. Then, you can loop through each genre to find the one with the most number of movies in it."
   ]
  },
  {
   "cell_type": "code",
   "execution_count": 54,
   "id": "09df4eff",
   "metadata": {
    "tags": []
   },
   "outputs": [
    {
     "data": {
      "text/plain": [
       "'Drama'"
      ]
     },
     "execution_count": 54,
     "metadata": {},
     "output_type": "execute_result"
    }
   ],
   "source": [
    "# compute and store the answer in the variable 'blake_lively_genre', then display it\n",
    "blake_movies = find_specific_movies(copy.copy(movies),\"Blake Lively\")\n",
    "blake_genre = bucketize_by_genre(blake_movies)\n",
    "blake_lively_genre=\"\"\n",
    "max_value=0\n",
    "for genre in blake_genre :\n",
    "    if len(genre_dict[genre]) > max_value:\n",
    "            max_value = len(genre_dict[genre])\n",
    "            blake_lively_genre = genre\n",
    "blake_lively_genre"
   ]
  },
  {
   "cell_type": "code",
   "execution_count": 55,
   "id": "a599bf29",
   "metadata": {
    "deletable": false,
    "editable": false
   },
   "outputs": [
    {
     "data": {
      "text/html": [
       "<p><strong><pre style='display: inline;'>q19</pre></strong> passed! 🚀</p>"
      ],
      "text/plain": [
       "q19 results: All test cases passed!"
      ]
     },
     "execution_count": 55,
     "metadata": {},
     "output_type": "execute_result"
    }
   ],
   "source": [
    "grader.check(\"q19\")"
   ]
  },
  {
   "cell_type": "markdown",
   "id": "9f65e1d5",
   "metadata": {
    "deletable": false,
    "editable": false
   },
   "source": [
    "**Question 20:** Who are the `directors` of the *Comedy* movies with the **highest** `rating` in the movies dataset?\n",
    "\n",
    "There are **multiple** *Comedy* movies in the dataset with the joint highest rating. You **must** output a **list** of **strings** containing the **names** of **all** the `directors` of **all** these movies.\n",
    "\n",
    "**Hint:** If you are unsure how to efficiently add the elements of one list to another, please review any of the lecture notes from the February 27 lectures ([here](https://canvas.wisc.edu/courses/343490/files/folder/Mikes_Lecture_Notes/lec14_lists) and [here](https://git.doit.wisc.edu/cdis/cs/courses/cs220/cs220-lecture-material/-/tree/main/s23/Gurmail_lecture_notes/14_Lists))."
   ]
  },
  {
   "cell_type": "code",
   "execution_count": 56,
   "id": "210f2e39",
   "metadata": {
    "tags": []
   },
   "outputs": [
    {
     "data": {
      "text/plain": [
       "['Nicolas James', 'Bhaskhar Maurya', 'Lachlan Mlinaric', 'Russell Stanley']"
      ]
     },
     "execution_count": 56,
     "metadata": {},
     "output_type": "execute_result"
    }
   ],
   "source": [
    "# compute and store the answer in the variable 'max_comedy_rating_directors', then display it\n",
    "comedy_movies = genre_dict[\"Comedy\"]\n",
    "highest_rating = 0\n",
    "max_comedy_rating_directors=[]\n",
    "for movie in comedy_movies: \n",
    "    if movie[\"rating\"] > highest_rating:\n",
    "        highest_rating = movie[\"rating\"]\n",
    "for movie in comedy_movies:\n",
    "    if movie[\"rating\"] == highest_rating:\n",
    "        max_comedy_rating_directors  = max_comedy_rating_directors + movie[\"directors\"]\n",
    "max_comedy_rating_directors\n",
    "        "
   ]
  },
  {
   "cell_type": "code",
   "execution_count": 57,
   "id": "01f53797",
   "metadata": {
    "deletable": false,
    "editable": false
   },
   "outputs": [
    {
     "data": {
      "text/html": [
       "<p><strong><pre style='display: inline;'>q20</pre></strong> passed! 💯</p>"
      ],
      "text/plain": [
       "q20 results: All test cases passed!"
      ]
     },
     "execution_count": 57,
     "metadata": {},
     "output_type": "execute_result"
    }
   ],
   "source": [
    "grader.check(\"q20\")"
   ]
  },
  {
   "cell_type": "markdown",
   "id": "61ff3b5b",
   "metadata": {
    "deletable": false,
    "editable": false
   },
   "source": [
    "## Submission\n",
    "Make sure you have run all cells in your notebook in order before running the following cells, so that all images/graphs appear in the output. The following cells will generate a zip file for you to submit.\n",
    "\n",
    "**SUBMISSION INSTRUCTIONS**:\n",
    "1. **Upload** the zipfile to Gradescope.\n",
    "2. Check **Gradescope otter** results as soon as the auto-grader execution gets completed. Don't worry about the score showing up as -/100.0. You only need to check that the test cases passed."
   ]
  },
  {
   "cell_type": "code",
   "execution_count": 53,
   "id": "faa62661",
   "metadata": {
    "cell_type": "code",
    "deletable": false,
    "editable": false
   },
   "outputs": [
    {
     "data": {
      "application/javascript": [
       "IPython.notebook.save_checkpoint();"
      ],
      "text/plain": [
       "<IPython.core.display.Javascript object>"
      ]
     },
     "metadata": {},
     "output_type": "display_data"
    }
   ],
   "source": [
    "from IPython.display import display, Javascript\n",
    "display(Javascript('IPython.notebook.save_checkpoint();'))"
   ]
  },
  {
   "cell_type": "code",
   "execution_count": 74,
   "id": "abf24ff5",
   "metadata": {
    "cell_type": "code",
    "deletable": false,
    "editable": false
   },
   "outputs": [
    {
     "name": "stdout",
     "output_type": "stream",
     "text": [
      "[jupytext] Reading p8.ipynb in format ipynb\n",
      "[jupytext] Writing p8.py (destination file replaced)\n"
     ]
    }
   ],
   "source": [
    "!jupytext --to py p8.ipynb"
   ]
  },
  {
   "cell_type": "code",
   "execution_count": 75,
   "id": "209167fe",
   "metadata": {
    "cell_type": "code",
    "deletable": false,
    "editable": false
   },
   "outputs": [
    {
     "name": "stdout",
     "output_type": "stream",
     "text": [
      "Running your submission against local test cases...\n",
      "\n",
      "\n",
      "\n",
      "Your submission received the following results when run against available test cases:\n",
      "\n",
      "    q1 results: All test cases passed!\n",
      "\n",
      "    q2 results: All test cases passed!\n",
      "\n",
      "    q3 results: All test cases passed!\n",
      "\n",
      "    q4 results: All test cases passed!\n",
      "\n",
      "    q5 results: All test cases passed!\n",
      "\n",
      "    q6 results: All test cases passed!\n",
      "\n",
      "    q7 results: All test cases passed!\n",
      "\n",
      "    q8 results: All test cases passed!\n",
      "\n",
      "    q9 results: All test cases passed!\n",
      "\n",
      "    q10 results: All test cases passed!\n",
      "\n",
      "    q11 results: All test cases passed!\n",
      "\n",
      "    q12 results: All test cases passed!\n",
      "\n",
      "    q13 results: All test cases passed!\n",
      "\n",
      "    q14 results: All test cases passed!\n",
      "\n",
      "    q15 results: All test cases passed!\n",
      "\n",
      "    q16 results: All test cases passed!\n",
      "\n",
      "    q17 results: All test cases passed!\n",
      "\n",
      "    q18 results: All test cases passed!\n",
      "\n",
      "    q19 results: All test cases passed!\n",
      "\n",
      "    q20 results: All test cases passed!\n"
     ]
    },
    {
     "data": {
      "text/html": [
       "\n",
       "            <p>Your submission has been exported. Click <a href=\"p8_2023_03_29T19_18_27_291078.zip\" download=\"p8_2023_03_29T19_18_27_291078.zip\" target=\"_blank\">here</a>\n",
       "            to download the zip file.</p>\n",
       "            "
      ],
      "text/plain": [
       "<IPython.core.display.HTML object>"
      ]
     },
     "metadata": {},
     "output_type": "display_data"
    }
   ],
   "source": [
    "grader.export(pdf=False, run_tests=True, files=[py_filename])"
   ]
  },
  {
   "cell_type": "markdown",
   "id": "faccb062",
   "metadata": {
    "deletable": false,
    "editable": false
   },
   "source": [
    " "
   ]
  },
  {
   "cell_type": "code",
   "execution_count": null,
   "id": "03113789",
   "metadata": {},
   "outputs": [],
   "source": []
  },
  {
   "cell_type": "code",
   "execution_count": null,
   "id": "c36fb854",
   "metadata": {},
   "outputs": [],
   "source": []
  }
 ],
 "metadata": {
  "kernelspec": {
   "display_name": "Python 3 (ipykernel)",
   "language": "python",
   "name": "python3"
  },
  "language_info": {
   "codemirror_mode": {
    "name": "ipython",
    "version": 3
   },
   "file_extension": ".py",
   "mimetype": "text/x-python",
   "name": "python",
   "nbconvert_exporter": "python",
   "pygments_lexer": "ipython3",
   "version": "3.9.13"
  },
  "otter": {
   "OK_FORMAT": true,
   "tests": {
    "q1": {
     "name": "q1",
     "points": 5,
     "suites": [
      {
       "cases": [
        {
         "code": ">>> p8_test.check(\"q1\", small_mapping)\nTrue",
         "hidden": false,
         "locked": false
        }
       ],
       "scored": true,
       "setup": "",
       "teardown": "",
       "type": "doctest"
      }
     ]
    },
    "q10": {
     "name": "q10",
     "points": 5,
     "suites": [
      {
       "cases": [
        {
         "code": ">>> p8_test.check(\"q10\", second_movie_cast_small_movies)\nTrue",
         "hidden": false,
         "locked": false
        }
       ],
       "scored": true,
       "setup": "",
       "teardown": "",
       "type": "doctest"
      }
     ]
    },
    "q11": {
     "name": "q11",
     "points": 5,
     "suites": [
      {
       "cases": [
        {
         "code": ">>> p8_test.check(\"q11\", last_movie_directors_small_movies)\nTrue",
         "hidden": false,
         "locked": false
        }
       ],
       "scored": true,
       "setup": "",
       "teardown": "",
       "type": "doctest"
      }
     ]
    },
    "q12": {
     "name": "q12",
     "points": 5,
     "suites": [
      {
       "cases": [
        {
         "code": ">>> p8_test.check(\"q12\", movies_20220_20230)\nTrue",
         "hidden": false,
         "locked": false
        }
       ],
       "scored": true,
       "setup": "",
       "teardown": "",
       "type": "doctest"
      }
     ]
    },
    "q13": {
     "name": "q13",
     "points": 5,
     "suites": [
      {
       "cases": [
        {
         "code": ">>> p8_test.check(\"q13\", num_movies_2023)\nTrue",
         "hidden": false,
         "locked": false
        }
       ],
       "scored": true,
       "setup": "",
       "teardown": "",
       "type": "doctest"
      }
     ]
    },
    "q14": {
     "name": "q14",
     "points": 5,
     "suites": [
      {
       "cases": [
        {
         "code": ">>> p8_test.check(\"q14\", kubrick_films)\nTrue",
         "hidden": false,
         "locked": false
        }
       ],
       "scored": true,
       "setup": "",
       "teardown": "",
       "type": "doctest"
      }
     ]
    },
    "q15": {
     "name": "q15",
     "points": 5,
     "suites": [
      {
       "cases": [
        {
         "code": ">>> p8_test.check(\"q15\", wisconsin_movies)\nTrue",
         "hidden": false,
         "locked": false
        }
       ],
       "scored": true,
       "setup": "",
       "teardown": "",
       "type": "doctest"
      }
     ]
    },
    "q16": {
     "name": "q16",
     "points": 5,
     "suites": [
      {
       "cases": [
        {
         "code": ">>> p8_test.check(\"q16\", num_genres)\nTrue",
         "hidden": false,
         "locked": false
        }
       ],
       "scored": true,
       "setup": "",
       "teardown": "",
       "type": "doctest"
      }
     ]
    },
    "q17": {
     "name": "q17",
     "points": 5,
     "suites": [
      {
       "cases": [
        {
         "code": ">>> p8_test.check(\"q17\", romance_after_2017)\nTrue",
         "hidden": false,
         "locked": false
        }
       ],
       "scored": true,
       "setup": "",
       "teardown": "",
       "type": "doctest"
      }
     ]
    },
    "q18": {
     "name": "q18",
     "points": 5,
     "suites": [
      {
       "cases": [
        {
         "code": ">>> p8_test.check(\"q18\", film_noir_movies_above_8)\nTrue",
         "hidden": false,
         "locked": false
        }
       ],
       "scored": true,
       "setup": "",
       "teardown": "",
       "type": "doctest"
      }
     ]
    },
    "q19": {
     "name": "q19",
     "points": 5,
     "suites": [
      {
       "cases": [
        {
         "code": ">>> p8_test.check(\"q19\", blake_lively_genre)\nTrue",
         "hidden": false,
         "locked": false
        }
       ],
       "scored": true,
       "setup": "",
       "teardown": "",
       "type": "doctest"
      }
     ]
    },
    "q2": {
     "name": "q2",
     "points": 5,
     "suites": [
      {
       "cases": [
        {
         "code": ">>> p8_test.check(\"q2\", nm0503567_value)\nTrue",
         "hidden": false,
         "locked": false
        }
       ],
       "scored": true,
       "setup": "",
       "teardown": "",
       "type": "doctest"
      }
     ]
    },
    "q20": {
     "name": "q20",
     "points": 5,
     "suites": [
      {
       "cases": [
        {
         "code": ">>> p8_test.check(\"q20\", max_comedy_rating_directors)\nTrue",
         "hidden": false,
         "locked": false
        }
       ],
       "scored": true,
       "setup": "",
       "teardown": "",
       "type": "doctest"
      }
     ]
    },
    "q3": {
     "name": "q3",
     "points": 5,
     "suites": [
      {
       "cases": [
        {
         "code": ">>> p8_test.check(\"q3\", nm_values)\nTrue",
         "hidden": false,
         "locked": false
        }
       ],
       "scored": true,
       "setup": "",
       "teardown": "",
       "type": "doctest"
      }
     ]
    },
    "q4": {
     "name": "q4",
     "points": 5,
     "suites": [
      {
       "cases": [
        {
         "code": ">>> p8_test.check(\"q4\", nm_jones)\nTrue",
         "hidden": false,
         "locked": false
        }
       ],
       "scored": true,
       "setup": "",
       "teardown": "",
       "type": "doctest"
      }
     ]
    },
    "q5": {
     "name": "q5",
     "points": 5,
     "suites": [
      {
       "cases": [
        {
         "code": ">>> p8_test.check(\"q5\", raw_small_movies)\nTrue",
         "hidden": false,
         "locked": false
        }
       ],
       "scored": true,
       "setup": "",
       "teardown": "",
       "type": "doctest"
      }
     ]
    },
    "q6": {
     "name": "q6",
     "points": 5,
     "suites": [
      {
       "cases": [
        {
         "code": ">>> p8_test.check(\"q6\", num_cast_first_movie)\nTrue",
         "hidden": false,
         "locked": false
        }
       ],
       "scored": true,
       "setup": "",
       "teardown": "",
       "type": "doctest"
      }
     ]
    },
    "q7": {
     "name": "q7",
     "points": 5,
     "suites": [
      {
       "cases": [
        {
         "code": ">>> p8_test.check(\"q7\", first_actor_id_first_movie)\nTrue",
         "hidden": false,
         "locked": false
        }
       ],
       "scored": true,
       "setup": "",
       "teardown": "",
       "type": "doctest"
      }
     ]
    },
    "q8": {
     "name": "q8",
     "points": 5,
     "suites": [
      {
       "cases": [
        {
         "code": ">>> p8_test.check(\"q8\", small_movies_data)\nTrue",
         "hidden": false,
         "locked": false
        }
       ],
       "scored": true,
       "setup": "",
       "teardown": "",
       "type": "doctest"
      }
     ]
    },
    "q9": {
     "name": "q9",
     "points": 5,
     "suites": [
      {
       "cases": [
        {
         "code": ">>> p8_test.check(\"q9\", second_movie_title_small_movies)\nTrue",
         "hidden": false,
         "locked": false
        }
       ],
       "scored": true,
       "setup": "",
       "teardown": "",
       "type": "doctest"
      }
     ]
    }
   }
  },
  "vscode": {
   "interpreter": {
    "hash": "ddadfa966245fdd88d86598ab7fd899e4c6b5bf38d3fe509005bdb7f4648c1a5"
   }
  }
 },
 "nbformat": 4,
 "nbformat_minor": 5
}

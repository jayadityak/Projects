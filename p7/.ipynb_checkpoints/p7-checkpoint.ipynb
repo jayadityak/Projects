{
 "cells": [
  {
   "cell_type": "code",
   "execution_count": 6,
   "id": "aa4b9e67",
   "metadata": {
    "cell_type": "code",
    "deletable": false,
    "editable": false
   },
   "outputs": [],
   "source": [
    "# import and initialize otter\n",
    "import otter\n",
    "grader = otter.Notebook(\"p7.ipynb\")"
   ]
  },
  {
   "cell_type": "code",
   "execution_count": 7,
   "id": "e68a05ee",
   "metadata": {
    "deletable": false,
    "editable": false
   },
   "outputs": [],
   "source": [
    "import p7_test"
   ]
  },
  {
   "cell_type": "code",
   "execution_count": 8,
   "id": "0bda81e5",
   "metadata": {},
   "outputs": [],
   "source": [
    "# PLEASE FILL IN THE DETAILS\n",
    "# Enter none if you don't have a project partner\n",
    "\n",
    "# project: p7\n",
    "# submitter: khamesra\n",
    "# partner: svalecha@wisc.edu"
   ]
  },
  {
   "cell_type": "markdown",
   "id": "2bd52538",
   "metadata": {
    "deletable": false,
    "editable": false
   },
   "source": [
    "# Project 7: Drinking Water Accessibility"
   ]
  },
  {
   "cell_type": "markdown",
   "id": "6de27486",
   "metadata": {
    "deletable": false,
    "editable": false
   },
   "source": [
    "## Learning Objectives:\n",
    "\n",
    "In this project you will demonstrate how to:\n",
    "\n",
    "- Write programs to interpret data present in csv files,\n",
    "- Use lists and dictionaries effectively to manage data,\n",
    "- **Develop good coding styling habits (points may be deducted for bad coding styles)**"
   ]
  },
  {
   "cell_type": "markdown",
   "id": "1da5578b",
   "metadata": {
    "deletable": false,
    "editable": false
   },
   "source": [
    "## Testing your code:\n",
    "\n",
    "Along with this notebook, you must have downloaded the file `p7_test.py`. If you are curious about how we test your code, you can explore this file, and specifically the value of the variable `expected_json`, to understand the expected answers to the questions. You can have a look at [P2](https://git.doit.wisc.edu/cdis/cs/courses/cs220/cs220-s23-projects/-/tree/main/p2/p2.ipynb) if you have forgotten how to read the outputs of the `grader.check` function calls."
   ]
  },
  {
   "cell_type": "markdown",
   "id": "07e92321",
   "metadata": {
    "deletable": false,
    "editable": false
   },
   "source": [
    "**Please go through [Lab-P7](https://git.doit.wisc.edu/cdis/cs/courses/cs220/cs220-s23-projects/-/tree/main/lab-p7) before starting this project.** The lab introduces some useful techniques necessary for this project."
   ]
  },
  {
   "cell_type": "markdown",
   "id": "f49d4b3d",
   "metadata": {
    "deletable": false,
    "editable": false
   },
   "source": [
    "<h2 style=\"color:red\">Warning (Note on Academic Misconduct):</h2>\n",
    "\n",
    "Under any circumstances, **no more than two students are allowed to work together on a project** as mentioned in the course policies. If your code is flagged by our code similarity detection tools, **both partners will be responsible** for sharing/copying the code, even if the code is shared/copied by one of the partners with/from other non-partner student(s). Note that each case of plagiarism will be reported to the Dean of Students with a zero grade on the project. **If you think that someone cannot be your project partner then don’t make that student your lab partner.**"
   ]
  },
  {
   "cell_type": "markdown",
   "id": "d1d2a7eb",
   "metadata": {
    "deletable": false,
    "editable": false
   },
   "source": [
    "## Project Description:\n",
    "\n",
    "Universal access to safe drinking water is a fundamental need and human right. Securing access for all would go a long way in reducing illness and death, especially among children. \"Safely managed\" drinking water services represent an ambitious new rung on the ladder used to track progress on drinking water. Since 2000, 2 billion people have gained access to safely managed services (i.e., accessible on-premises, available when needed, and free from contamination). In 2020, 5.8 billion people used safely managed services and a further 2 billion people used basic services. However, 771 million people still lacked even a basic level of service, including 282 million who used a “limited” water service (source from which water collection time exceeds 30 minutes), 367 million who used unimproved sources and 122 million who still collected drinking water directly from rivers, lakes, and other surface water sources. The data reveal pronounced disparities, with the poorest and those living in rural areas least likely to use a basic service. In most countries, the burden of water collection continues to fall mainly to women and girls.\n",
    "\n",
    "[The Unicef website](https://data.unicef.org/) states that \"consistent, credible data about children’s situations are critical to the improvement of their lives – and indispensable to realizing the rights of every child.\" Data Scientists will play an important role in reaching this goal.\n",
    "\n",
    "For this project, you'll be analyzing data drawn from multiple sources. Our data is primarily drawn from the report titled [\"Progress on Household Drinking Water, Sanitation and Hygiene\"](https://washdata.org/sites/default/files/2021-07/jmp-2021-wash-households.pdf) data published by the Unicef/WHO Joint Monitoring Programme for Water Supply, Sanitation and Hygiene (2021). The original dataset can be found [here](https://data.unicef.org/topic/water-and-sanitation/drinking-water/) if you are interested in exploring the dataset yourself. Our dataset is further augmented by data from The World Bank on the [income levels of each country](https://datatopics.worldbank.org/world-development-indicators/the-world-by-income-and-region.html)."
   ]
  },
  {
   "cell_type": "markdown",
   "id": "90f93012",
   "metadata": {
    "deletable": false,
    "editable": false
   },
   "source": [
    "## Dataset:\n",
    "\n",
    "The JMP report defines *people who have access to an [improved source of water](https://www.cdc.gov/healthywater/global/assessing.html#ImprovedDrinking) within 30 minutes round trip collection time* as having [at least basic access](https://www.cdc.gov/healthywater/global/assessing.html#DrinkingWaterSources) to water. For this project, we will focus on the **percentage of population** of each country who had **at least basic** water supply in the years **2015** and **2020**. Open `water_accessibility.csv` with Microsoft Excel or some other Spreadsheet viewer and look at the list of countries in the dataset. Data for each country appears twice, one row for the year *2015* and the other row for year *2020*. Countries which had incomplete data have been **omitted** from the dataset, and we will **ignore** those countries in this project. You do **not** have to deal with any **missing data** in the dataset.\n",
    "\n",
    "The data shows:\n",
    "- `country_code` : the unique country code that consists of three alphabet letters\n",
    "- `country_name` : the name of the country\n",
    "- `region` : the geographical location of the country (does not equal to its corresponding continents, but follows the administrative groupings from [The World Bank](https://datahelpdesk.worldbank.org/knowledgebase/articles/906519-world-bank-country-and-lending-groups))\n",
    "- `year` : the year in which it was subject to data collection\n",
    "- `income_level` : the classification of income level based on GNI per capita in US dollars ([The World Bank Atlas Method](https://datahelpdesk.worldbank.org/knowledgebase/articles/378834-how-does-the-world-bank-classify-countries))\n",
    "- `pop` : population of the country in a specific year (in thousands)\n",
    "- `urban_percent` : the percentage of population in a given country that is urban\n",
    "- `national_alb` : the percentage of a country's population that has access to at least basic water supply\n",
    "- `urban_alb` : the percentage of a country's urban population that has access to at least basic water supply"
   ]
  },
  {
   "cell_type": "markdown",
   "id": "afd5622a",
   "metadata": {
    "deletable": false,
    "editable": false
   },
   "source": [
    "## Project Requirements:\n",
    "\n",
    "You **may not** hardcode indices in your code, unless the question explicitly says so. If you open your `.csv` file with Excel, manually count through the rows and use this number to loop through the dataset, this is also considered as hardcoding. We'll **manually deduct** points from your autograder score on Gradescope during code review. You are **allowed** to assume that the dataset is ordered in such a way that the *even indices* (0, 2 .. etc;) corresponds to the rows with information for the year 2015, and the *odd indices* (1, 3 .. etc;) correspond to the rows with information for year 2020. Using this fact about the dataset will **not** be considered hardcoding.\n",
    "\n",
    "**Store** your final answer for each question in the **variable specified for each question**. This step is important because Otter grades your work by comparing the value of this variable against the correct answer.\n",
    "\n",
    "For some of the questions, we'll ask you to write (then use) a function to compute the answer. If you compute the answer **without** creating the function we ask you to write, we'll **manually deduct** points from your autograder score on Gradescope, even if the way you did it produced the correct answer. \n",
    "\n",
    "Required Functions:\n",
    "- `cell`\n",
    "- `get_col_dict`\n",
    "\n",
    "In this project, you will also be required to define certain **data structures**. If you do not create these data structures exactly as specified, we'll **manually deduct** points from your autograder score on Gradescope, even if the way you did it produced the correct answer.\n",
    "\n",
    "Required Data Structures:\n",
    "- `dict_2015`\n",
    "- `dict_2020`\n",
    "- `rural_non_alb_bin_2015_dict`\n",
    "- `rural_non_alb_bin_2020_dict`\n",
    "    \n",
    "Students are only allowed to use Python commands and concepts that have been taught in the course prior to the release of p7. Therefore, **you should not use the pandas module**.  We will **manually deduct** points from your autograder score on Gradescope otherwise.\n",
    "\n",
    "For more details on what will cause you to lose points during code review and specific requirements, please take a look at the [Grading rubric](https://git.doit.wisc.edu/cdis/cs/courses/cs220/cs220-s23-projects/-/blob/main/p7/rubric.md)."
   ]
  },
  {
   "cell_type": "markdown",
   "id": "91284e1c",
   "metadata": {
    "deletable": false,
    "editable": false
   },
   "source": [
    "## Incremental Coding and Testing:\n",
    "\n",
    "You should always strive to do incremental coding. **Incremental coding enables you to avoid challenging bugs.** Always write a few lines of code and then test those lines of code, before proceeding to write further code. You can call the `print` function to test intermediate step outputs.\n",
    "\n",
    "We also recommend you do incremental testing: make sure to run the local tests as soon as you are done with a question. This will ensure that you haven't made a big mistake that might potentially impact the rest of your project solution. Please refrain from making multiple submissions on Gradescope for testing individual questions' answers. Instead use the local tests, to test your solution on your laptop.\n",
    "\n",
    "That said, it is **important** that you check the Gradescope test results as soon as you submit your project on Gradescope. Test results on Gradescope are typically available somewhere between 2 to 10 minutes after the submission.\n",
    "\n",
    "Also, remember to check with the [P7 rubric](https://git.doit.wisc.edu/cdis/cs/courses/cs220/cs220-s23-projects/-/blob/main/p7/rubric.md) to verify that you will not be losing any points during manual review."
   ]
  },
  {
   "cell_type": "markdown",
   "id": "c13abf13",
   "metadata": {
    "deletable": false,
    "editable": false
   },
   "source": [
    "## Project Questions and Functions:"
   ]
  },
  {
   "cell_type": "code",
   "execution_count": 9,
   "id": "38aa88e9",
   "metadata": {
    "tags": []
   },
   "outputs": [],
   "source": [
    "# it is considered a good coding practice to place all import statements at the top of the notebook\n",
    "# please place all your import statements in this cell if you need to import any more modules for this project\n",
    "import csv\n",
    "import math"
   ]
  },
  {
   "cell_type": "markdown",
   "id": "b40c6dce",
   "metadata": {
    "deletable": false,
    "editable": false
   },
   "source": [
    "First, read the data stored in `water_accessibility.csv`. You **must** read the csv file and then get the header and rows (and store them into `csv_header` and `csv_rows` variables). You will **lose points** if you use any other names to store these variables."
   ]
  },
  {
   "cell_type": "code",
   "execution_count": 10,
   "id": "316f9f5c",
   "metadata": {
    "tags": []
   },
   "outputs": [
    {
     "name": "stdout",
     "output_type": "stream",
     "text": [
      "['country_code', 'country_name', 'region', 'year', 'income_level', 'pop', 'urban_percent', 'national_alb', 'urban_alb']\n",
      "[['AFG', 'Afghanistan', 'South Asia', '2015', 'Low income', '34414', '25', '61', '87'], ['AFG', 'Afghanistan', 'South Asia', '2020', 'Low income', '38928', '26', '75', '100']]\n"
     ]
    }
   ],
   "source": [
    "# read the data stored in water_accessibility.csv\n",
    "def process_csv(filename):\n",
    "    example_file = open(filename, encoding=\"utf-8\")\n",
    "    example_reader = csv.reader(example_file)\n",
    "    example_data = list(example_reader)\n",
    "    example_file.close()\n",
    "    return example_data\n",
    "# read the data in \"water_accessibility.csv\"\n",
    "csv_data = process_csv(\"water_accessibility.csv\")\n",
    "\n",
    "# split the header and other rows into appropriate variables\n",
    "csv_header = csv_data[0]\n",
    "csv_rows = csv_data[1:]\n",
    "\n",
    "print(csv_header)\n",
    "print(csv_rows[0:2])"
   ]
  },
  {
   "cell_type": "markdown",
   "id": "70c06cd9",
   "metadata": {
    "deletable": false,
    "editable": false
   },
   "source": [
    "### Function 1: `cell(row_idx, col_name)` \n",
    "\n",
    "This function must take in a row index, `row_idx` and a column name, `col_name` as its inputs, and return the value in `water_accessibility.csv` stored there. There is **no missing data** in this dataset.\n",
    "\n",
    "You **must** define the variables `csv_header` and `csv_rows` as in Lab-P7, and you **must** copy/paste your `cell` function from Lab-P7.\n",
    "\n",
    "**Important:** You **must** only use the `cell` function to extract data from the dataset. If you extract any data without explicitly using this function, you will **lose points** during manual review. Moreover, your `cell` function **must** handle typecasting all columns and multiplying the population (`pop`) by *1000*. You will **lose points** if you perform these steps outside the `cell` function."
   ]
  },
  {
   "cell_type": "code",
   "execution_count": 11,
   "id": "ca41db56",
   "metadata": {
    "tags": []
   },
   "outputs": [],
   "source": [
    "# define the cell function here\n",
    "def cell(row_idx, col_name):\n",
    "    col_idx = csv_header.index(col_name)\n",
    "    val = csv_rows[row_idx][col_idx]\n",
    "    if col_name == \"pop\" :\n",
    "        return int(val) * 1000\n",
    "    elif col_name =='urban_alb' or col_name == \"national_alb\" or col_name == \"urban_percent\" or col_name == \"year\":\n",
    "        return int(val)\n",
    "    return val "
   ]
  },
  {
   "cell_type": "markdown",
   "id": "1eb3deba",
   "metadata": {
    "deletable": false,
    "editable": false
   },
   "source": [
    "After you define the function `cell`, run the following two cells to test whether it works."
   ]
  },
  {
   "cell_type": "code",
   "execution_count": 12,
   "id": "2d72e97b",
   "metadata": {
    "tags": []
   },
   "outputs": [],
   "source": [
    "cell_test1 = cell(0, 'country_name')\n",
    "cell_test2 = cell(1, 'year')\n",
    "cell_test3 = cell(2, 'urban_percent')\n",
    "cell_test4 = cell(3, 'urban_alb')\n",
    "cell_test5 = cell(4, 'income_level')\n",
    "cell_test6 = cell(5, 'pop')"
   ]
  },
  {
   "cell_type": "code",
   "execution_count": 13,
   "id": "bb74a9e7",
   "metadata": {
    "deletable": false,
    "editable": false
   },
   "outputs": [
    {
     "data": {
      "text/html": [
       "<p><strong><pre style='display: inline;'>cell_test</pre></strong> passed! 🌟</p>"
      ],
      "text/plain": [
       "cell_test results: All test cases passed!"
      ]
     },
     "execution_count": 13,
     "metadata": {},
     "output_type": "execute_result"
    }
   ],
   "source": [
    "grader.check(\"cell_test\")"
   ]
  },
  {
   "cell_type": "markdown",
   "id": "f8d0b16f",
   "metadata": {
    "deletable": false,
    "editable": false
   },
   "source": [
    "You are all set! You are now ready to start solving the questions."
   ]
  },
  {
   "cell_type": "markdown",
   "id": "9d0efb5b",
   "metadata": {
    "deletable": false,
    "editable": false
   },
   "source": [
    "**Question 1:** Which country had the highest population (`pop`) in *2020*?"
   ]
  },
  {
   "cell_type": "code",
   "execution_count": 14,
   "id": "47987a22",
   "metadata": {
    "tags": []
   },
   "outputs": [
    {
     "data": {
      "text/plain": [
       "'China'"
      ]
     },
     "execution_count": 14,
     "metadata": {},
     "output_type": "execute_result"
    }
   ],
   "source": [
    "# compute and store the answer in the variable 'highest_pop_country', then display it\n",
    "value = 0\n",
    "pop = 0\n",
    "for value in range(len(csv_rows)):\n",
    "    count_name = cell(value , \"country_name\")\n",
    "    high_pop = cell(value, \"pop\")\n",
    "    year_pop = cell(value , \"year\")\n",
    "    if year_pop == 2020 and high_pop > pop :\n",
    "        pop = high_pop\n",
    "        highest_pop_country = count_name\n",
    "    else :\n",
    "        continue\n",
    "\n",
    "highest_pop_country       \n",
    "\n"
   ]
  },
  {
   "cell_type": "code",
   "execution_count": 15,
   "id": "8552a500",
   "metadata": {
    "deletable": false,
    "editable": false
   },
   "outputs": [
    {
     "data": {
      "text/html": [
       "<p><strong><pre style='display: inline;'>q1</pre></strong> passed! 💯</p>"
      ],
      "text/plain": [
       "q1 results: All test cases passed!"
      ]
     },
     "execution_count": 15,
     "metadata": {},
     "output_type": "execute_result"
    }
   ],
   "source": [
    "grader.check(\"q1\")"
   ]
  },
  {
   "cell_type": "markdown",
   "id": "dee1647d",
   "metadata": {
    "deletable": false,
    "editable": false
   },
   "source": [
    "**Question 2:** Which country had the highest population (`pop`) **increase** between *2015* and *2020*?\n",
    "\n",
    "There is a **unique** country in this dataset whose population increased the most. You **do not** have to worry about ties.\n",
    "\n",
    "**Hint:** Recall how to loop through the dataset and extract data from each year from [Lab-P7](https://git.doit.wisc.edu/cdis/cs/courses/cs220/cs220-s23-projects/-/tree/main/lab-p7)."
   ]
  },
  {
   "cell_type": "code",
   "execution_count": 16,
   "id": "6cb9dd7a",
   "metadata": {
    "tags": []
   },
   "outputs": [
    {
     "data": {
      "text/plain": [
       "'India'"
      ]
     },
     "execution_count": 16,
     "metadata": {},
     "output_type": "execute_result"
    }
   ],
   "source": [
    "# compute and store the answer in the variable 'highest_pop_inc_country', then display it\n",
    "highest_pop = 0\n",
    "for value in range(0, len(csv_rows), 2):\n",
    "    value_2015 = value\n",
    "    value_2020 = value + 1\n",
    "    increase_pop = (cell(value_2020 , \"pop\") - cell(value_2015, \"pop\"))\n",
    "    count_name = cell(value , \"country_name\")\n",
    "    if increase_pop > highest_pop :\n",
    "        highest_pop = increase_pop\n",
    "        highest_pop_inc_country = count_name\n",
    "    else :\n",
    "        continue\n",
    "highest_pop_inc_country\n"
   ]
  },
  {
   "cell_type": "code",
   "execution_count": 17,
   "id": "9c1c6497",
   "metadata": {
    "deletable": false,
    "editable": false
   },
   "outputs": [
    {
     "data": {
      "text/html": [
       "<p><strong><pre style='display: inline;'>q2</pre></strong> passed! 🙌</p>"
      ],
      "text/plain": [
       "q2 results: All test cases passed!"
      ]
     },
     "execution_count": 17,
     "metadata": {},
     "output_type": "execute_result"
    }
   ],
   "source": [
    "grader.check(\"q2\")"
   ]
  },
  {
   "cell_type": "markdown",
   "id": "b50acbc5",
   "metadata": {
    "deletable": false,
    "editable": false
   },
   "source": [
    "**Question 3:** Which country had the highest **increase** in at least basic (`national_alb`) water supply between the years of *2015* and *2020*? \n",
    "\n",
    "There is a **unique** country in this dataset whose `national_alb` value increased the most. You **do not** have to worry about ties.\n",
    "\n",
    "**Hint:** Take a look at q7 in Lab-P7 to see how to compute the change in `national_alb` between *2015* and *2020* for each country."
   ]
  },
  {
   "cell_type": "code",
   "execution_count": 18,
   "id": "7f2ef785",
   "metadata": {
    "tags": []
   },
   "outputs": [
    {
     "data": {
      "text/plain": [
       "'Afghanistan'"
      ]
     },
     "execution_count": 18,
     "metadata": {},
     "output_type": "execute_result"
    }
   ],
   "source": [
    "# compute and store the answer in the variable 'highest_nat_alb_inc_country', then display it\n",
    "highest_alb = 0\n",
    "for value in range(0, len(csv_rows), 2):\n",
    "    value_2015 = value\n",
    "    value_2020 = value + 1\n",
    "    increase_alb = (cell(value_2020 , \"national_alb\") - cell(value_2015, \"national_alb\"))\n",
    "    count_name = cell(value , \"country_name\")\n",
    "    if increase_alb > highest_alb :\n",
    "        highest_alb = increase_alb\n",
    "        highest_nat_alb_inc_country = count_name\n",
    "    else :\n",
    "        continue\n",
    "highest_nat_alb_inc_country"
   ]
  },
  {
   "cell_type": "code",
   "execution_count": 19,
   "id": "e36ddb30",
   "metadata": {
    "deletable": false,
    "editable": false
   },
   "outputs": [
    {
     "data": {
      "text/html": [
       "<p><strong><pre style='display: inline;'>q3</pre></strong> passed! 🙌</p>"
      ],
      "text/plain": [
       "q3 results: All test cases passed!"
      ]
     },
     "execution_count": 19,
     "metadata": {},
     "output_type": "execute_result"
    }
   ],
   "source": [
    "grader.check(\"q3\")"
   ]
  },
  {
   "cell_type": "markdown",
   "id": "4bba9ee3",
   "metadata": {
    "deletable": false,
    "editable": false
   },
   "source": [
    "**Question 4:** What was the `income_level` in *2020* of the country with the highest increase in at least basic (`national_alb`) water supply between *2015* and *2020*?\n",
    "\n",
    "You **must** not repeat your computation here. Instead modify your code for q3 to extract the correct index, and use that to answer this question."
   ]
  },
  {
   "cell_type": "code",
   "execution_count": 20,
   "id": "abe5a4ed",
   "metadata": {
    "tags": []
   },
   "outputs": [
    {
     "data": {
      "text/plain": [
       "'Low income'"
      ]
     },
     "execution_count": 20,
     "metadata": {},
     "output_type": "execute_result"
    }
   ],
   "source": [
    "# compute and store the answer in the variable 'highest_alb_inc_income_level', then display it\n",
    "highest_alb = 0\n",
    "for value in range(0, len(csv_rows), 2):\n",
    "    value_2015 = value\n",
    "    value_2020 = value + 1\n",
    "    increase_alb = (cell(value_2020 , \"national_alb\") - cell(value_2015, \"national_alb\"))\n",
    "    income_value = cell(value , \"income_level\")\n",
    "    if increase_alb > highest_alb :\n",
    "        highest_alb = increase_alb\n",
    "        highest_alb_inc_income_level = income_value\n",
    "        \n",
    "    else :\n",
    "        continue\n",
    "highest_alb_inc_income_level"
   ]
  },
  {
   "cell_type": "code",
   "execution_count": 21,
   "id": "2d6efed9",
   "metadata": {
    "deletable": false,
    "editable": false
   },
   "outputs": [
    {
     "data": {
      "text/html": [
       "<p><strong><pre style='display: inline;'>q4</pre></strong> passed! 🎉</p>"
      ],
      "text/plain": [
       "q4 results: All test cases passed!"
      ]
     },
     "execution_count": 21,
     "metadata": {},
     "output_type": "execute_result"
    }
   ],
   "source": [
    "grader.check(\"q4\")"
   ]
  },
  {
   "cell_type": "markdown",
   "id": "deca9ecc",
   "metadata": {
    "deletable": false,
    "editable": false
   },
   "source": [
    "**Question 5:** What is the **total** population (`pop`) of **all** the countries (in the dataset) in the `year` *2015*?\n",
    "\n",
    "The `pop` column stores the population in thousands. Your `cell` function already multiplies the value in this column by *1000*, so you can directly use the value returned by `cell` as the population of the country."
   ]
  },
  {
   "cell_type": "code",
   "execution_count": 22,
   "id": "38e85879",
   "metadata": {
    "tags": []
   },
   "outputs": [
    {
     "data": {
      "text/plain": [
       "6501786000"
      ]
     },
     "execution_count": 22,
     "metadata": {},
     "output_type": "execute_result"
    }
   ],
   "source": [
    "# compute and store the answer in the variable 'total_pop_2015', then display it\n",
    "total_pop = 0\n",
    "for value in range(len(csv_rows)):\n",
    "    year_value = cell(value, \"year\")\n",
    "    if year_value == 2015:\n",
    "        pop_value = cell(value, \"pop\")\n",
    "        total_pop += pop_value\n",
    "total_pop_2015 = total_pop\n",
    "total_pop_2015"
   ]
  },
  {
   "cell_type": "code",
   "execution_count": 23,
   "id": "b1e8600b",
   "metadata": {
    "deletable": false,
    "editable": false
   },
   "outputs": [
    {
     "data": {
      "text/html": [
       "<p><strong><pre style='display: inline;'>q5</pre></strong> passed! 🎉</p>"
      ],
      "text/plain": [
       "q5 results: All test cases passed!"
      ]
     },
     "execution_count": 23,
     "metadata": {},
     "output_type": "execute_result"
    }
   ],
   "source": [
    "grader.check(\"q5\")"
   ]
  },
  {
   "cell_type": "code",
   "execution_count": null,
   "id": "780d69e9",
   "metadata": {},
   "outputs": [],
   "source": []
  },
  {
   "cell_type": "markdown",
   "id": "c496f364",
   "metadata": {
    "deletable": false,
    "editable": false
   },
   "source": [
    "**Question 6:** What was the global **percentage** of urban population (`urban_percent`) across **all** countries (in the dataset) in the `year` *2015*?\n",
    "\n",
    "You need to find the **total** urban population by *multiplying* the `pop` and `urban_percent` columns of each country and *adding* this up (the urban population). Then you need to *divide* by the **total** population to get the percentage of urban population across all the countries.\n",
    "\n",
    "Your output **must** be an **int**. You **must** use the `round` function to round your answer to the nearest integer."
   ]
  },
  {
   "cell_type": "code",
   "execution_count": 24,
   "id": "1c6623f6",
   "metadata": {
    "tags": []
   },
   "outputs": [
    {
     "data": {
      "text/plain": [
       "52"
      ]
     },
     "execution_count": 24,
     "metadata": {},
     "output_type": "execute_result"
    }
   ],
   "source": [
    "# compute and store the answer in the variable 'urban_pop_percent_2015', then display it\n",
    "total_pop = 0 \n",
    "urban_pop = 0\n",
    "urban_pop_percent_2015 = 0\n",
    "for value in range(len(csv_rows)):\n",
    "    year_value = cell(value , \"year\")\n",
    "    if year_value == 2015 :\n",
    "        pop_value = cell(value, \"pop\")\n",
    "        urban_value = cell(value , \"urban_percent\")\n",
    "        total_pop += pop_value\n",
    "        urban_pop += pop_value * urban_value\n",
    "    \n",
    "urban_pop_percent_2015 = round(urban_pop/total_pop)\n",
    "urban_pop_percent_2015   "
   ]
  },
  {
   "cell_type": "code",
   "execution_count": 25,
   "id": "344323a3",
   "metadata": {
    "deletable": false,
    "editable": false
   },
   "outputs": [
    {
     "data": {
      "text/html": [
       "<p><strong><pre style='display: inline;'>q6</pre></strong> passed! 🌈</p>"
      ],
      "text/plain": [
       "q6 results: All test cases passed!"
      ]
     },
     "execution_count": 25,
     "metadata": {},
     "output_type": "execute_result"
    }
   ],
   "source": [
    "grader.check(\"q6\")"
   ]
  },
  {
   "cell_type": "markdown",
   "id": "72e81551",
   "metadata": {
    "deletable": false,
    "editable": false
   },
   "source": [
    "**Question 7:** What was the **total** population (`pop`) of countries that were in the *High income* group (`income_level`) in the `year` *2020*?\n",
    "\n",
    "Your output **must** be an **int**."
   ]
  },
  {
   "cell_type": "code",
   "execution_count": 26,
   "id": "fd0a5d9d",
   "metadata": {
    "tags": []
   },
   "outputs": [
    {
     "data": {
      "text/plain": [
       "871268000"
      ]
     },
     "execution_count": 26,
     "metadata": {},
     "output_type": "execute_result"
    }
   ],
   "source": [
    "# compute and store the answer in the variable 'high_income_pop', then display it\n",
    "high_income_pop = 0 \n",
    "for value in range(len(csv_rows)):\n",
    "    income_value = cell(value , \"income_level\")\n",
    "    year_value = cell(value , \"year\")\n",
    "    if income_value == 'High income' and year_value == 2020 :\n",
    "        pop_value = cell(value,\"pop\")\n",
    "        high_income_pop += pop_value\n",
    "high_income_pop"
   ]
  },
  {
   "cell_type": "code",
   "execution_count": 27,
   "id": "dbe51f29",
   "metadata": {
    "deletable": false,
    "editable": false
   },
   "outputs": [
    {
     "data": {
      "text/html": [
       "<p><strong><pre style='display: inline;'>q7</pre></strong> passed! 🍀</p>"
      ],
      "text/plain": [
       "q7 results: All test cases passed!"
      ]
     },
     "execution_count": 27,
     "metadata": {},
     "output_type": "execute_result"
    }
   ],
   "source": [
    "grader.check(\"q7\")"
   ]
  },
  {
   "cell_type": "markdown",
   "id": "a5b16acd",
   "metadata": {
    "deletable": false,
    "editable": false
   },
   "source": [
    "**Question 8:** Which *income group* (`income_level`) had the **least** population (`pop`) in the `year` *2015*?\n",
    "\n",
    "You must find the **total** population (`pop`) for each `income_level`, and find the `income_level` which has the **least** total population.\n",
    "\n",
    "**Hint:** There are several ways to solve this problem efficiently (including using `dicts`). You can try to solve this problem using dicts if you want to. However, another approach that you might already be familiar with from p6 is to first create a *list* of all the **unique** income levels, and then loop through the entire dataset for **each** income level to find the total population of that income level, before comparing these numbers to find the income level with the least population."
   ]
  },
  {
   "cell_type": "code",
   "execution_count": 28,
   "id": "90350b24",
   "metadata": {
    "tags": []
   },
   "outputs": [
    {
     "data": {
      "text/plain": [
       "'Low income'"
      ]
     },
     "execution_count": 28,
     "metadata": {},
     "output_type": "execute_result"
    }
   ],
   "source": [
    "# compute and store the answer in the variable 'least_pop_income_group', then display it\n",
    "list_income_level = []\n",
    "value_min = 0\n",
    "lowest_pop = 0\n",
    "total_pop = 0 \n",
    "for value in range(len(csv_rows)):\n",
    "    year_value = cell(value,'year')\n",
    "    if year_value == 2015:\n",
    "        income_value = cell(value,'income_level')\n",
    "        list_income_level.append(income_value)\n",
    "        total_pop += cell(value,\"pop\")\n",
    "        if total_pop > lowest_pop:\n",
    "            lowest_pop = total_pop\n",
    "            value_min = value\n",
    "    \n",
    "least_pop_income_group = cell(value_min , \"income_level\")\n",
    "least_pop_income_group"
   ]
  },
  {
   "cell_type": "code",
   "execution_count": 29,
   "id": "bd8df15c",
   "metadata": {
    "deletable": false,
    "editable": false
   },
   "outputs": [
    {
     "data": {
      "text/html": [
       "<p><strong><pre style='display: inline;'>q8</pre></strong> passed! 💯</p>"
      ],
      "text/plain": [
       "q8 results: All test cases passed!"
      ]
     },
     "execution_count": 29,
     "metadata": {},
     "output_type": "execute_result"
    }
   ],
   "source": [
    "grader.check(\"q8\")"
   ]
  },
  {
   "cell_type": "markdown",
   "id": "2374c56e",
   "metadata": {
    "deletable": false,
    "editable": false
   },
   "source": [
    "**Question 9:** Create a **list** of the names (`country_name`) of all countries in the *North America* `region` that **tied** for the **maximum** `national_alb` in *2015* (in *North America*).\n",
    "\n",
    "You need to first find the **maximum** value of `national_alb` among all countries in the `region` *North America*, and then make a `list` of **all** the countries in this region having this `national_alb` value. **Multiple** countries from *North America* have the same maximum `national_alb` value, so your output **must** be a `list` of **all** those countries."
   ]
  },
  {
   "cell_type": "code",
   "execution_count": 30,
   "id": "960caebf",
   "metadata": {
    "tags": []
   },
   "outputs": [
    {
     "data": {
      "text/plain": [
       "['Bermuda', 'Canada', 'United States of America']"
      ]
     },
     "execution_count": 30,
     "metadata": {},
     "output_type": "execute_result"
    }
   ],
   "source": [
    "# compute and store the answer in the variable 'na_max_alb_countries', then display it\n",
    "names_of_country = []\n",
    "max_value = 0\n",
    "max_alb = 0\n",
    "na_max_alb_countries = []\n",
    "for value in range(len(csv_rows)):\n",
    "    region_value = cell(value,'region')\n",
    "    year_value = cell(value,'year')\n",
    "    if region_value == 'North America' and year_value == 2015:\n",
    "        name_value = cell(value, 'country_name')\n",
    "        names_of_country.append(name_value)\n",
    "        nat_alb_value = cell(value,'national_alb')\n",
    "        if nat_alb_value > max_alb:\n",
    "            nat_alb_value = max_alb\n",
    "            max_value = value\n",
    "            na_max_alb_countries.append(cell(max_value, \"country_name\"))\n",
    "na_max_alb_countries"
   ]
  },
  {
   "cell_type": "code",
   "execution_count": 31,
   "id": "7348bbdc",
   "metadata": {
    "deletable": false,
    "editable": false
   },
   "outputs": [
    {
     "data": {
      "text/html": [
       "<p><strong><pre style='display: inline;'>q9</pre></strong> passed! ✨</p>"
      ],
      "text/plain": [
       "q9 results: All test cases passed!"
      ]
     },
     "execution_count": 31,
     "metadata": {},
     "output_type": "execute_result"
    }
   ],
   "source": [
    "grader.check(\"q9\")"
   ]
  },
  {
   "cell_type": "markdown",
   "id": "0010cb5e",
   "metadata": {
    "deletable": false,
    "editable": false
   },
   "source": [
    "### Function 2: `get_col_dict(col_name, year)` \n",
    "\n",
    "This function should take in a column `col_name` and a `year` (*2015* or *2020*) as its inputs, and return a `dict` where each key is a `country_code` and the corresponding value is the value under the given `col_name` for the country with the said `country_code` in the given `year`.\n",
    "\n",
    "For example, the value returned by `get_col_dict('country_name', 2015)` should be something like the following:\n",
    "```python\n",
    "{'AFG': 'Afghanistan',\n",
    " 'ALB': 'Albania',\n",
    " 'DZA': 'Algeria',\n",
    " 'AND': 'Andorra',\n",
    " 'AGO': 'Angola',\n",
    " 'ARM': 'Armenia',\n",
    " 'AUS': 'Australia',\n",
    " 'AUT': 'Austria',\n",
    " 'AZE': 'Azerbaijan',\n",
    " 'BGD': 'Bangladesh',\n",
    " ...\n",
    "}\n",
    "```\n",
    "\n",
    "and the value returned by `get_col_dict('pop', 2020)` should be something like the following:\n",
    "```python\n",
    "{'AFG': 38928000,\n",
    " 'ALB': 2878000,\n",
    " 'DZA': 43851000,\n",
    " 'AND': 77000,\n",
    " 'AGO': 32866000,\n",
    " 'ARM': 2963000,\n",
    " 'AUS': 25500000,\n",
    " 'AUT': 9006000,\n",
    " 'AZE': 10139000,\n",
    " 'BGD': 164689000,\n",
    " ...\n",
    "}\n",
    "```\n",
    "\n",
    "Start with the following code snippet and complete the function."
   ]
  },
  {
   "cell_type": "code",
   "execution_count": 32,
   "id": "b1d53dae",
   "metadata": {
    "tags": []
   },
   "outputs": [],
   "source": [
    "# replace the ... with your code\n",
    "\n",
    "def get_col_dict(col_name, year):\n",
    "    col_dict = {}\n",
    "    if year == 2015:\n",
    "        for idx in range (0, len(csv_rows), 2):\n",
    "            col_dict[cell(idx, \"country_code\")] =  cell(idx, col_name)\n",
    "    elif year == 2020:\n",
    "        for idx in range (1, len(csv_rows), 2):\n",
    "            col_dict[cell(idx, \"country_code\")] = cell(idx, col_name)\n",
    "    return col_dict"
   ]
  },
  {
   "cell_type": "markdown",
   "id": "2e90ac41",
   "metadata": {
    "deletable": false,
    "editable": false
   },
   "source": [
    "After you define the function `get_col_dict`, run the following two cells to test whether it works."
   ]
  },
  {
   "cell_type": "code",
   "execution_count": 33,
   "id": "b7ae6fb4",
   "metadata": {
    "tags": []
   },
   "outputs": [],
   "source": [
    "get_col_dict_test1 = get_col_dict('region', 2020)\n",
    "get_col_dict_test2 = get_col_dict('national_alb', 2015)\n",
    "get_col_dict_test3 = get_col_dict('pop', 2020)"
   ]
  },
  {
   "cell_type": "code",
   "execution_count": 34,
   "id": "79dcec3e",
   "metadata": {
    "deletable": false,
    "editable": false
   },
   "outputs": [
    {
     "data": {
      "text/html": [
       "<p><strong><pre style='display: inline;'>get_col_dict</pre></strong> passed! 🙌</p>"
      ],
      "text/plain": [
       "get_col_dict results: All test cases passed!"
      ]
     },
     "execution_count": 34,
     "metadata": {},
     "output_type": "execute_result"
    }
   ],
   "source": [
    "grader.check(\"get_col_dict\")"
   ]
  },
  {
   "cell_type": "markdown",
   "id": "d171f93a",
   "metadata": {
    "deletable": false,
    "editable": false
   },
   "source": [
    "### Data Structures 1: `dict_2015`\n",
    "\n",
    "You must now create a data structure named `dict_2015`. This data structure must be a **dict**. Each key must be a `country_code`, and the corresponding value must be another **dict**. As for the inner dictionary, the keys must be the various column names, and the values must be the values under the column name for `country_code` in the `year` *2015*.\n",
    "\n",
    "The keys for each of the *inner* dictionary are the column names:\n",
    "- `'country_name'`\n",
    "- `'region'`\n",
    "- `'income_level'`\n",
    "- `'year'`\n",
    "- `'pop'`\n",
    "- `'urban_percent'`\n",
    "- `'national_alb'`\n",
    "- `'urban_alb'`\n",
    "\n",
    "You are **allowed** to *hardcode* the **names** of all these columns (i.e., the keys of the *inner* dictionaries).\n",
    "\n",
    "The data structure `dict_2015` should look something like this:\n",
    "```python\n",
    "{'AFG': {'country_name': 'Afghanistan',\n",
    "  'region': 'South Asia',\n",
    "  'income_level': 'Low income',\n",
    "  'year': 2015,\n",
    "  'pop': 34414000,\n",
    "  'urban_percent': 25,\n",
    "  'national_alb': 61,\n",
    "  'urban_alb': 87},\n",
    " 'ALB': {'country_name': 'Albania',\n",
    "  'region': 'Europe & Central Asia',\n",
    "  'income_level': 'Upper middle income',\n",
    "  'year': 2015,\n",
    "  'pop': 2891000,\n",
    "  'urban_percent': 57,\n",
    "  'national_alb': 93,\n",
    "  'urban_alb': 95},\n",
    "  ...\n",
    "}\n",
    "```"
   ]
  },
  {
   "cell_type": "code",
   "execution_count": 35,
   "id": "bed68d29",
   "metadata": {
    "tags": []
   },
   "outputs": [],
   "source": [
    "# define the variable 'dict_2015' here as described above\n",
    "# you may display the variable for testing purposes while you define it,\n",
    "# BUT you MUST remove the line displaying 'dict_2015' before submission as the output will be too large to display\n",
    "\n",
    "# initialize as an empty dictionary\n",
    "dict_2015 = {}\n",
    "country_dict = get_col_dict('country_name', 2015)\n",
    "region_dict = get_col_dict('region', 2015)\n",
    "income_level_dict = get_col_dict('income_level', 2015)\n",
    "year_dict = get_col_dict('year', 2015)\n",
    "pop_dict = get_col_dict('pop', 2015)\n",
    "urban_percent_dict = get_col_dict('urban_percent', 2015)\n",
    "national_alb_dict = get_col_dict('national_alb', 2015)\n",
    "urban_alb_dict = get_col_dict('urban_alb', 2015)\n",
    "\n",
    "# call get_col_dict for other columns\n",
    "for value in range(len(csv_rows)):\n",
    "    country_code = cell(value, \"country_code\")\n",
    "    dict_2015[country_code] = {}\n",
    "    dict_2015[country_code][\"country_name\"] = country_dict[country_code]\n",
    "    dict_2015[country_code][\"region\"] = region_dict[country_code]\n",
    "    dict_2015[country_code][\"income_level\"] = income_level_dict[country_code]\n",
    "    dict_2015[country_code][\"year\"] = year_dict[country_code]\n",
    "    dict_2015[country_code][\"pop\"] = pop_dict[country_code]\n",
    "    dict_2015[country_code][\"urban_percent\"] = urban_percent_dict[country_code]\n",
    "    dict_2015[country_code][\"national_alb\"] = national_alb_dict[country_code]\n",
    "    dict_2015[country_code][\"urban_alb\"] = urban_alb_dict[country_code]\n",
    "    \n",
    "# add data from all these dicts to dict_2015"
   ]
  },
  {
   "cell_type": "markdown",
   "id": "d3c2492b",
   "metadata": {
    "deletable": false,
    "editable": false
   },
   "source": [
    "After you define the data structure `dict_2015`, run the following cell to test whether you have defined it properly."
   ]
  },
  {
   "cell_type": "code",
   "execution_count": 36,
   "id": "58713866",
   "metadata": {
    "deletable": false,
    "editable": false
   },
   "outputs": [
    {
     "data": {
      "text/html": [
       "<p><strong><pre style='display: inline;'>dict_2015</pre></strong> passed! 🎉</p>"
      ],
      "text/plain": [
       "dict_2015 results: All test cases passed!"
      ]
     },
     "execution_count": 36,
     "metadata": {},
     "output_type": "execute_result"
    }
   ],
   "source": [
    "grader.check(\"dict_2015\")"
   ]
  },
  {
   "cell_type": "markdown",
   "id": "07e3a798",
   "metadata": {
    "deletable": false,
    "editable": false
   },
   "source": [
    "### Data Structures 2: `dict_2020`\n",
    "\n",
    "You must now create a data structure named `dict_2020`. This data structure must be a **dict**. Each key must be a `country_code`, and the corresponding value must be another **dict**. As for the inner dictionary, the keys must be the various column names, and the values must be the values under the column name for `country_code` in the `year` *2020*.\n",
    "\n",
    "The keys for each of the *inner* dictionary are the column names:\n",
    "- `'country_name'`\n",
    "- `'region'`\n",
    "- `'income_level'`\n",
    "- `'year'`\n",
    "- `'pop'`\n",
    "- `'urban_percent'`\n",
    "- `'national_alb'`\n",
    "- `'urban_alb'`\n",
    "\n",
    "You are **allowed** to *hardcode* the **names** of all these columns (i.e., the keys of the *inner* dictionaries)."
   ]
  },
  {
   "cell_type": "code",
   "execution_count": 37,
   "id": "7ca9c02f",
   "metadata": {
    "tags": []
   },
   "outputs": [],
   "source": [
    "# define the variable 'dict_2020' here as described above\n",
    "# you may display the variable for testing purposes while you define it,\n",
    "# BUT you MUST remove the line displaying 'dict_2020' before submission as the output will be too large to display\n",
    "dict_2020 = {}\n",
    "\n",
    "country_dict = get_col_dict('country_name', 2020)\n",
    "region_dict = get_col_dict('region', 2020)\n",
    "income_level_dict = get_col_dict('income_level', 2020)\n",
    "year_dict = get_col_dict('year', 2020)\n",
    "pop_dict = get_col_dict('pop', 2020)\n",
    "urban_percent_dict = get_col_dict('urban_percent', 2020)\n",
    "national_alb_dict = get_col_dict('national_alb', 2020)\n",
    "urban_alb_dict = get_col_dict('urban_alb', 2020)\n",
    "for value in range(len(csv_rows)):\n",
    "    country_code = cell(value, \"country_code\")\n",
    "    dict_2020[country_code] = {}\n",
    "    dict_2020[country_code][\"country_name\"] = country_dict[country_code]\n",
    "    dict_2020[country_code][\"region\"] = region_dict[country_code]\n",
    "    dict_2020[country_code][\"income_level\"] = income_level_dict[country_code]\n",
    "    dict_2020[country_code][\"year\"] = year_dict[country_code]\n",
    "    dict_2020[country_code][\"pop\"] = pop_dict[country_code]\n",
    "    dict_2020[country_code][\"urban_percent\"] = urban_percent_dict[country_code]\n",
    "    dict_2020[country_code][\"national_alb\"] = national_alb_dict[country_code]\n",
    "    dict_2020[country_code][\"urban_alb\"] = urban_alb_dict[country_code]"
   ]
  },
  {
   "cell_type": "markdown",
   "id": "60a3c5d3",
   "metadata": {
    "deletable": false,
    "editable": false
   },
   "source": [
    "After you define the data structure `dict_2020`, run the following cell to test whether you have defined it properly."
   ]
  },
  {
   "cell_type": "code",
   "execution_count": 38,
   "id": "1e68e7dd",
   "metadata": {
    "deletable": false,
    "editable": false
   },
   "outputs": [
    {
     "data": {
      "text/html": [
       "<p><strong><pre style='display: inline;'>dict_2020</pre></strong> passed! 🌈</p>"
      ],
      "text/plain": [
       "dict_2020 results: All test cases passed!"
      ]
     },
     "execution_count": 38,
     "metadata": {},
     "output_type": "execute_result"
    }
   ],
   "source": [
    "grader.check(\"dict_2020\")"
   ]
  },
  {
   "cell_type": "markdown",
   "id": "422e0f61",
   "metadata": {
    "deletable": false,
    "editable": false
   },
   "source": [
    "#### From this point onwards, you are only allowed to access data from `water_accessibility.csv` by querying from the **dicts** `dict_2015` and `dict_2020`. You will **lose points** during manual review if you access the data through any other means (inlcuding calling the `cell` function)."
   ]
  },
  {
   "cell_type": "markdown",
   "id": "b666a840",
   "metadata": {
    "deletable": false,
    "editable": false
   },
   "source": [
    "**Question 10:** Output the data from *China* (`country_code`: *CHN*) for the `year` *2020*.\n",
    "\n",
    "Your output **must** be a **dict** mapping each column name to the value for the country *CHN* in the year *2020*. You **must** answer this by querying data from `dict_2020`.\n",
    "\n",
    "The expected output is:\n",
    "```python\n",
    "{'country_name': 'China',\n",
    " 'region': 'East Asia & Pacific',\n",
    " 'income_level': 'Upper middle income',\n",
    " 'year': 2020,\n",
    " 'pop': 1463141000,\n",
    " 'urban_percent': 62,\n",
    " 'national_alb': 94,\n",
    " 'urban_alb': 97}\n",
    "```"
   ]
  },
  {
   "cell_type": "code",
   "execution_count": 39,
   "id": "4f9095c3",
   "metadata": {
    "tags": []
   },
   "outputs": [
    {
     "data": {
      "text/plain": [
       "{'country_name': 'China',\n",
       " 'region': 'East Asia & Pacific',\n",
       " 'income_level': 'Upper middle income',\n",
       " 'year': 2020,\n",
       " 'pop': 1463141000,\n",
       " 'urban_percent': 62,\n",
       " 'national_alb': 94,\n",
       " 'urban_alb': 97}"
      ]
     },
     "execution_count": 39,
     "metadata": {},
     "output_type": "execute_result"
    }
   ],
   "source": [
    "# compute and store the answer in the variable 'chn_2020_dict', then display it\n",
    "chn_2020_dict = dict_2020['CHN']\n",
    "chn_2020_dict"
   ]
  },
  {
   "cell_type": "code",
   "execution_count": 40,
   "id": "e9c1feb6",
   "metadata": {
    "deletable": false,
    "editable": false
   },
   "outputs": [
    {
     "data": {
      "text/html": [
       "<p><strong><pre style='display: inline;'>q10</pre></strong> passed! 🎉</p>"
      ],
      "text/plain": [
       "q10 results: All test cases passed!"
      ]
     },
     "execution_count": 40,
     "metadata": {},
     "output_type": "execute_result"
    }
   ],
   "source": [
    "grader.check(\"q10\")"
   ]
  },
  {
   "cell_type": "markdown",
   "id": "7912771d",
   "metadata": {
    "deletable": false,
    "editable": false
   },
   "source": [
    "**Question 11:** What is the national at least basic (`national_alb`) water supply for *Nepal* (`country_code`: *NPL*) in the `year` *2015*?"
   ]
  },
  {
   "cell_type": "code",
   "execution_count": 41,
   "id": "01badb20",
   "metadata": {
    "tags": []
   },
   "outputs": [
    {
     "data": {
      "text/plain": [
       "88"
      ]
     },
     "execution_count": 41,
     "metadata": {},
     "output_type": "execute_result"
    }
   ],
   "source": [
    "# compute and store the answer in the variable 'npl_national_alb_2015', then display it\n",
    "npl_national_alb_2015 = dict_2015['NPL']['national_alb']\n",
    "npl_national_alb_2015"
   ]
  },
  {
   "cell_type": "code",
   "execution_count": 42,
   "id": "a8b8b903",
   "metadata": {
    "deletable": false,
    "editable": false
   },
   "outputs": [
    {
     "data": {
      "text/html": [
       "<p><strong><pre style='display: inline;'>q11</pre></strong> passed! 💯</p>"
      ],
      "text/plain": [
       "q11 results: All test cases passed!"
      ]
     },
     "execution_count": 42,
     "metadata": {},
     "output_type": "execute_result"
    }
   ],
   "source": [
    "grader.check(\"q11\")"
   ]
  },
  {
   "cell_type": "markdown",
   "id": "ef819bad",
   "metadata": {
    "deletable": false,
    "editable": false
   },
   "source": [
    "**Question 12:** How much did the population (`pop`) of *Finland* **increase** (`country_code`: *FIN*) from the `year` *2015* to *2020*?"
   ]
  },
  {
   "cell_type": "code",
   "execution_count": 43,
   "id": "2cafae07",
   "metadata": {
    "tags": []
   },
   "outputs": [
    {
     "data": {
      "text/plain": [
       "60000"
      ]
     },
     "execution_count": 43,
     "metadata": {},
     "output_type": "execute_result"
    }
   ],
   "source": [
    "# compute and store the answer in the variable 'population_change_fin', then display it\n",
    "population_change_fin = dict_2020['FIN'][\"pop\"] - dict_2015['FIN']['pop']\n",
    "population_change_fin"
   ]
  },
  {
   "cell_type": "code",
   "execution_count": 44,
   "id": "a11231ab",
   "metadata": {
    "deletable": false,
    "editable": false
   },
   "outputs": [
    {
     "data": {
      "text/html": [
       "<p><strong><pre style='display: inline;'>q12</pre></strong> passed! 🙌</p>"
      ],
      "text/plain": [
       "q12 results: All test cases passed!"
      ]
     },
     "execution_count": 44,
     "metadata": {},
     "output_type": "execute_result"
    }
   ],
   "source": [
    "grader.check(\"q12\")"
   ]
  },
  {
   "cell_type": "markdown",
   "id": "3c38b8c1",
   "metadata": {
    "deletable": false,
    "editable": false
   },
   "source": [
    "**Question 13:** For each `income_level`, find the **total** population (`pop`) of all countries within that `income_level` in *2020*.\n",
    "\n",
    "Your output **must** be a **dict** where each key is a `income_level`, and the corresponding value is the **sum** of populations (`pop`) of all the countries from that `income_level` in the `year` *2020*."
   ]
  },
  {
   "cell_type": "code",
   "execution_count": 45,
   "id": "b68d867e",
   "metadata": {
    "tags": []
   },
   "outputs": [
    {
     "data": {
      "text/plain": [
       "{'Low income': 514021000,\n",
       " 'Upper middle income': 2430080000,\n",
       " 'Lower middle income': 3045857000,\n",
       " 'High income': 871268000}"
      ]
     },
     "execution_count": 45,
     "metadata": {},
     "output_type": "execute_result"
    }
   ],
   "source": [
    "# compute and store the answer in the variable 'income_level_pops', then display it\n",
    "income_level_pops = {}\n",
    "list_of_income_level = []\n",
    "\n",
    "for key in dict_2020: \n",
    "    income_level = dict_2020[key][\"income_level\"]\n",
    "    if income_level not in list_of_income_level: \n",
    "        list_of_income_level.append(income_level)\n",
    "\n",
    "for level_of_income in list_of_income_level: \n",
    "    total_population = 0 \n",
    "    for key in dict_2020: \n",
    "        if dict_2020[key]['income_level'] == level_of_income: \n",
    "            total_population += dict_2020[key]['pop']\n",
    "        income_level_pops[level_of_income] = total_population\n",
    "\n",
    "income_level_pops\n"
   ]
  },
  {
   "cell_type": "code",
   "execution_count": 46,
   "id": "f1fb4c8c",
   "metadata": {
    "deletable": false,
    "editable": false
   },
   "outputs": [
    {
     "data": {
      "text/html": [
       "<p><strong><pre style='display: inline;'>q13</pre></strong> passed! ✨</p>"
      ],
      "text/plain": [
       "q13 results: All test cases passed!"
      ]
     },
     "execution_count": 46,
     "metadata": {},
     "output_type": "execute_result"
    }
   ],
   "source": [
    "grader.check(\"q13\")"
   ]
  },
  {
   "cell_type": "markdown",
   "id": "ca853253",
   "metadata": {
    "deletable": false,
    "editable": false
   },
   "source": [
    "**Question 14:** For each `income_level`, find the **total** population (`pop`) of all countries who have access to at least basic water supply within that `income_level` in *2020*.\n",
    "\n",
    "Your output **must** be a **dict** where each key is a `income_level`, and the corresponding value is the **sum** of populations (`pop`) which have access to at least basic water supply of all the countries from that `income_level` in the `year` *2020*.\n",
    "\n",
    "You **must** round the population of **each** country with access to at least basic water supply to the **nearest** integer **before** adding them up.\n",
    "\n",
    "**Hint:** For each country, the population with at least basic water supply is `pop * national_alb / 100`. "
   ]
  },
  {
   "cell_type": "code",
   "execution_count": 47,
   "id": "f3612c98",
   "metadata": {
    "tags": []
   },
   "outputs": [
    {
     "data": {
      "text/plain": [
       "{'Low income': 302975040,\n",
       " 'Upper middle income': 2321860110,\n",
       " 'Lower middle income': 2687761440,\n",
       " 'High income': 870638000}"
      ]
     },
     "execution_count": 47,
     "metadata": {},
     "output_type": "execute_result"
    }
   ],
   "source": [
    "# compute and store the answer in the variable 'income_level_alb_pops', then display it\n",
    "income_level_alb_pops = {}\n",
    "list_of_income_level = []\n",
    "\n",
    "for key in dict_2020: \n",
    "    if dict_2020[key][\"income_level\"] not in list_of_income_level: \n",
    "        list_of_income_level.append(dict_2020[key][\"income_level\"])\n",
    "\n",
    "for level_of_income in list_of_income_level: \n",
    "    total_albanian_population = 0 \n",
    "    for key in dict_2020: \n",
    "        if dict_2020[key]['income_level'] == level_of_income: \n",
    "            total_albanian_population += dict_2020[key]['pop'] * dict_2020[key]['national_alb'] / 100\n",
    "        income_level_alb_pops[level_of_income] = round(total_albanian_population)\n",
    "\n",
    "income_level_alb_pops\n"
   ]
  },
  {
   "cell_type": "code",
   "execution_count": 48,
   "id": "2c66e6d4",
   "metadata": {
    "deletable": false,
    "editable": false
   },
   "outputs": [
    {
     "data": {
      "text/html": [
       "<p><strong><pre style='display: inline;'>q14</pre></strong> passed! 💯</p>"
      ],
      "text/plain": [
       "q14 results: All test cases passed!"
      ]
     },
     "execution_count": 48,
     "metadata": {},
     "output_type": "execute_result"
    }
   ],
   "source": [
    "grader.check(\"q14\")"
   ]
  },
  {
   "cell_type": "markdown",
   "id": "a045c086",
   "metadata": {
    "deletable": false,
    "editable": false
   },
   "source": [
    "**Question 15:** For each `income_level`, find the **percentage** of population (`pop`) of all countries within that `income_level` with at least basic water supply in *2020*.\n",
    "\n",
    "Your output **must** be a **dict** where each key is a `income_level`, and the corresponding value is the **percentage** of the population (`pop`) which have access to at least basic water supply of all the countries from that `income_level` in the `year` *2020*. The percentages **must** be represented as **int**s between *0* and *100*. You **must** round each of the percentages to the **nearest** integer.\n",
    "\n",
    "**Hint:** You need to loop through the dictionary you found in Q13 (or Q14), and for each key, you need to divide the corresponding value in the Q14 dictionary by the value of the same key in the Q13 dictionary and multiply by 100. Take another look at Task 3.6 from Lab-P7, if you are not sure how to proceed here."
   ]
  },
  {
   "cell_type": "code",
   "execution_count": 49,
   "id": "3ed16adc",
   "metadata": {
    "tags": []
   },
   "outputs": [
    {
     "data": {
      "text/plain": [
       "{'Low income': 59,\n",
       " 'Upper middle income': 96,\n",
       " 'Lower middle income': 88,\n",
       " 'High income': 100}"
      ]
     },
     "execution_count": 49,
     "metadata": {},
     "output_type": "execute_result"
    }
   ],
   "source": [
    "# compute and store the answer in the variable 'income_level_alb_percent', then display it\n",
    "income_level_alb_percent = {}\n",
    "for key in income_level_pops:\n",
    "    if income_level_pops[key] != 0:\n",
    "        percentage_albanian = (income_level_alb_pops[key] / income_level_pops[key]) * 100\n",
    "        income_level_alb_percent[key] = round(percentage_albanian)\n",
    "    else:\n",
    "        income_level_alb_percent[key] = 0\n",
    "income_level_alb_percent\n"
   ]
  },
  {
   "cell_type": "code",
   "execution_count": 50,
   "id": "bb057833",
   "metadata": {
    "deletable": false,
    "editable": false
   },
   "outputs": [
    {
     "data": {
      "text/html": [
       "<p><strong><pre style='display: inline;'>q15</pre></strong> passed! 🚀</p>"
      ],
      "text/plain": [
       "q15 results: All test cases passed!"
      ]
     },
     "execution_count": 50,
     "metadata": {},
     "output_type": "execute_result"
    }
   ],
   "source": [
    "grader.check(\"q15\")"
   ]
  },
  {
   "cell_type": "markdown",
   "id": "83143982",
   "metadata": {
    "deletable": false,
    "editable": false
   },
   "source": [
    "### Data Structure 3: Adding `rural_alb`  to `dict_2015` and `dict_2020`\n",
    "\n",
    "Our dataset has data on the percentage of **national** and **urban** populations with at least basic water supply. However, it is usually **rural** populations which have the greatest difficulty in getting access to water.\n",
    "\n",
    "Luckily, we are able to calculate **rural_alb** from the given data using the formula:\n",
    "\n",
    "$$\n",
    "rural_{alb} = \\frac{national_{alb} - \\left(urban_{alb} \\times \\frac{urban\\_percent}{100}\\right)}{\\left(1 - \\frac{urban\\_percent}{100}\\right)}\n",
    "$$\n",
    "\n",
    "*If a country has `urban_percent` equal to `100`, then the country has a negligible rural population, and the formula above is not valid. For such countries, we will assume that `rural_alb` is the **same** as `urban_alb`.*\n",
    "\n",
    "You **must** loop through each country in `dict_2015` and `dict_2020`, and add an **additional** key value pair for each country. The new key should be the string: `\"rural_alb\"`, and the corresponding value should be the `rural_alb` value for that country as given by the formula above. You **must** round each number to the **nearest** integer."
   ]
  },
  {
   "cell_type": "code",
   "execution_count": 51,
   "id": "2c158007",
   "metadata": {
    "tags": []
   },
   "outputs": [],
   "source": [
    "# add the additional key-value pair to both dicts 'dict_2015' and 'dict_2020' here\n",
    "# you may display the variable for testing purposes while you define it,\n",
    "# BUT you MUST remove the line displaying the dicts before submission as the output will be too large to display\n",
    "for key in dict_2015:\n",
    "    urban_percent = dict_2015[key][\"urban_percent\"]\n",
    "    national_alb = dict_2015[key][\"national_alb\"]\n",
    "    urban_alb = dict_2015[key][\"urban_alb\"]\n",
    "    if urban_percent == 100:\n",
    "        dict_2015[key][\"rural_alb\"] = urban_alb\n",
    "    else:\n",
    "        rural_alb = round((national_alb - (urban_alb * urban_percent/ 100)) / (1 - urban_percent/100))\n",
    "        dict_2015[key][\"rural_alb\"] = rural_alb\n",
    "\n",
    "for key in dict_2020:\n",
    "    urban_percent = dict_2020[key][\"urban_percent\"]\n",
    "    national_alb = dict_2020[key][\"national_alb\"]\n",
    "    urban_alb = dict_2020[key][\"urban_alb\"]\n",
    "    if urban_percent == 100:\n",
    "        dict_2020[key][\"rural_alb\"] = urban_alb\n",
    "    else: \n",
    "        rural_alb = round((national_alb - (urban_alb * urban_percent/100)) / (1- urban_percent/100))\n",
    "        dict_2020[key][\"rural_alb\"] = rural_alb\n"
   ]
  },
  {
   "cell_type": "markdown",
   "id": "1b0697ec",
   "metadata": {
    "deletable": false,
    "editable": false
   },
   "source": [
    "Run the following cell to test whether you have correctly updated the two data structures."
   ]
  },
  {
   "cell_type": "code",
   "execution_count": 52,
   "id": "3756f06e",
   "metadata": {
    "deletable": false,
    "editable": false
   },
   "outputs": [
    {
     "data": {
      "text/html": [
       "<p><strong><pre style='display: inline;'>ds3</pre></strong> passed! 🎉</p>"
      ],
      "text/plain": [
       "ds3 results: All test cases passed!"
      ]
     },
     "execution_count": 52,
     "metadata": {},
     "output_type": "execute_result"
    }
   ],
   "source": [
    "grader.check(\"ds3\")"
   ]
  },
  {
   "cell_type": "markdown",
   "id": "224bada8",
   "metadata": {
    "deletable": false,
    "editable": false
   },
   "source": [
    "**Question 16:** What's the percentage of rural population with at least basic (`rural_alb`) water supply in *Zimbabwe* (`country_code`: *ZWE*) in *2020*? \n",
    "\n",
    "You **must** answer this question by querying data from the dict `dict_2020`."
   ]
  },
  {
   "cell_type": "code",
   "execution_count": 53,
   "id": "5f1e4c0b",
   "metadata": {
    "tags": []
   },
   "outputs": [
    {
     "data": {
      "text/plain": [
       "49"
      ]
     },
     "execution_count": 53,
     "metadata": {},
     "output_type": "execute_result"
    }
   ],
   "source": [
    "# compute and store the answer in the variable 'zimbabwe_rural_alb_2020', then display it\n",
    "zimbabwe_rural_alb_2020 = dict_2020['ZWE']['rural_alb']\n",
    "zimbabwe_rural_alb_2020"
   ]
  },
  {
   "cell_type": "code",
   "execution_count": 54,
   "id": "c5c37780",
   "metadata": {
    "deletable": false,
    "editable": false
   },
   "outputs": [
    {
     "data": {
      "text/html": [
       "<p><strong><pre style='display: inline;'>q16</pre></strong> passed! 🚀</p>"
      ],
      "text/plain": [
       "q16 results: All test cases passed!"
      ]
     },
     "execution_count": 54,
     "metadata": {},
     "output_type": "execute_result"
    }
   ],
   "source": [
    "grader.check(\"q16\")"
   ]
  },
  {
   "cell_type": "markdown",
   "id": "bcbed813",
   "metadata": {
    "deletable": false,
    "editable": false
   },
   "source": [
    "### Data Structure 4: `rural_non_alb` bins\n",
    "\n",
    "We have now managed to extract the percentage of rural population with access to atleast basic water supply for each of the countries in the dataset. We can now use this information to find out the countries whose rural populations do **not** have access to at least basic water supply.\n",
    "\n",
    "You **must** create two **dict**s (one for the `year` *2015* and one for *2020*) where the keys are the integers *0*, *10*, *20*, ..., *100*. The value corresponding to the integer *0* **must** be a **list** containing the names of all the countries for which their rural population **without** access to at least basic (which we can represent as `rural_non_alb`) water supply is `0 <= rural_non_alb < 10`. Similarly, the value corresponding to the key *10* must be a **list** of all countries for which `10 <= rural_non_alb < 20`, and so on.\n",
    "\n",
    "**Hints:**\n",
    "1. You can find `rural_non_alb` as `rural_non_alb = 100 - rural_alb`.\n",
    "2. You can find the bin which any country falls into by using the formula:\n",
    "```python\n",
    "rural_non_alb_bin = ((100 - rural_alb)//10) * 10\n",
    "```\n",
    "3. Even if a particular bin has no countries in it, you **must** still create a bin for it in your dict (with the value being an empty list). The starter code below will help you accomplish this."
   ]
  },
  {
   "cell_type": "code",
   "execution_count": 55,
   "id": "7809dc36",
   "metadata": {
    "tags": []
   },
   "outputs": [
    {
     "data": {
      "text/plain": [
       "{0: ['Andorra',\n",
       "  'Armenia',\n",
       "  'Australia',\n",
       "  'Austria',\n",
       "  'Bangladesh',\n",
       "  'Belarus',\n",
       "  'Belgium',\n",
       "  'Belize',\n",
       "  'Bermuda',\n",
       "  'Bhutan',\n",
       "  'Bosnia and Herzegovina',\n",
       "  'Brunei Darussalam',\n",
       "  'Bulgaria',\n",
       "  'Canada',\n",
       "  'Chile',\n",
       "  'Costa Rica',\n",
       "  'Cyprus',\n",
       "  'Czech Republic',\n",
       "  'Denmark',\n",
       "  'Estonia',\n",
       "  'Finland',\n",
       "  'France',\n",
       "  'Georgia',\n",
       "  'Germany',\n",
       "  'Gibraltar',\n",
       "  'Greece',\n",
       "  'Greenland',\n",
       "  'Guyana',\n",
       "  'Hungary',\n",
       "  'Iceland',\n",
       "  'Ireland',\n",
       "  'Israel',\n",
       "  'Jordan',\n",
       "  'Kazakhstan',\n",
       "  'Latvia',\n",
       "  'Lithuania',\n",
       "  'Luxembourg',\n",
       "  'Maldives',\n",
       "  'Malta',\n",
       "  'Marshall Islands',\n",
       "  'Mauritius',\n",
       "  'Monaco',\n",
       "  'Montenegro',\n",
       "  'Nauru',\n",
       "  'Netherlands',\n",
       "  'New Zealand',\n",
       "  'North Macedonia',\n",
       "  'Norway',\n",
       "  'Palau',\n",
       "  'Paraguay',\n",
       "  'Poland',\n",
       "  'Portugal',\n",
       "  'Romania',\n",
       "  'Russian Federation',\n",
       "  'Samoa',\n",
       "  'Serbia',\n",
       "  'Singapore',\n",
       "  'Spain',\n",
       "  'Suriname',\n",
       "  'Sweden',\n",
       "  'Switzerland',\n",
       "  'Syrian Arab Republic',\n",
       "  'Thailand',\n",
       "  'Tonga',\n",
       "  'Turkmenistan',\n",
       "  'Tuvalu',\n",
       "  'Ukraine',\n",
       "  'United Kingdom',\n",
       "  'United States of America',\n",
       "  'Uruguay',\n",
       "  'Uzbekistan'],\n",
       " 10: ['Albania',\n",
       "  'Algeria',\n",
       "  'Azerbaijan',\n",
       "  'Brazil',\n",
       "  'China',\n",
       "  'Cuba',\n",
       "  'Dominican Republic',\n",
       "  'Ecuador',\n",
       "  'El Salvador',\n",
       "  'Fiji',\n",
       "  'Guatemala',\n",
       "  'Honduras',\n",
       "  'India',\n",
       "  'Indonesia',\n",
       "  'Iraq',\n",
       "  'Jamaica',\n",
       "  'Malaysia',\n",
       "  'Mexico',\n",
       "  'Nepal',\n",
       "  'Pakistan',\n",
       "  'Panama',\n",
       "  'Philippines',\n",
       "  'Sri Lanka',\n",
       "  'Tunisia',\n",
       "  'Vanuatu',\n",
       "  'Vietnam'],\n",
       " 20: ['Cabo Verde', 'Colombia', 'Namibia', 'Oman', 'Peru', 'South Africa'],\n",
       " 30: ['Botswana',\n",
       "  'Cambodia',\n",
       "  'Ghana',\n",
       "  'Lesotho',\n",
       "  'Liberia',\n",
       "  'Malawi',\n",
       "  'Mali',\n",
       "  'Morocco',\n",
       "  'Myanmar',\n",
       "  'Senegal',\n",
       "  'Solomon Islands',\n",
       "  'Tajikistan',\n",
       "  'Timor-Leste'],\n",
       " 40: ['Afghanistan',\n",
       "  'Benin',\n",
       "  'Burundi',\n",
       "  \"Côte d'Ivoire\",\n",
       "  'Eswatini',\n",
       "  'Guinea',\n",
       "  'Kiribati',\n",
       "  'Mongolia',\n",
       "  'Nicaragua',\n",
       "  'Nigeria',\n",
       "  'Rwanda',\n",
       "  'Sudan',\n",
       "  'Zimbabwe'],\n",
       " 50: ['Cameroon',\n",
       "  'Djibouti',\n",
       "  'Gabon',\n",
       "  'Guinea-Bissau',\n",
       "  'Haiti',\n",
       "  'Kenya',\n",
       "  'Mauritania',\n",
       "  'Sierra Leone',\n",
       "  'Togo',\n",
       "  'Zambia'],\n",
       " 60: ['Burkina Faso',\n",
       "  'Central African Republic',\n",
       "  'Chad',\n",
       "  'Ethiopia',\n",
       "  'Madagascar',\n",
       "  'Mozambique',\n",
       "  'Niger',\n",
       "  'Papua New Guinea',\n",
       "  'South Sudan',\n",
       "  'Uganda'],\n",
       " 70: ['Angola', 'Somalia'],\n",
       " 80: [],\n",
       " 90: [],\n",
       " 100: []}"
      ]
     },
     "execution_count": 55,
     "metadata": {},
     "output_type": "execute_result"
    }
   ],
   "source": [
    "# compute and store the answer in the variable 'rural_non_alb_bin_2015_dict'\n",
    "\n",
    "# initialize as an empty dictionary\n",
    "rural_non_alb_bin_2015_dict = {}\n",
    "\n",
    "# loop through the keys we want for the dictionary - 0, 10, 20, ..., 100 (inclusive of 100)\n",
    "# and add them to the dictionary as keys with the value as an empty list\n",
    "for rural_non_alb_bin in range(0, 101, 10):\n",
    "    rural_non_alb_bin_2015_dict[rural_non_alb_bin] = []\n",
    "for key in dict_2015:\n",
    "    non_rural_alb =100 - dict_2015[key][\"rural_alb\"]\n",
    "    for idx in rural_non_alb_bin_2015_dict:\n",
    "        if idx <= non_rural_alb < idx + 10:\n",
    "            rural_non_alb_bin_2015_dict[idx].append(dict_2015[key][\"country_name\"])\n",
    "\n",
    "# loop through each country and add to the correct bin of rural_non_alb_bin_2015_dict\n",
    "rural_non_alb_bin_2015_dict\n"
   ]
  },
  {
   "cell_type": "code",
   "execution_count": 56,
   "id": "20737850",
   "metadata": {
    "tags": []
   },
   "outputs": [
    {
     "data": {
      "text/plain": [
       "{0: ['Albania',\n",
       "  'Andorra',\n",
       "  'Armenia',\n",
       "  'Australia',\n",
       "  'Austria',\n",
       "  'Azerbaijan',\n",
       "  'Bangladesh',\n",
       "  'Belarus',\n",
       "  'Belgium',\n",
       "  'Belize',\n",
       "  'Bermuda',\n",
       "  'Bhutan',\n",
       "  'Bosnia and Herzegovina',\n",
       "  'Brazil',\n",
       "  'Brunei Darussalam',\n",
       "  'Bulgaria',\n",
       "  'Canada',\n",
       "  'Chile',\n",
       "  'Costa Rica',\n",
       "  'Cuba',\n",
       "  'Cyprus',\n",
       "  'Czech Republic',\n",
       "  'Denmark',\n",
       "  'Dominican Republic',\n",
       "  'El Salvador',\n",
       "  'Estonia',\n",
       "  'Finland',\n",
       "  'France',\n",
       "  'Georgia',\n",
       "  'Germany',\n",
       "  'Gibraltar',\n",
       "  'Greece',\n",
       "  'Greenland',\n",
       "  'Guyana',\n",
       "  'Hungary',\n",
       "  'Iceland',\n",
       "  'Iraq',\n",
       "  'Ireland',\n",
       "  'Israel',\n",
       "  'Kazakhstan',\n",
       "  'Latvia',\n",
       "  'Lithuania',\n",
       "  'Luxembourg',\n",
       "  'Maldives',\n",
       "  'Malta',\n",
       "  'Marshall Islands',\n",
       "  'Mauritius',\n",
       "  'Mexico',\n",
       "  'Monaco',\n",
       "  'Montenegro',\n",
       "  'Nauru',\n",
       "  'Netherlands',\n",
       "  'New Zealand',\n",
       "  'North Macedonia',\n",
       "  'Norway',\n",
       "  'Palau',\n",
       "  'Paraguay',\n",
       "  'Philippines',\n",
       "  'Poland',\n",
       "  'Portugal',\n",
       "  'Romania',\n",
       "  'Russian Federation',\n",
       "  'Samoa',\n",
       "  'Serbia',\n",
       "  'Singapore',\n",
       "  'Spain',\n",
       "  'Suriname',\n",
       "  'Sweden',\n",
       "  'Switzerland',\n",
       "  'Syrian Arab Republic',\n",
       "  'Thailand',\n",
       "  'Tonga',\n",
       "  'Tunisia',\n",
       "  'Turkmenistan',\n",
       "  'Tuvalu',\n",
       "  'Ukraine',\n",
       "  'United Kingdom',\n",
       "  'United States of America',\n",
       "  'Uruguay',\n",
       "  'Uzbekistan',\n",
       "  'Vietnam'],\n",
       " 10: ['Algeria',\n",
       "  'Cabo Verde',\n",
       "  'China',\n",
       "  'Colombia',\n",
       "  'Ecuador',\n",
       "  'Fiji',\n",
       "  'Guatemala',\n",
       "  'Honduras',\n",
       "  'India',\n",
       "  'Indonesia',\n",
       "  'Jamaica',\n",
       "  'Jordan',\n",
       "  'Malaysia',\n",
       "  'Nepal',\n",
       "  'Pakistan',\n",
       "  'Panama',\n",
       "  'South Africa',\n",
       "  'Sri Lanka',\n",
       "  'Vanuatu'],\n",
       " 20: ['Botswana',\n",
       "  'Ghana',\n",
       "  'Mali',\n",
       "  'Morocco',\n",
       "  'Myanmar',\n",
       "  'Namibia',\n",
       "  'Oman',\n",
       "  'Peru',\n",
       "  'Senegal',\n",
       "  'Tajikistan',\n",
       "  'Timor-Leste'],\n",
       " 30: ['Afghanistan',\n",
       "  'Cambodia',\n",
       "  'Eswatini',\n",
       "  'Lesotho',\n",
       "  'Liberia',\n",
       "  'Malawi',\n",
       "  'Nigeria'],\n",
       " 40: ['Benin',\n",
       "  'Burundi',\n",
       "  \"Côte d'Ivoire\",\n",
       "  'Kenya',\n",
       "  'Kiribati',\n",
       "  'Mauritania',\n",
       "  'Mongolia',\n",
       "  'Nicaragua',\n",
       "  'Rwanda',\n",
       "  'Sierra Leone',\n",
       "  'Solomon Islands',\n",
       "  'Sudan',\n",
       "  'Togo'],\n",
       " 50: ['Cameroon',\n",
       "  'Djibouti',\n",
       "  'Guinea',\n",
       "  'Guinea-Bissau',\n",
       "  'Haiti',\n",
       "  'Mozambique',\n",
       "  'Uganda',\n",
       "  'Zambia',\n",
       "  'Zimbabwe'],\n",
       " 60: ['Burkina Faso',\n",
       "  'Chad',\n",
       "  'Ethiopia',\n",
       "  'Gabon',\n",
       "  'Madagascar',\n",
       "  'Niger',\n",
       "  'Papua New Guinea',\n",
       "  'Somalia',\n",
       "  'South Sudan'],\n",
       " 70: ['Angola', 'Central African Republic'],\n",
       " 80: [],\n",
       " 90: [],\n",
       " 100: []}"
      ]
     },
     "execution_count": 56,
     "metadata": {},
     "output_type": "execute_result"
    }
   ],
   "source": [
    "# compute and store the answer in the variable 'rural_non_alb_bin_2020_dict'\n",
    "rural_non_alb_bin_2020_dict = {}\n",
    "\n",
    "# initialize the dictionary keys with an empty list\n",
    "for rural_non_alb_bin in range(0, 101, 10):\n",
    "    rural_non_alb_bin_2020_dict[rural_non_alb_bin] = []\n",
    "\n",
    "# populate the dictionary with country names falling into each rural_non_alb_bin\n",
    "for key in dict_2020:\n",
    "    non_rural_alb = 100 - dict_2020[key][\"rural_alb\"]\n",
    "    for rural_non_alb_bin in rural_non_alb_bin_2020_dict:\n",
    "        if rural_non_alb_bin <= non_rural_alb < rural_non_alb_bin + 10:\n",
    "            rural_non_alb_bin_2020_dict[rural_non_alb_bin].append(dict_2020[key][\"country_name\"])\n",
    "\n",
    "rural_non_alb_bin_2020_dict\n"
   ]
  },
  {
   "cell_type": "markdown",
   "id": "47274c60",
   "metadata": {
    "deletable": false,
    "editable": false
   },
   "source": [
    "After you define the data structures `rural_non_alb_bin_2015_dict` and `rural_non_alb_bin_2020_dict`, run the following cell to test whether you have defined them properly."
   ]
  },
  {
   "cell_type": "code",
   "execution_count": 57,
   "id": "9b1d43d7",
   "metadata": {
    "deletable": false,
    "editable": false
   },
   "outputs": [
    {
     "data": {
      "text/html": [
       "<p><strong><pre style='display: inline;'>rural_non_alb_bins</pre></strong> passed! 🎉</p>"
      ],
      "text/plain": [
       "rural_non_alb_bins results: All test cases passed!"
      ]
     },
     "execution_count": 57,
     "metadata": {},
     "output_type": "execute_result"
    }
   ],
   "source": [
    "grader.check(\"rural_non_alb_bins\")"
   ]
  },
  {
   "cell_type": "markdown",
   "id": "ba0832bb",
   "metadata": {
    "deletable": false,
    "editable": false
   },
   "source": [
    "**Question 17:** List all the countries which had `rural_non_alb` value between *20* and *29* (both inclusive) in the `year` *2015*.\n",
    "\n",
    "You **must** answer this question by querying the the **dict** `rural_non_alb_bin_2015_dict`."
   ]
  },
  {
   "cell_type": "code",
   "execution_count": 58,
   "id": "d7cd2af1",
   "metadata": {
    "tags": []
   },
   "outputs": [
    {
     "data": {
      "text/plain": [
       "['Cabo Verde', 'Colombia', 'Namibia', 'Oman', 'Peru', 'South Africa']"
      ]
     },
     "execution_count": 58,
     "metadata": {},
     "output_type": "execute_result"
    }
   ],
   "source": [
    "# compute and store the answer in the variable 'bin_20_countries', then display it\n",
    "bin_20_countries = rural_non_alb_bin_2015_dict[20]\n",
    "bin_20_countries"
   ]
  },
  {
   "cell_type": "code",
   "execution_count": 59,
   "id": "6a13bfc3",
   "metadata": {
    "deletable": false,
    "editable": false
   },
   "outputs": [
    {
     "data": {
      "text/html": [
       "<p><strong><pre style='display: inline;'>q17</pre></strong> passed! 🙌</p>"
      ],
      "text/plain": [
       "q17 results: All test cases passed!"
      ]
     },
     "execution_count": 59,
     "metadata": {},
     "output_type": "execute_result"
    }
   ],
   "source": [
    "grader.check(\"q17\")"
   ]
  },
  {
   "cell_type": "markdown",
   "id": "79ca0068",
   "metadata": {
    "deletable": false,
    "editable": false
   },
   "source": [
    "**Question 18:** What are the countries in the **last** non-empty bin in the `year` *2020*?\n",
    "\n",
    "Your output **must** be a **list** of the countries in the bin with the **highest** percentage of rural population without at least basic access to water.\n",
    "\n",
    "**Hint:** You must first find the largest key of the **dict** `rural_non_alb_bin_2020_dict` with a non-empty bin, and then find the value of that key."
   ]
  },
  {
   "cell_type": "code",
   "execution_count": 60,
   "id": "5f0a7e59",
   "metadata": {
    "tags": []
   },
   "outputs": [
    {
     "data": {
      "text/plain": [
       "['Angola', 'Central African Republic']"
      ]
     },
     "execution_count": 60,
     "metadata": {},
     "output_type": "execute_result"
    }
   ],
   "source": [
    "# compute and store the answer in the variable 'last_non_empty_bin_2020', then display it\n",
    "max_key = None\n",
    "for key in rural_non_alb_bin_2020_dict:\n",
    "    if rural_non_alb_bin_2020_dict[key] != []:\n",
    "        if max_key == None or key > max_key:\n",
    "            max_key = key\n",
    "            \n",
    "last_non_empty_bin_2020 = rural_non_alb_bin_2020_dict[max_key]\n",
    "\n",
    "last_non_empty_bin_2020\n"
   ]
  },
  {
   "cell_type": "code",
   "execution_count": 61,
   "id": "fa5d6c6c",
   "metadata": {
    "deletable": false,
    "editable": false
   },
   "outputs": [
    {
     "data": {
      "text/html": [
       "<p><strong><pre style='display: inline;'>q18</pre></strong> passed! 🌟</p>"
      ],
      "text/plain": [
       "q18 results: All test cases passed!"
      ]
     },
     "execution_count": 61,
     "metadata": {},
     "output_type": "execute_result"
    }
   ],
   "source": [
    "grader.check(\"q18\")"
   ]
  },
  {
   "cell_type": "markdown",
   "id": "c4911079",
   "metadata": {
    "deletable": false,
    "editable": false
   },
   "source": [
    "**Question 19:** What countries have **regressed** by moving to a **higher** bin from *2015* to *2020*?\n",
    "\n",
    "Your answer **must** be a **list** of countries which have regressed by having their percentage of rural population without at least basic access to water move to a bin with a **higher** key.\n",
    "\n",
    "**Hint:** There are many ways of solving this question. Here are a few:\n",
    "1. You could create a new dictionary by swapping the keys and values of `rural_non_alb_bin_2015_dict` (and similarly `rural_non_alb_bin_2020_dict`), and use these dictionaries to determine the countries that have regressed.\n",
    "2. You could create a nested loop to go through all possible combinations of keys in both the dictionaries `rural_non_alb_bin_2015_dict` and `rural_non_alb_bin_2020_dict`.\n",
    "3. You could loop through all the countries and directly query from `dict_2015` and `dict_2020` to determine which of them have regressed."
   ]
  },
  {
   "cell_type": "code",
   "execution_count": 62,
   "id": "9467d41d",
   "metadata": {
    "tags": []
   },
   "outputs": [
    {
     "data": {
      "text/plain": [
       "['Central African Republic',\n",
       " 'Gabon',\n",
       " 'Guinea',\n",
       " 'Jordan',\n",
       " 'Solomon Islands',\n",
       " 'Zimbabwe']"
      ]
     },
     "execution_count": 62,
     "metadata": {},
     "output_type": "execute_result"
    }
   ],
   "source": [
    "# compute and store the answer in the variable 'countries_regressed', then display it\n",
    "countries_regressed = []\n",
    "for key in dict_2015:\n",
    "    country = dict_2015[key][\"country_name\"]\n",
    "    in_2015 = 0\n",
    "    in_2020 = 0\n",
    "    for j in rural_non_alb_bin_2015_dict:\n",
    "        if country in rural_non_alb_bin_2015_dict[j]:\n",
    "            in_2015 = j\n",
    "    for l in rural_non_alb_bin_2020_dict:\n",
    "        if country in rural_non_alb_bin_2020_dict[l]:\n",
    "            in_2020 = l\n",
    "    if in_2020 > in_2015:\n",
    "        countries_regressed.append(country)\n",
    "countries_regressed"
   ]
  },
  {
   "cell_type": "code",
   "execution_count": 63,
   "id": "b8d4d3b4",
   "metadata": {
    "deletable": false,
    "editable": false
   },
   "outputs": [
    {
     "data": {
      "text/html": [
       "<p><strong><pre style='display: inline;'>q19</pre></strong> passed! 🌟</p>"
      ],
      "text/plain": [
       "q19 results: All test cases passed!"
      ]
     },
     "execution_count": 63,
     "metadata": {},
     "output_type": "execute_result"
    }
   ],
   "source": [
    "grader.check(\"q19\")"
   ]
  },
  {
   "cell_type": "markdown",
   "id": "99fb75f2",
   "metadata": {
    "deletable": false,
    "editable": false
   },
   "source": [
    "**Question 20:** What countries have **improved** by moving to a **lower** bin from *2015* to *2020*?\n",
    "\n",
    "Your answer **must** be a **list** of countries which have improved by having their percentage of rural population without at least basic access to water move to a bin with a **lower** key."
   ]
  },
  {
   "cell_type": "code",
   "execution_count": 64,
   "id": "4954b362",
   "metadata": {
    "tags": []
   },
   "outputs": [
    {
     "data": {
      "text/plain": [
       "['Afghanistan',\n",
       " 'Albania',\n",
       " 'Azerbaijan',\n",
       " 'Botswana',\n",
       " 'Brazil',\n",
       " 'Cabo Verde',\n",
       " 'Colombia',\n",
       " 'Cuba',\n",
       " 'Dominican Republic',\n",
       " 'El Salvador',\n",
       " 'Eswatini',\n",
       " 'Ghana',\n",
       " 'Iraq',\n",
       " 'Kenya',\n",
       " 'Mali',\n",
       " 'Mauritania',\n",
       " 'Mexico',\n",
       " 'Morocco',\n",
       " 'Mozambique',\n",
       " 'Myanmar',\n",
       " 'Nigeria',\n",
       " 'Philippines',\n",
       " 'Senegal',\n",
       " 'Sierra Leone',\n",
       " 'Somalia',\n",
       " 'South Africa',\n",
       " 'Tajikistan',\n",
       " 'Timor-Leste',\n",
       " 'Togo',\n",
       " 'Tunisia',\n",
       " 'Uganda',\n",
       " 'Vietnam']"
      ]
     },
     "execution_count": 64,
     "metadata": {},
     "output_type": "execute_result"
    }
   ],
   "source": [
    "# compute and store the answer in the variable 'countries_improved', then display it\n",
    "countries_improved = []\n",
    "for key in dict_2015:\n",
    "    country = dict_2015[key][\"country_name\"]\n",
    "    in_2015 = 0\n",
    "    in_2020 = 0\n",
    "    for bin_2015 in rural_non_alb_bin_2015_dict:\n",
    "        if country in rural_non_alb_bin_2015_dict[bin_2015]:\n",
    "            in_2015 = bin_2015\n",
    "    for bin_2020 in rural_non_alb_bin_2020_dict:\n",
    "        if country in rural_non_alb_bin_2020_dict[bin_2020]:\n",
    "            in_2020 = bin_2020\n",
    "    if in_2020 < in_2015:\n",
    "        countries_improved.append(country)\n",
    "\n",
    "countries_improved\n"
   ]
  },
  {
   "cell_type": "code",
   "execution_count": 65,
   "id": "786d8ab1",
   "metadata": {
    "deletable": false,
    "editable": false
   },
   "outputs": [
    {
     "data": {
      "text/html": [
       "<p><strong><pre style='display: inline;'>q20</pre></strong> passed! 🌟</p>"
      ],
      "text/plain": [
       "q20 results: All test cases passed!"
      ]
     },
     "execution_count": 65,
     "metadata": {},
     "output_type": "execute_result"
    }
   ],
   "source": [
    "grader.check(\"q20\")"
   ]
  },
  {
   "cell_type": "markdown",
   "id": "2a5eeeb8",
   "metadata": {
    "deletable": false,
    "editable": false
   },
   "source": [
    "## Submission\n",
    "It is recommended that at this stage, you Restart and Run all Cells in your notebook.\n",
    "That will automatically save your work and generate a zip file for you to submit.\n",
    "\n",
    "**SUBMISSION INSTRUCTIONS**:\n",
    "1. **Upload** the zipfile to Gradescope.\n",
    "2. Check **Gradescope otter** results as soon as the auto-grader execution gets completed. Don't worry about the score showing up as -/100.0. You only need to check that the test cases passed."
   ]
  },
  {
   "cell_type": "code",
   "execution_count": null,
   "id": "6fa71adc",
   "metadata": {
    "cell_type": "code"
   },
   "outputs": [],
   "source": [
    "# running this cell will create a new save checkpoint for your notebook\n",
    "from IPython.display import display, Javascript\n",
    "display(Javascript('IPython.notebook.save_checkpoint();'))"
   ]
  },
  {
   "cell_type": "code",
   "execution_count": 94,
   "id": "cf92c956",
   "metadata": {
    "cell_type": "code",
    "deletable": false,
    "editable": false
   },
   "outputs": [
    {
     "name": "stdout",
     "output_type": "stream",
     "text": [
      "[jupytext] Reading p7.ipynb in format ipynb\n",
      "[jupytext] Writing p7.py\n"
     ]
    }
   ],
   "source": [
    "!jupytext --to py p7.ipynb"
   ]
  },
  {
   "cell_type": "code",
   "execution_count": null,
   "id": "da0a9c58",
   "metadata": {
    "cell_type": "code",
    "deletable": false,
    "editable": false
   },
   "outputs": [],
   "source": [
    "p7_test.check_file_size(\"p7.ipynb\")\n",
    "grader.export(pdf=False, run_tests=True, files=[\"p7.py\"])"
   ]
  },
  {
   "cell_type": "markdown",
   "id": "bd82abcc",
   "metadata": {
    "deletable": false,
    "editable": false
   },
   "source": [
    " "
   ]
  }
 ],
 "metadata": {
  "kernelspec": {
   "display_name": "Python 3 (ipykernel)",
   "language": "python",
   "name": "python3"
  },
  "language_info": {
   "codemirror_mode": {
    "name": "ipython",
    "version": 3
   },
   "file_extension": ".py",
   "mimetype": "text/x-python",
   "name": "python",
   "nbconvert_exporter": "python",
   "pygments_lexer": "ipython3",
   "version": "3.9.13"
  },
  "otter": {
   "OK_FORMAT": true,
   "tests": {
    "cell_test": {
     "name": "cell_test",
     "points": 0,
     "suites": [
      {
       "cases": [
        {
         "code": ">>> p7_test.check(\"qcell_test1\", cell_test1)\nTrue",
         "hidden": false,
         "locked": false
        },
        {
         "code": ">>> p7_test.check(\"qcell_test2\", cell_test2)\nTrue",
         "hidden": false,
         "locked": false
        },
        {
         "code": ">>> p7_test.check(\"qcell_test3\", cell_test3)\nTrue",
         "hidden": false,
         "locked": false
        },
        {
         "code": ">>> p7_test.check(\"qcell_test4\", cell_test4)\nTrue",
         "hidden": false,
         "locked": false
        },
        {
         "code": ">>> p7_test.check(\"qcell_test5\", cell_test5)\nTrue",
         "hidden": false,
         "locked": false
        },
        {
         "code": ">>> p7_test.check(\"qcell_test6\", cell_test6)\nTrue",
         "hidden": false,
         "locked": false
        }
       ],
       "scored": true,
       "setup": "",
       "teardown": "",
       "type": "doctest"
      }
     ]
    },
    "dict_2015": {
     "name": "dict_2015",
     "points": 0,
     "suites": [
      {
       "cases": [
        {
         "code": ">>> p7_test.check(\"qdict_2015_test\", dict_2015)\nTrue",
         "hidden": false,
         "locked": false
        }
       ],
       "scored": true,
       "setup": "",
       "teardown": "",
       "type": "doctest"
      }
     ]
    },
    "dict_2020": {
     "name": "dict_2020",
     "points": 0,
     "suites": [
      {
       "cases": [
        {
         "code": ">>> p7_test.check(\"qdict_2020_test\", dict_2020)\nTrue",
         "hidden": false,
         "locked": false
        }
       ],
       "scored": true,
       "setup": "",
       "teardown": "",
       "type": "doctest"
      }
     ]
    },
    "ds3": {
     "name": "ds3",
     "points": 0,
     "suites": [
      {
       "cases": [
        {
         "code": ">>> p7_test.check(\"qdict_2015_rural_alb_test\", dict_2015)\nTrue",
         "hidden": false,
         "locked": false
        },
        {
         "code": ">>> p7_test.check(\"qdict_2020_rural_alb_test\", dict_2020)\nTrue",
         "hidden": false,
         "locked": false
        }
       ],
       "scored": true,
       "setup": "",
       "teardown": "",
       "type": "doctest"
      }
     ]
    },
    "get_col_dict": {
     "name": "get_col_dict",
     "points": 0,
     "suites": [
      {
       "cases": [
        {
         "code": ">>> p7_test.check(\"qget_col_dict_test1\", get_col_dict_test1)\nTrue",
         "hidden": false,
         "locked": false
        },
        {
         "code": ">>> p7_test.check(\"qget_col_dict_test2\", get_col_dict_test2)\nTrue",
         "hidden": false,
         "locked": false
        },
        {
         "code": ">>> p7_test.check(\"qget_col_dict_test3\", get_col_dict_test3)\nTrue",
         "hidden": false,
         "locked": false
        }
       ],
       "scored": true,
       "setup": "",
       "teardown": "",
       "type": "doctest"
      }
     ]
    },
    "import": {
     "name": "import",
     "points": 0,
     "suites": [
      {
       "cases": [],
       "scored": true,
       "setup": "",
       "teardown": "",
       "type": "doctest"
      }
     ]
    },
    "q1": {
     "name": "q1",
     "points": 0,
     "suites": [
      {
       "cases": [
        {
         "code": ">>> p7_test.check(\"q1\", highest_pop_country)\nTrue",
         "hidden": false,
         "locked": false
        }
       ],
       "scored": true,
       "setup": "",
       "teardown": "",
       "type": "doctest"
      }
     ]
    },
    "q10": {
     "name": "q10",
     "points": 0,
     "suites": [
      {
       "cases": [
        {
         "code": ">>> p7_test.check(\"q10\", chn_2020_dict)\nTrue",
         "hidden": false,
         "locked": false
        }
       ],
       "scored": true,
       "setup": "",
       "teardown": "",
       "type": "doctest"
      }
     ]
    },
    "q11": {
     "name": "q11",
     "points": 0,
     "suites": [
      {
       "cases": [
        {
         "code": ">>> p7_test.check(\"q11\", npl_national_alb_2015)\nTrue",
         "hidden": false,
         "locked": false
        }
       ],
       "scored": true,
       "setup": "",
       "teardown": "",
       "type": "doctest"
      }
     ]
    },
    "q12": {
     "name": "q12",
     "points": 0,
     "suites": [
      {
       "cases": [
        {
         "code": ">>> p7_test.check(\"q12\", population_change_fin)\nTrue",
         "hidden": false,
         "locked": false
        }
       ],
       "scored": true,
       "setup": "",
       "teardown": "",
       "type": "doctest"
      }
     ]
    },
    "q13": {
     "name": "q13",
     "points": 0,
     "suites": [
      {
       "cases": [
        {
         "code": ">>> p7_test.check(\"q13\", income_level_pops)\nTrue",
         "hidden": false,
         "locked": false
        }
       ],
       "scored": true,
       "setup": "",
       "teardown": "",
       "type": "doctest"
      }
     ]
    },
    "q14": {
     "name": "q14",
     "points": 0,
     "suites": [
      {
       "cases": [
        {
         "code": ">>> p7_test.check(\"q14\", income_level_alb_pops)\nTrue",
         "hidden": false,
         "locked": false
        }
       ],
       "scored": true,
       "setup": "",
       "teardown": "",
       "type": "doctest"
      }
     ]
    },
    "q15": {
     "name": "q15",
     "points": 0,
     "suites": [
      {
       "cases": [
        {
         "code": ">>> p7_test.check(\"q15\", income_level_alb_percent)\nTrue",
         "hidden": false,
         "locked": false
        }
       ],
       "scored": true,
       "setup": "",
       "teardown": "",
       "type": "doctest"
      }
     ]
    },
    "q16": {
     "name": "q16",
     "points": 0,
     "suites": [
      {
       "cases": [
        {
         "code": ">>> p7_test.check(\"q16\", zimbabwe_rural_alb_2020)\nTrue",
         "hidden": false,
         "locked": false
        }
       ],
       "scored": true,
       "setup": "",
       "teardown": "",
       "type": "doctest"
      }
     ]
    },
    "q17": {
     "name": "q17",
     "points": 0,
     "suites": [
      {
       "cases": [
        {
         "code": ">>> p7_test.check(\"q17\", bin_20_countries)\nTrue",
         "hidden": false,
         "locked": false
        }
       ],
       "scored": true,
       "setup": "",
       "teardown": "",
       "type": "doctest"
      }
     ]
    },
    "q18": {
     "name": "q18",
     "points": 0,
     "suites": [
      {
       "cases": [
        {
         "code": ">>> p7_test.check(\"q18\", last_non_empty_bin_2020)\nTrue",
         "hidden": false,
         "locked": false
        }
       ],
       "scored": true,
       "setup": "",
       "teardown": "",
       "type": "doctest"
      }
     ]
    },
    "q19": {
     "name": "q19",
     "points": 0,
     "suites": [
      {
       "cases": [
        {
         "code": ">>> p7_test.check(\"q19\", countries_regressed)\nTrue",
         "hidden": false,
         "locked": false
        }
       ],
       "scored": true,
       "setup": "",
       "teardown": "",
       "type": "doctest"
      }
     ]
    },
    "q2": {
     "name": "q2",
     "points": 0,
     "suites": [
      {
       "cases": [
        {
         "code": ">>> p7_test.check(\"q2\", highest_pop_inc_country)\nTrue",
         "hidden": false,
         "locked": false
        }
       ],
       "scored": true,
       "setup": "",
       "teardown": "",
       "type": "doctest"
      }
     ]
    },
    "q20": {
     "name": "q20",
     "points": 0,
     "suites": [
      {
       "cases": [
        {
         "code": ">>> p7_test.check(\"q20\", countries_improved)\nTrue",
         "hidden": false,
         "locked": false
        }
       ],
       "scored": true,
       "setup": "",
       "teardown": "",
       "type": "doctest"
      }
     ]
    },
    "q3": {
     "name": "q3",
     "points": 0,
     "suites": [
      {
       "cases": [
        {
         "code": ">>> p7_test.check(\"q3\", highest_nat_alb_inc_country)\nTrue",
         "hidden": false,
         "locked": false
        }
       ],
       "scored": true,
       "setup": "",
       "teardown": "",
       "type": "doctest"
      }
     ]
    },
    "q4": {
     "name": "q4",
     "points": 0,
     "suites": [
      {
       "cases": [
        {
         "code": ">>> p7_test.check(\"q4\", highest_alb_inc_income_level)\nTrue",
         "hidden": false,
         "locked": false
        }
       ],
       "scored": true,
       "setup": "",
       "teardown": "",
       "type": "doctest"
      }
     ]
    },
    "q5": {
     "name": "q5",
     "points": 0,
     "suites": [
      {
       "cases": [
        {
         "code": ">>> p7_test.check(\"q5\", total_pop_2015)\nTrue",
         "hidden": false,
         "locked": false
        }
       ],
       "scored": true,
       "setup": "",
       "teardown": "",
       "type": "doctest"
      }
     ]
    },
    "q6": {
     "name": "q6",
     "points": 0,
     "suites": [
      {
       "cases": [
        {
         "code": ">>> p7_test.check(\"q6\", urban_pop_percent_2015)\nTrue",
         "hidden": false,
         "locked": false
        }
       ],
       "scored": true,
       "setup": "",
       "teardown": "",
       "type": "doctest"
      }
     ]
    },
    "q7": {
     "name": "q7",
     "points": 0,
     "suites": [
      {
       "cases": [
        {
         "code": ">>> p7_test.check(\"q7\", high_income_pop)\nTrue",
         "hidden": false,
         "locked": false
        }
       ],
       "scored": true,
       "setup": "",
       "teardown": "",
       "type": "doctest"
      }
     ]
    },
    "q8": {
     "name": "q8",
     "points": 0,
     "suites": [
      {
       "cases": [
        {
         "code": ">>> p7_test.check(\"q8\", least_pop_income_group)\nTrue",
         "hidden": false,
         "locked": false
        }
       ],
       "scored": true,
       "setup": "",
       "teardown": "",
       "type": "doctest"
      }
     ]
    },
    "q9": {
     "name": "q9",
     "points": 0,
     "suites": [
      {
       "cases": [
        {
         "code": ">>> p7_test.check(\"q9\", na_max_alb_countries)\nTrue",
         "hidden": false,
         "locked": false
        }
       ],
       "scored": true,
       "setup": "",
       "teardown": "",
       "type": "doctest"
      }
     ]
    },
    "rubric-f1": {
     "name": "rubric-f1",
     "points": 3,
     "suites": [
      {
       "cases": [],
       "scored": true,
       "setup": "",
       "teardown": "",
       "type": "doctest"
      }
     ]
    },
    "rubric-f2": {
     "name": "rubric-f2",
     "points": 3,
     "suites": [
      {
       "cases": [],
       "scored": true,
       "setup": "",
       "teardown": "",
       "type": "doctest"
      }
     ]
    },
    "rubric-q1": {
     "name": "rubric-q1",
     "points": 4,
     "suites": [
      {
       "cases": [],
       "scored": true,
       "setup": "",
       "teardown": "",
       "type": "doctest"
      }
     ]
    },
    "rubric-q10": {
     "name": "rubric-q10",
     "points": 2,
     "suites": [
      {
       "cases": [],
       "scored": true,
       "setup": "",
       "teardown": "",
       "type": "doctest"
      }
     ]
    },
    "rubric-q11": {
     "name": "rubric-q11",
     "points": 2,
     "suites": [
      {
       "cases": [],
       "scored": true,
       "setup": "",
       "teardown": "",
       "type": "doctest"
      }
     ]
    },
    "rubric-q12": {
     "name": "rubric-q12",
     "points": 3,
     "suites": [
      {
       "cases": [],
       "scored": true,
       "setup": "",
       "teardown": "",
       "type": "doctest"
      }
     ]
    },
    "rubric-q13": {
     "name": "rubric-q13",
     "points": 4,
     "suites": [
      {
       "cases": [],
       "scored": true,
       "setup": "",
       "teardown": "",
       "type": "doctest"
      }
     ]
    },
    "rubric-q14": {
     "name": "rubric-q14",
     "points": 4,
     "suites": [
      {
       "cases": [],
       "scored": true,
       "setup": "",
       "teardown": "",
       "type": "doctest"
      }
     ]
    },
    "rubric-q15": {
     "name": "rubric-q15",
     "points": 4,
     "suites": [
      {
       "cases": [],
       "scored": true,
       "setup": "",
       "teardown": "",
       "type": "doctest"
      }
     ]
    },
    "rubric-q16": {
     "name": "rubric-q16",
     "points": 2,
     "suites": [
      {
       "cases": [],
       "scored": true,
       "setup": "",
       "teardown": "",
       "type": "doctest"
      }
     ]
    },
    "rubric-q17": {
     "name": "rubric-q17",
     "points": 2,
     "suites": [
      {
       "cases": [],
       "scored": true,
       "setup": "",
       "teardown": "",
       "type": "doctest"
      }
     ]
    },
    "rubric-q18": {
     "name": "rubric-q18",
     "points": 4,
     "suites": [
      {
       "cases": [],
       "scored": true,
       "setup": "",
       "teardown": "",
       "type": "doctest"
      }
     ]
    },
    "rubric-q19": {
     "name": "rubric-q19",
     "points": 5,
     "suites": [
      {
       "cases": [],
       "scored": true,
       "setup": "",
       "teardown": "",
       "type": "doctest"
      }
     ]
    },
    "rubric-q2": {
     "name": "rubric-q2",
     "points": 4,
     "suites": [
      {
       "cases": [],
       "scored": true,
       "setup": "",
       "teardown": "",
       "type": "doctest"
      }
     ]
    },
    "rubric-q20": {
     "name": "rubric-q20",
     "points": 5,
     "suites": [
      {
       "cases": [],
       "scored": true,
       "setup": "",
       "teardown": "",
       "type": "doctest"
      }
     ]
    },
    "rubric-q3": {
     "name": "rubric-q3",
     "points": 4,
     "suites": [
      {
       "cases": [],
       "scored": true,
       "setup": "",
       "teardown": "",
       "type": "doctest"
      }
     ]
    },
    "rubric-q4": {
     "name": "rubric-q4",
     "points": 4,
     "suites": [
      {
       "cases": [],
       "scored": true,
       "setup": "",
       "teardown": "",
       "type": "doctest"
      }
     ]
    },
    "rubric-q5": {
     "name": "rubric-q5",
     "points": 4,
     "suites": [
      {
       "cases": [],
       "scored": true,
       "setup": "",
       "teardown": "",
       "type": "doctest"
      }
     ]
    },
    "rubric-q6": {
     "name": "rubric-q6",
     "points": 4,
     "suites": [
      {
       "cases": [],
       "scored": true,
       "setup": "",
       "teardown": "",
       "type": "doctest"
      }
     ]
    },
    "rubric-q7": {
     "name": "rubric-q7",
     "points": 4,
     "suites": [
      {
       "cases": [],
       "scored": true,
       "setup": "",
       "teardown": "",
       "type": "doctest"
      }
     ]
    },
    "rubric-q8": {
     "name": "rubric-q8",
     "points": 5,
     "suites": [
      {
       "cases": [],
       "scored": true,
       "setup": "",
       "teardown": "",
       "type": "doctest"
      }
     ]
    },
    "rubric-q9": {
     "name": "rubric-q9",
     "points": 4,
     "suites": [
      {
       "cases": [],
       "scored": true,
       "setup": "",
       "teardown": "",
       "type": "doctest"
      }
     ]
    },
    "rural_non_alb_bins": {
     "name": "rural_non_alb_bins",
     "points": 0,
     "suites": [
      {
       "cases": [
        {
         "code": ">>> p7_test.check(\"qrural_non_alb_bin_2015\", rural_non_alb_bin_2015_dict)\nTrue",
         "hidden": false,
         "locked": false
        },
        {
         "code": ">>> p7_test.check(\"qrural_non_alb_bin_2020\", rural_non_alb_bin_2020_dict)\nTrue",
         "hidden": false,
         "locked": false
        }
       ],
       "scored": true,
       "setup": "",
       "teardown": "",
       "type": "doctest"
      }
     ]
    }
   }
  }
 },
 "nbformat": 4,
 "nbformat_minor": 5
}
